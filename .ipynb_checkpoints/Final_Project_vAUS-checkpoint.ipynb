{
 "cells": [
  {
   "cell_type": "markdown",
   "metadata": {},
   "source": [
    "# CS109 Final Project Process Book"
   ]
  },
  {
   "cell_type": "markdown",
   "metadata": {},
   "source": [
    "## Background & Motivation\n",
    "Social media and entertainment are such pervasive parts of millennials' lives. We want to study the intersection of these two. Is it possible to predict box office success of film through sentiments expressed on social media? Stay tuned for more!"
   ]
  },
  {
   "cell_type": "markdown",
   "metadata": {},
   "source": [
    "## Table of Contents\n",
    "* [CS109 Final Project Process Book](#CS109-Final-Project-Process-Book)\n",
    "\t* [Milestone 1: Scrape and prepare data before thanksgiving](#Milestone-1:-Scrape-and-prepare-data-before-thanksgiving)\n",
    "\t\t* [Scraping and cleaning Box Office Mojo](#Scraping-and-cleaning-Box-Office-Mojo)\n",
    "\t\t* [Loading and preparing IMDB review dataset](#Loading-and-preparing-IMDB-review-dataset)\n",
    "\t\t* [Loading and preparing AFINN dictionary](#Loading-and-preparing-AFINN-dictionary)\n",
    "\t* [Milestone 2: Analysing and visualizing the data](#Milestone-2:-Analysing-and-visualizing-the-data)\n",
    "\t\t* [Descriptive statistics](#Descriptive-statistics)\n",
    "\t\t* [Analysis](#Analysis)\n",
    "        * [Visualization](#Visualization)\n",
    "\t* [Milestone 3: Video and finishing touches](#Milestone-3:-Video-and-finishing-touches)\n",
    "\t\t* [Screencast video](#Screencast-video)\n",
    "\t\t* [Website](#Website)\n",
    "\t\t* [Finishing touches](#Finishing-touches)"
   ]
  },
  {
   "cell_type": "code",
   "execution_count": 1,
   "metadata": {
    "collapsed": true
   },
   "outputs": [],
   "source": [
    "%matplotlib inline\n",
    "import numpy as np\n",
    "import scipy as sp\n",
    "import matplotlib as mpl\n",
    "import matplotlib.cm as cm\n",
    "import matplotlib.pyplot as plt\n",
    "import pandas as pd\n",
    "import time\n",
    "import json\n",
    "import statsmodels.api as sm\n",
    "from statsmodels.formula.api import glm, ols\n",
    "\n",
    "pd.set_option('display.width', 500)\n",
    "pd.set_option('display.max_columns', 100)\n",
    "pd.set_option('display.notebook_repr_html', True)\n",
    "import seaborn as sns\n",
    "sns.set_style(\"whitegrid\")\n",
    "sns.set_context(\"poster\")\n",
    "import math"
   ]
  },
  {
   "cell_type": "markdown",
   "metadata": {},
   "source": [
    "## Milestone 1: Scrape and prepare data before thanksgiving"
   ]
  },
  {
   "cell_type": "markdown",
   "metadata": {},
   "source": [
    "For our project we will be using data from 3 different sources\n",
    " <ul><b>Box Office Mojo (BOM)</b> (http://www.boxofficemojo.com) is a website that aggregates, in a table, a list of all movies released in a year and attributes such as how much it grossed in the opening week, how much it grossed in total and how long it aired for </ul>\n",
    " <ul><b>Large Movie Review Dataset</b> (http://ai.stanford.edu/~amaas/data/sentiment/) is a polarized dataset of movie reviews from IMDB prepared by Maas et al from Stanford. The dataset contains 25,000 entries in the training set and 25,000 entries in the test set. </ul>\n",
    " <ul><b>AFINN-111 Dictionary</b> (http://www2.imm.dtu.dk/pubdb/views/publication_details.php?id=60100) is a dictionary list of 2477 english words and phrases rated for valence with an integer from -5 to 5. Originally prepared by Finn Årup Nielsen</ul><br>\n",
    "In this first milestone, we will get all the data into a format that we can start running analysis on!"
   ]
  },
  {
   "cell_type": "markdown",
   "metadata": {},
   "source": [
    "### Scraping and cleaning Box Office Mojo"
   ]
  },
  {
   "cell_type": "markdown",
   "metadata": {},
   "source": [
    "First we import the `requests` and `BeautifulSoup` libraries to make working with HTTP requests easier, and then easily transfer HTML content to Python data structures."
   ]
  },
  {
   "cell_type": "code",
   "execution_count": 2,
   "metadata": {
    "collapsed": true
   },
   "outputs": [],
   "source": [
    "from bs4 import BeautifulSoup\n",
    "# The \"requests\" library makes working with HTTP requests easier\n",
    "# than the built-in urllib libraries.\n",
    "import requests"
   ]
  },
  {
   "cell_type": "markdown",
   "metadata": {},
   "source": [
    "Secondly, we prepare the data frame `movie_df` to store the data that we will scrape from BOM. We give this dataframe 9 columns: <br>\n",
    "    * ranking: the ranking of the movie in its release year by gross\n",
    "    * title: movie title\n",
    "    * gross: how much the movie grossed while in theatres\n",
    "    * Total_theaters: the total number of theaters that showed this movie\n",
    "    * opening_gross: how much the movie grossed in the opening weekend (Fri-Sun)\n",
    "    * opening_theaters: the total number of theaters that showed this movie in the opening weekend (Fri-Sun)\n",
    "    * open_date: date of opening\n",
    "    * close_date: date of closing\n",
    "    * year: year of release"
   ]
  },
  {
   "cell_type": "code",
   "execution_count": 3,
   "metadata": {
    "collapsed": false
   },
   "outputs": [],
   "source": [
    "movie_df = pd.DataFrame(columns=['close_date', 'gross', 'open_date', 'opening_gross', 'opening_theaters','ranking','title','total_theaters','year'])"
   ]
  },
  {
   "cell_type": "markdown",
   "metadata": {},
   "source": [
    "Now we write a function `rowInfoGrabber` that we will call in a loop over the table on the BOM webpage to grab the attributes and save them into the corresponding columns in `movie_df`."
   ]
  },
  {
   "cell_type": "code",
   "execution_count": 4,
   "metadata": {
    "collapsed": true
   },
   "outputs": [],
   "source": [
    "def rowInfoGrabber(r):\n",
    "    info = []\n",
    "    # Ranking\n",
    "    info.append(int(r.find(\"font\").get_text()))\n",
    "    # Title\n",
    "    info.append(r.find(\"a\").get_text())\n",
    "    # Gross\n",
    "    info.append(int(r.find(\"td\", attrs={\"align\":\"right\"}).find(\"b\").get_text().strip(\"$\").replace(\",\",\"\")))\n",
    "    '''\n",
    "    For the next 3 categories, we need to deal with the 2000 Anomaly \"Fantasia\" where there are missing numbers.\n",
    "    In this case I have chosen to replace the missing values 'N/A' with the values from 'Final Destination', which\n",
    "    if right above it in the movie table and differs in gross income by about $1 million, which is a small \n",
    "    difference. See the picture below for a snapshot of the anomaly in the movie table from 2000.\n",
    "    '''\n",
    "    # Total number of theaters\n",
    "    if r.find_all(\"td\",attrs={\"align\":\"right\"})[1].find(\"font\").get_text().replace(\",\",\"\") == 'N/A':\n",
    "        info.append(2587)\n",
    "    else:\n",
    "        info.append(int(r.find_all(\"td\",attrs={\"align\":\"right\"})[1].find(\"font\").get_text().replace(\",\",\"\")))\n",
    "    # Opening Gross\n",
    "    if r.find_all(\"td\", attrs={\"align\":\"right\"})[2].find(\"font\").get_text().strip(\"$\").replace(\",\",\"\") == 'N/A':\n",
    "        info.append(10015822)\n",
    "    else: \n",
    "        info.append(int(r.find_all(\"td\", attrs={\"align\":\"right\"})[2].find(\"font\").get_text().strip(\"$\").replace(\",\",\"\")))\n",
    "    # Opening Number of Theaters\n",
    "    if r.find_all(\"td\", attrs={\"align\":\"right\"})[3].find(\"font\").get_text().replace(\",\",\"\") == 'N/A':\n",
    "        info.append(2587)\n",
    "    else:\n",
    "        info.append(int(r.find_all(\"td\", attrs={\"align\":\"right\"})[3].find(\"font\").get_text().replace(\",\",\"\")))\n",
    "    # Date of Opening\n",
    "    info.append(r.find_all(\"td\", attrs={\"align\":\"right\"})[4].find(\"a\").get_text())\n",
    "    # Date of Closing: Before 2002 they didn't have a \"closing\" date in their tables. We must account for this.\n",
    "    if (len(r.find_all(\"td\", attrs={\"align\":\"right\"})) <= 5):\n",
    "        info.append('-')\n",
    "    else:\n",
    "        info.append(r.find_all(\"td\", attrs={\"align\":\"right\"})[5].find(\"font\").get_text())\n",
    "    return info"
   ]
  },
  {
   "cell_type": "markdown",
   "metadata": {},
   "source": [
    "This is the image: <image src=“Example.png”>"
   ]
  },
  {
   "cell_type": "code",
   "execution_count": 5,
   "metadata": {
    "collapsed": true
   },
   "outputs": [],
   "source": [
    "fields = [\"ranking\", \"title\", \"gross\", \"total_theaters\", \"opening_gross\", \"opening_theaters\", \"open_date\", \"close_date\"]"
   ]
  },
  {
   "cell_type": "markdown",
   "metadata": {
    "collapsed": true
   },
   "source": [
    "Finally we're ready to scrape! <br>\n",
    "Because IMDB was created in 1990, we will scrape that far back in BOM. So we're scraping the past 26 years (1990 - 2015). Also note that because the HTML was changed starting in 2001, our scraping will be a little different before and after then."
   ]
  },
  {
   "cell_type": "code",
   "execution_count": 6,
   "metadata": {
    "collapsed": false
   },
   "outputs": [
    {
     "name": "stdout",
     "output_type": "stream",
     "text": [
      "1990\n",
      "1991\n",
      "1992\n",
      "1993\n",
      "1994\n",
      "1995\n",
      "1996\n",
      "1997\n",
      "1998\n",
      "1999\n",
      "2000\n",
      "2001\n",
      "2002\n",
      "2003\n",
      "2004\n",
      "2005\n",
      "2006\n",
      "2007\n",
      "2008\n",
      "2009\n",
      "2010\n",
      "2011\n",
      "2012\n",
      "2013\n",
      "2014\n",
      "2015\n",
<<<<<<< HEAD
      "CPU times: user 13.3 s, sys: 206 ms, total: 13.5 s\n",
      "Wall time: 44.9 s\n"
=======
      "CPU times: user 13.1 s, sys: 240 ms, total: 13.4 s\n",
      "Wall time: 44.2 s\n"
>>>>>>> master
     ]
    }
   ],
   "source": [
    "%%time\n",
    "years = [1990 + i for i in range(26)]\n",
    "for year in years:\n",
    "    pageText = requests.get(\"http://www.boxofficemojo.com/yearly/chart/?yr=%(yr)d&p=.htm\" % {'yr':year})\n",
    "    soup = BeautifulSoup(pageText.text, \"html.parser\")\n",
    "    movieTable = soup.find(\"td\", attrs={\"colspan\":\"3\"})\n",
    "    movieRows = movieTable.find(\"table\").find_all(\"tr\")[2:102]\n",
    "    print year\n",
    "    movie_dicts = [dict(zip(fields, rowInfoGrabber(row))) for row in movieRows]\n",
    "    year_df = pd.DataFrame(movie_dicts)\n",
    "    year_df['year'] = year\n",
    "    movie_df = movie_df.append(year_df, ignore_index=True)\n",
    "    time.sleep(1)"
   ]
  },
  {
   "cell_type": "code",
   "execution_count": 7,
   "metadata": {
    "collapsed": false
   },
   "outputs": [
    {
     "data": {
      "text/plain": [
       "(2600, 9)"
      ]
     },
     "execution_count": 7,
     "metadata": {},
     "output_type": "execute_result"
    }
   ],
   "source": [
    "movie_df.shape"
   ]
  },
  {
   "cell_type": "code",
   "execution_count": 8,
   "metadata": {
    "collapsed": false
   },
   "outputs": [
    {
     "data": {
      "text/html": [
       "<div>\n",
       "<table border=\"1\" class=\"dataframe\">\n",
       "  <thead>\n",
       "    <tr style=\"text-align: right;\">\n",
       "      <th></th>\n",
       "      <th>close_date</th>\n",
       "      <th>gross</th>\n",
       "      <th>open_date</th>\n",
       "      <th>opening_gross</th>\n",
       "      <th>opening_theaters</th>\n",
       "      <th>ranking</th>\n",
       "      <th>title</th>\n",
       "      <th>total_theaters</th>\n",
       "      <th>year</th>\n",
       "    </tr>\n",
       "  </thead>\n",
       "  <tbody>\n",
       "    <tr>\n",
       "      <th>0</th>\n",
       "      <td>-</td>\n",
       "      <td>285761243</td>\n",
       "      <td>11/16</td>\n",
       "      <td>17081997</td>\n",
       "      <td>1202</td>\n",
       "      <td>1</td>\n",
       "      <td>Home Alone</td>\n",
       "      <td>2173</td>\n",
       "      <td>1990</td>\n",
       "    </tr>\n",
       "    <tr>\n",
       "      <th>1</th>\n",
       "      <td>-</td>\n",
       "      <td>217631306</td>\n",
       "      <td>7/13</td>\n",
       "      <td>12191540</td>\n",
       "      <td>1101</td>\n",
       "      <td>2</td>\n",
       "      <td>Ghost</td>\n",
       "      <td>1766</td>\n",
       "      <td>1990</td>\n",
       "    </tr>\n",
       "    <tr>\n",
       "      <th>2</th>\n",
       "      <td>-</td>\n",
       "      <td>184208848</td>\n",
       "      <td>11/9</td>\n",
       "      <td>598257</td>\n",
       "      <td>14</td>\n",
       "      <td>3</td>\n",
       "      <td>Dances with Wolves</td>\n",
       "      <td>1636</td>\n",
       "      <td>1990</td>\n",
       "    </tr>\n",
       "    <tr>\n",
       "      <th>3</th>\n",
       "      <td>-</td>\n",
       "      <td>178406268</td>\n",
       "      <td>3/23</td>\n",
       "      <td>11280591</td>\n",
       "      <td>1325</td>\n",
       "      <td>4</td>\n",
       "      <td>Pretty Woman</td>\n",
       "      <td>1811</td>\n",
       "      <td>1990</td>\n",
       "    </tr>\n",
       "    <tr>\n",
       "      <th>4</th>\n",
       "      <td>-</td>\n",
       "      <td>135265915</td>\n",
       "      <td>3/30</td>\n",
       "      <td>25398367</td>\n",
       "      <td>2006</td>\n",
       "      <td>5</td>\n",
       "      <td>Teenage Mutant Ninja Turtles</td>\n",
       "      <td>2377</td>\n",
       "      <td>1990</td>\n",
       "    </tr>\n",
       "  </tbody>\n",
       "</table>\n",
       "</div>"
      ],
      "text/plain": [
       "  close_date      gross open_date  opening_gross  opening_theaters  ranking                         title  total_theaters  year\n",
       "0          -  285761243     11/16       17081997              1202        1                    Home Alone            2173  1990\n",
       "1          -  217631306      7/13       12191540              1101        2                         Ghost            1766  1990\n",
       "2          -  184208848      11/9         598257                14        3            Dances with Wolves            1636  1990\n",
       "3          -  178406268      3/23       11280591              1325        4                  Pretty Woman            1811  1990\n",
       "4          -  135265915      3/30       25398367              2006        5  Teenage Mutant Ninja Turtles            2377  1990"
      ]
     },
     "execution_count": 8,
     "metadata": {},
     "output_type": "execute_result"
    }
   ],
   "source": [
    "movie_df.head()"
   ]
  },
  {
   "cell_type": "markdown",
   "metadata": {},
   "source": [
    "Because some films do not have a close date, we will have to be careful with the close date!"
   ]
  },
  {
   "cell_type": "code",
   "execution_count": 9,
   "metadata": {
    "collapsed": false
   },
   "outputs": [],
   "source": [
    "# if we decide it's worth just dumping the movies with no close_date, we can use the code below\n",
    "# movie_df=movie_df[movie_df.close_date != '-'].reset_index(drop=True)"
   ]
  },
  {
   "cell_type": "markdown",
   "metadata": {},
   "source": [
    "Next, we combine the `close_date`, `open_date` and `year` columns into two columns `close_date` and `open_date` that are time series. This will make it easier for us to work with the data in the future. "
   ]
  },
  {
   "cell_type": "code",
   "execution_count": 9,
   "metadata": {
    "collapsed": false
   },
   "outputs": [],
   "source": [
    "# splitting the close_date and open_date into the respective month and day\n",
    "movie_df['close_month'] = movie_df['close_date'].map(lambda x: '0' if x=='-' else x[:x.find('/')])\n",
    "movie_df['close_day'] = movie_df['close_date'].map(lambda x: '0' if x=='-' else x[x.find('/')+1:len(x)])\n",
    "movie_df['open_month'] = movie_df['open_date'].map(lambda x: x[:x.find('/')])\n",
    "movie_df['open_day'] = movie_df['open_date'].map(lambda x: x[x.find('/')+1:len(x)])\n",
    "\n",
    "# dropping the old close_date and open_date\n",
    "movie_df = movie_df.drop('close_date', 1)\n",
    "movie_df = movie_df.drop('open_date', 1)\n",
    "\n",
    "# creating an open_year by turning the year column into a string and getting rid of trailing bits\n",
    "movie_df['open_year'] = movie_df.year.astype(str)\n",
    "movie_df['open_year'] = movie_df.open_year.map(lambda x: x[:x.find('.')])\n",
    "\n",
    "# creating a close_year column, by looking at whether the close month is earlier/later than the open month in the year\n",
    "close_month = movie_df['close_month'].astype(int)\n",
    "open_month = movie_df['open_month'].astype(int)\n",
    "year = movie_df['year'].astype(int)\n",
    "close_year=[]\n",
    "for i in range (0, len(year)):\n",
    "    if close_month[i] >= open_month[i]:\n",
    "        close_year.append(year[i])\n",
    "    else:\n",
    "        close_year.append(year[i]+1) \n",
    "movie_df['close_year'] = close_year\n",
    "movie_df['close_year'] = movie_df['close_year'].astype(str)"
   ]
  },
  {
   "cell_type": "code",
   "execution_count": 10,
   "metadata": {
    "collapsed": false
   },
   "outputs": [
    {
     "data": {
      "text/html": [
       "<div>\n",
       "<table border=\"1\" class=\"dataframe\">\n",
       "  <thead>\n",
       "    <tr style=\"text-align: right;\">\n",
       "      <th></th>\n",
       "      <th>gross</th>\n",
       "      <th>opening_gross</th>\n",
       "      <th>opening_theaters</th>\n",
       "      <th>ranking</th>\n",
       "      <th>title</th>\n",
       "      <th>total_theaters</th>\n",
       "      <th>year</th>\n",
       "      <th>close_month</th>\n",
       "      <th>close_day</th>\n",
       "      <th>open_month</th>\n",
       "      <th>open_day</th>\n",
       "      <th>open_year</th>\n",
       "      <th>close_year</th>\n",
       "    </tr>\n",
       "  </thead>\n",
       "  <tbody>\n",
       "    <tr>\n",
       "      <th>0</th>\n",
       "      <td>285761243</td>\n",
       "      <td>17081997</td>\n",
       "      <td>1202</td>\n",
       "      <td>1</td>\n",
       "      <td>Home Alone</td>\n",
       "      <td>2173</td>\n",
       "      <td>1990</td>\n",
       "      <td>0</td>\n",
       "      <td>0</td>\n",
       "      <td>11</td>\n",
       "      <td>16</td>\n",
       "      <td>1990</td>\n",
       "      <td>1991</td>\n",
       "    </tr>\n",
       "    <tr>\n",
       "      <th>1</th>\n",
       "      <td>217631306</td>\n",
       "      <td>12191540</td>\n",
       "      <td>1101</td>\n",
       "      <td>2</td>\n",
       "      <td>Ghost</td>\n",
       "      <td>1766</td>\n",
       "      <td>1990</td>\n",
       "      <td>0</td>\n",
       "      <td>0</td>\n",
       "      <td>7</td>\n",
       "      <td>13</td>\n",
       "      <td>1990</td>\n",
       "      <td>1991</td>\n",
       "    </tr>\n",
       "    <tr>\n",
       "      <th>2</th>\n",
       "      <td>184208848</td>\n",
       "      <td>598257</td>\n",
       "      <td>14</td>\n",
       "      <td>3</td>\n",
       "      <td>Dances with Wolves</td>\n",
       "      <td>1636</td>\n",
       "      <td>1990</td>\n",
       "      <td>0</td>\n",
       "      <td>0</td>\n",
       "      <td>11</td>\n",
       "      <td>9</td>\n",
       "      <td>1990</td>\n",
       "      <td>1991</td>\n",
       "    </tr>\n",
       "    <tr>\n",
       "      <th>3</th>\n",
       "      <td>178406268</td>\n",
       "      <td>11280591</td>\n",
       "      <td>1325</td>\n",
       "      <td>4</td>\n",
       "      <td>Pretty Woman</td>\n",
       "      <td>1811</td>\n",
       "      <td>1990</td>\n",
       "      <td>0</td>\n",
       "      <td>0</td>\n",
       "      <td>3</td>\n",
       "      <td>23</td>\n",
       "      <td>1990</td>\n",
       "      <td>1991</td>\n",
       "    </tr>\n",
       "    <tr>\n",
       "      <th>4</th>\n",
       "      <td>135265915</td>\n",
       "      <td>25398367</td>\n",
       "      <td>2006</td>\n",
       "      <td>5</td>\n",
       "      <td>Teenage Mutant Ninja Turtles</td>\n",
       "      <td>2377</td>\n",
       "      <td>1990</td>\n",
       "      <td>0</td>\n",
       "      <td>0</td>\n",
       "      <td>3</td>\n",
       "      <td>30</td>\n",
       "      <td>1990</td>\n",
       "      <td>1991</td>\n",
       "    </tr>\n",
       "  </tbody>\n",
       "</table>\n",
       "</div>"
      ],
      "text/plain": [
       "       gross  opening_gross  opening_theaters  ranking                         title  total_theaters  year close_month close_day open_month open_day open_year close_year\n",
       "0  285761243       17081997              1202        1                    Home Alone            2173  1990           0         0         11       16      1990       1991\n",
       "1  217631306       12191540              1101        2                         Ghost            1766  1990           0         0          7       13      1990       1991\n",
       "2  184208848         598257                14        3            Dances with Wolves            1636  1990           0         0         11        9      1990       1991\n",
       "3  178406268       11280591              1325        4                  Pretty Woman            1811  1990           0         0          3       23      1990       1991\n",
       "4  135265915       25398367              2006        5  Teenage Mutant Ninja Turtles            2377  1990           0         0          3       30      1990       1991"
      ]
     },
     "execution_count": 10,
     "metadata": {},
     "output_type": "execute_result"
    }
   ],
   "source": [
    "movie_df.head()"
   ]
  },
  {
   "cell_type": "markdown",
   "metadata": {},
   "source": [
    "Let's take a look at the data, now!"
   ]
  },
  {
   "cell_type": "code",
   "execution_count": 11,
   "metadata": {
    "collapsed": false
   },
   "outputs": [
    {
     "data": {
      "text/html": [
       "<div>\n",
       "<table border=\"1\" class=\"dataframe\">\n",
       "  <thead>\n",
       "    <tr style=\"text-align: right;\">\n",
       "      <th></th>\n",
       "      <th>gross</th>\n",
       "      <th>opening_gross</th>\n",
       "      <th>opening_theaters</th>\n",
       "      <th>ranking</th>\n",
       "      <th>title</th>\n",
       "      <th>total_theaters</th>\n",
       "      <th>year</th>\n",
       "      <th>close_month</th>\n",
       "      <th>close_day</th>\n",
       "      <th>open_month</th>\n",
       "      <th>open_day</th>\n",
       "      <th>open_year</th>\n",
       "      <th>close_year</th>\n",
       "    </tr>\n",
       "  </thead>\n",
       "  <tbody>\n",
       "    <tr>\n",
       "      <th>0</th>\n",
       "      <td>285761243</td>\n",
       "      <td>17081997</td>\n",
       "      <td>1202</td>\n",
       "      <td>1</td>\n",
       "      <td>Home Alone</td>\n",
       "      <td>2173</td>\n",
       "      <td>1990</td>\n",
       "      <td>0</td>\n",
       "      <td>0</td>\n",
       "      <td>11</td>\n",
       "      <td>16</td>\n",
       "      <td>1990</td>\n",
       "      <td>1991</td>\n",
       "    </tr>\n",
       "    <tr>\n",
       "      <th>1</th>\n",
       "      <td>217631306</td>\n",
       "      <td>12191540</td>\n",
       "      <td>1101</td>\n",
       "      <td>2</td>\n",
       "      <td>Ghost</td>\n",
       "      <td>1766</td>\n",
       "      <td>1990</td>\n",
       "      <td>0</td>\n",
       "      <td>0</td>\n",
       "      <td>7</td>\n",
       "      <td>13</td>\n",
       "      <td>1990</td>\n",
       "      <td>1991</td>\n",
       "    </tr>\n",
       "    <tr>\n",
       "      <th>2</th>\n",
       "      <td>184208848</td>\n",
       "      <td>598257</td>\n",
       "      <td>14</td>\n",
       "      <td>3</td>\n",
       "      <td>Dances with Wolves</td>\n",
       "      <td>1636</td>\n",
       "      <td>1990</td>\n",
       "      <td>0</td>\n",
       "      <td>0</td>\n",
       "      <td>11</td>\n",
       "      <td>9</td>\n",
       "      <td>1990</td>\n",
       "      <td>1991</td>\n",
       "    </tr>\n",
       "    <tr>\n",
       "      <th>3</th>\n",
       "      <td>178406268</td>\n",
       "      <td>11280591</td>\n",
       "      <td>1325</td>\n",
       "      <td>4</td>\n",
       "      <td>Pretty Woman</td>\n",
       "      <td>1811</td>\n",
       "      <td>1990</td>\n",
       "      <td>0</td>\n",
       "      <td>0</td>\n",
       "      <td>3</td>\n",
       "      <td>23</td>\n",
       "      <td>1990</td>\n",
       "      <td>1991</td>\n",
       "    </tr>\n",
       "    <tr>\n",
       "      <th>4</th>\n",
       "      <td>135265915</td>\n",
       "      <td>25398367</td>\n",
       "      <td>2006</td>\n",
       "      <td>5</td>\n",
       "      <td>Teenage Mutant Ninja Turtles</td>\n",
       "      <td>2377</td>\n",
       "      <td>1990</td>\n",
       "      <td>0</td>\n",
       "      <td>0</td>\n",
       "      <td>3</td>\n",
       "      <td>30</td>\n",
       "      <td>1990</td>\n",
       "      <td>1991</td>\n",
       "    </tr>\n",
       "  </tbody>\n",
       "</table>\n",
       "</div>"
      ],
      "text/plain": [
       "       gross  opening_gross  opening_theaters  ranking                         title  total_theaters  year close_month close_day open_month open_day open_year close_year\n",
       "0  285761243       17081997              1202        1                    Home Alone            2173  1990           0         0         11       16      1990       1991\n",
       "1  217631306       12191540              1101        2                         Ghost            1766  1990           0         0          7       13      1990       1991\n",
       "2  184208848         598257                14        3            Dances with Wolves            1636  1990           0         0         11        9      1990       1991\n",
       "3  178406268       11280591              1325        4                  Pretty Woman            1811  1990           0         0          3       23      1990       1991\n",
       "4  135265915       25398367              2006        5  Teenage Mutant Ninja Turtles            2377  1990           0         0          3       30      1990       1991"
      ]
     },
     "execution_count": 11,
     "metadata": {},
     "output_type": "execute_result"
    }
   ],
   "source": [
    "movie_df.head()"
   ]
  },
  {
   "cell_type": "markdown",
   "metadata": {},
   "source": [
    "Let's take a look at if we can get the run times for each movie!"
   ]
  },
  {
   "cell_type": "code",
   "execution_count": 14,
   "metadata": {
    "collapsed": false
   },
   "outputs": [
    {
     "ename": "AttributeError",
     "evalue": "'Series' object has no attribute 'close_date'",
     "output_type": "error",
     "traceback": [
      "\u001b[0;31m---------------------------------------------------------------------------\u001b[0m",
      "\u001b[0;31mAttributeError\u001b[0m                            Traceback (most recent call last)",
      "\u001b[0;32m<ipython-input-14-90b495e926a8>\u001b[0m in \u001b[0;36m<module>\u001b[0;34m()\u001b[0m\n\u001b[1;32m      1\u001b[0m \u001b[0mrun_time\u001b[0m\u001b[0;34m=\u001b[0m\u001b[0;34m[\u001b[0m\u001b[0;34m]\u001b[0m\u001b[0;34m\u001b[0m\u001b[0m\n\u001b[1;32m      2\u001b[0m \u001b[0;32mfor\u001b[0m \u001b[0mindex\u001b[0m\u001b[0;34m,\u001b[0m \u001b[0mrow\u001b[0m \u001b[0;32min\u001b[0m \u001b[0mmovie_df\u001b[0m\u001b[0;34m.\u001b[0m\u001b[0miterrows\u001b[0m\u001b[0;34m(\u001b[0m\u001b[0;34m)\u001b[0m\u001b[0;34m:\u001b[0m\u001b[0;34m\u001b[0m\u001b[0m\n\u001b[0;32m----> 3\u001b[0;31m     \u001b[0;32mif\u001b[0m \u001b[0mrow\u001b[0m\u001b[0;34m.\u001b[0m\u001b[0mclose_date\u001b[0m \u001b[0;34m!=\u001b[0m \u001b[0mNone\u001b[0m\u001b[0;34m:\u001b[0m\u001b[0;34m\u001b[0m\u001b[0m\n\u001b[0m\u001b[1;32m      4\u001b[0m         \u001b[0mrun_time\u001b[0m\u001b[0;34m.\u001b[0m\u001b[0mappend\u001b[0m\u001b[0;34m(\u001b[0m\u001b[0mrow\u001b[0m\u001b[0;34m[\u001b[0m\u001b[0;34m'close_date'\u001b[0m\u001b[0;34m]\u001b[0m\u001b[0;34m-\u001b[0m\u001b[0mrow\u001b[0m\u001b[0;34m[\u001b[0m\u001b[0;34m'open_date'\u001b[0m\u001b[0;34m]\u001b[0m\u001b[0;34m)\u001b[0m\u001b[0;34m\u001b[0m\u001b[0m\n\u001b[1;32m      5\u001b[0m     \u001b[0;32melse\u001b[0m\u001b[0;34m:\u001b[0m\u001b[0;34m\u001b[0m\u001b[0m\n",
      "\u001b[0;32m/Users/alpkaancelik/anaconda/lib/python2.7/site-packages/pandas/core/generic.pyc\u001b[0m in \u001b[0;36m__getattr__\u001b[0;34m(self, name)\u001b[0m\n\u001b[1;32m   2148\u001b[0m                 \u001b[0;32mreturn\u001b[0m \u001b[0mself\u001b[0m\u001b[0;34m[\u001b[0m\u001b[0mname\u001b[0m\u001b[0;34m]\u001b[0m\u001b[0;34m\u001b[0m\u001b[0m\n\u001b[1;32m   2149\u001b[0m             raise AttributeError(\"'%s' object has no attribute '%s'\" %\n\u001b[0;32m-> 2150\u001b[0;31m                                  (type(self).__name__, name))\n\u001b[0m\u001b[1;32m   2151\u001b[0m \u001b[0;34m\u001b[0m\u001b[0m\n\u001b[1;32m   2152\u001b[0m     \u001b[0;32mdef\u001b[0m \u001b[0m__setattr__\u001b[0m\u001b[0;34m(\u001b[0m\u001b[0mself\u001b[0m\u001b[0;34m,\u001b[0m \u001b[0mname\u001b[0m\u001b[0;34m,\u001b[0m \u001b[0mvalue\u001b[0m\u001b[0;34m)\u001b[0m\u001b[0;34m:\u001b[0m\u001b[0;34m\u001b[0m\u001b[0m\n",
      "\u001b[0;31mAttributeError\u001b[0m: 'Series' object has no attribute 'close_date'"
     ]
    }
   ],
   "source": [
    "run_time=[]\n",
    "for index, row in movie_df.iterrows():\n",
    "    if row.close_date != None:\n",
    "        run_time.append(row['close_date']-row['open_date'])\n",
    "    else: \n",
    "        run_time.append('N/A')"
   ]
  },
  {
   "cell_type": "code",
<<<<<<< HEAD
   "execution_count": 12,
=======
   "execution_count": 13,
>>>>>>> master
   "metadata": {
    "collapsed": false
   },
   "outputs": [
    {
     "data": {
      "text/html": [
       "<div>\n",
       "<table border=\"1\" class=\"dataframe\">\n",
       "  <thead>\n",
       "    <tr style=\"text-align: right;\">\n",
       "      <th></th>\n",
       "      <th>gross</th>\n",
       "      <th>opening_gross</th>\n",
       "      <th>opening_theaters</th>\n",
       "      <th>ranking</th>\n",
       "      <th>title</th>\n",
       "      <th>total_theaters</th>\n",
       "      <th>year</th>\n",
       "      <th>close_month</th>\n",
       "      <th>close_day</th>\n",
       "      <th>open_month</th>\n",
       "      <th>open_day</th>\n",
       "      <th>open_year</th>\n",
       "      <th>close_year</th>\n",
       "    </tr>\n",
       "  </thead>\n",
       "  <tbody>\n",
       "    <tr>\n",
       "      <th>0</th>\n",
       "      <td>285761243</td>\n",
       "      <td>17081997</td>\n",
       "      <td>1202</td>\n",
       "      <td>1</td>\n",
       "      <td>Home Alone</td>\n",
       "      <td>2173</td>\n",
       "      <td>1990</td>\n",
       "      <td>0</td>\n",
       "      <td>0</td>\n",
       "      <td>11</td>\n",
       "      <td>16</td>\n",
       "      <td>1990</td>\n",
       "      <td>1991</td>\n",
       "    </tr>\n",
       "    <tr>\n",
       "      <th>1</th>\n",
       "      <td>217631306</td>\n",
       "      <td>12191540</td>\n",
       "      <td>1101</td>\n",
       "      <td>2</td>\n",
       "      <td>Ghost</td>\n",
       "      <td>1766</td>\n",
       "      <td>1990</td>\n",
       "      <td>0</td>\n",
       "      <td>0</td>\n",
       "      <td>7</td>\n",
       "      <td>13</td>\n",
       "      <td>1990</td>\n",
       "      <td>1991</td>\n",
       "    </tr>\n",
       "    <tr>\n",
       "      <th>2</th>\n",
       "      <td>184208848</td>\n",
       "      <td>598257</td>\n",
       "      <td>14</td>\n",
       "      <td>3</td>\n",
       "      <td>Dances with Wolves</td>\n",
       "      <td>1636</td>\n",
       "      <td>1990</td>\n",
       "      <td>0</td>\n",
       "      <td>0</td>\n",
       "      <td>11</td>\n",
       "      <td>9</td>\n",
       "      <td>1990</td>\n",
       "      <td>1991</td>\n",
       "    </tr>\n",
       "    <tr>\n",
       "      <th>3</th>\n",
       "      <td>178406268</td>\n",
       "      <td>11280591</td>\n",
       "      <td>1325</td>\n",
       "      <td>4</td>\n",
       "      <td>Pretty Woman</td>\n",
       "      <td>1811</td>\n",
       "      <td>1990</td>\n",
       "      <td>0</td>\n",
       "      <td>0</td>\n",
       "      <td>3</td>\n",
       "      <td>23</td>\n",
       "      <td>1990</td>\n",
       "      <td>1991</td>\n",
       "    </tr>\n",
       "    <tr>\n",
       "      <th>4</th>\n",
       "      <td>135265915</td>\n",
       "      <td>25398367</td>\n",
       "      <td>2006</td>\n",
       "      <td>5</td>\n",
       "      <td>Teenage Mutant Ninja Turtles</td>\n",
       "      <td>2377</td>\n",
       "      <td>1990</td>\n",
       "      <td>0</td>\n",
       "      <td>0</td>\n",
       "      <td>3</td>\n",
       "      <td>30</td>\n",
       "      <td>1990</td>\n",
       "      <td>1991</td>\n",
       "    </tr>\n",
       "  </tbody>\n",
       "</table>\n",
       "</div>"
      ],
      "text/plain": [
       "       gross  opening_gross  opening_theaters  ranking                         title  total_theaters  year close_month close_day open_month open_day open_year close_year\n",
       "0  285761243       17081997              1202        1                    Home Alone            2173  1990           0         0         11       16      1990       1991\n",
       "1  217631306       12191540              1101        2                         Ghost            1766  1990           0         0          7       13      1990       1991\n",
       "2  184208848         598257                14        3            Dances with Wolves            1636  1990           0         0         11        9      1990       1991\n",
       "3  178406268       11280591              1325        4                  Pretty Woman            1811  1990           0         0          3       23      1990       1991\n",
       "4  135265915       25398367              2006        5  Teenage Mutant Ninja Turtles            2377  1990           0         0          3       30      1990       1991"
      ]
     },
<<<<<<< HEAD
     "execution_count": 12,
=======
     "execution_count": 13,
>>>>>>> master
     "metadata": {},
     "output_type": "execute_result"
    }
   ],
   "source": [
    "movie_df.head()"
   ]
  },
  {
   "cell_type": "markdown",
   "metadata": {},
   "source": [
    "Looks like the data is ready for us to use! Let's save this data so we're ready to use it next time. "
   ]
  },
  {
   "cell_type": "code",
<<<<<<< HEAD
   "execution_count": 13,
=======
   "execution_count": 17,
>>>>>>> master
   "metadata": {
    "collapsed": false
   },
   "outputs": [
    {
     "name": "stdout",
     "output_type": "stream",
     "text": [
<<<<<<< HEAD
      "Requirement already satisfied (use --upgrade to upgrade): pymongo in /Users/alpkaancelik/anaconda/lib/python2.7/site-packages\r\n"
=======
      "Requirement already satisfied (use --upgrade to upgrade): pymongo in /anaconda/lib/python2.7/site-packages\r\n"
>>>>>>> master
     ]
    }
   ],
   "source": [
    "! pip install pymongo"
   ]
  },
  {
   "cell_type": "code",
<<<<<<< HEAD
   "execution_count": 14,
=======
   "execution_count": 15,
>>>>>>> master
   "metadata": {
    "collapsed": false
   },
   "outputs": [],
   "source": [
    "# Save the movie Dictionaries corresponding to each row of the BoxOfficeMojo table.\n",
    "import json # (dong)\n",
    "# import pymongo\n",
    "# from bson import json_util\n",
    "\n",
    "# Make a dictionary out of the dataset for storage in JSON format.\n",
    "movieSaved = {feature: movie_df[feature].values.tolist() for feature in movie_df.columns.values}\n",
    "fp = open(\"allMovies_new.json\",\"w\")\n",
    "json.dump(movieSaved, fp)\n",
    "fp.close()"
   ]
  },
  {
   "cell_type": "markdown",
   "metadata": {
    "collapsed": true
   },
   "source": [
    "### Loading and preparing IMDB review dataset"
   ]
  },
  {
   "cell_type": "markdown",
   "metadata": {},
   "source": [
    "We have cleaned up our IMDB review dataset in the ipython notebook `New.ipynb`. From that notebook we have been able to save dictionaries of our data, which we will now call. "
   ]
  },
  {
   "cell_type": "code",
<<<<<<< HEAD
   "execution_count": 15,
=======
   "execution_count": 16,
>>>>>>> master
   "metadata": {
    "collapsed": false
   },
   "outputs": [],
   "source": [
    "with open(\"train_df_dict.json\", \"r\") as fd:\n",
    "    train_df_dict = json.load(fd)\n",
    "with open(\"test_df_dict.json\", \"r\") as fd:\n",
    "    test_df_dict = json.load(fd)"
   ]
  },
  {
   "cell_type": "code",
<<<<<<< HEAD
   "execution_count": 16,
=======
   "execution_count": 17,
>>>>>>> master
   "metadata": {
    "collapsed": false
   },
   "outputs": [],
   "source": [
    "train_df = pd.DataFrame(train_df_dict)\n",
    "test_df = pd.DataFrame(test_df_dict)"
   ]
  },
  {
   "cell_type": "markdown",
   "metadata": {},
   "source": [
    "The Stanford group distinguishes between train and test because this was relevant for their project. This may prove to be useful later, so we will keep two separate dataframes. However, for our purposes at the moment, we can combine them since the BOM data will serve as our true data set."
   ]
  },
  {
   "cell_type": "code",
<<<<<<< HEAD
   "execution_count": 17,
=======
   "execution_count": 18,
>>>>>>> master
   "metadata": {
    "collapsed": true
   },
   "outputs": [],
   "source": [
    "IMDB_df = train_df.append(test_df)"
   ]
  },
  {
   "cell_type": "markdown",
   "metadata": {},
   "source": [
    "We want to figure out which movies from IMDB_df are also present in our BOM DF. So let's get all the movie titles in our BOM table. "
   ]
  },
  {
   "cell_type": "code",
<<<<<<< HEAD
   "execution_count": 18,
=======
   "execution_count": 19,
>>>>>>> master
   "metadata": {
    "collapsed": false
   },
   "outputs": [],
   "source": [
    "BOM_movie_list = movie_df.title.values.tolist()"
   ]
  },
  {
   "cell_type": "markdown",
   "metadata": {},
   "source": [
    "Now let's create a mask over IMDB_df, the boolean values of which indicate whether or not a movie is in the BOM list."
   ]
  },
  {
   "cell_type": "code",
<<<<<<< HEAD
   "execution_count": 19,
=======
   "execution_count": 20,
>>>>>>> master
   "metadata": {
    "collapsed": false
   },
   "outputs": [],
   "source": [
    "movie_mask = [(movie in BOM_movie_list) for movie in IMDB_df.movie_name]"
   ]
  },
  {
   "cell_type": "code",
<<<<<<< HEAD
   "execution_count": 20,
=======
   "execution_count": 21,
>>>>>>> master
   "metadata": {
    "collapsed": false
   },
   "outputs": [
    {
     "data": {
      "text/plain": [
       "4111"
      ]
     },
<<<<<<< HEAD
     "execution_count": 20,
=======
     "execution_count": 21,
>>>>>>> master
     "metadata": {},
     "output_type": "execute_result"
    }
   ],
   "source": [
    "sum(movie_mask)"
   ]
  },
  {
   "cell_type": "markdown",
   "metadata": {},
   "source": [
    "We can now create out final, relevant IMDB data frame, with only those movies that also appear in the BOM tables from 1990 - 2015. "
   ]
  },
  {
   "cell_type": "code",
<<<<<<< HEAD
   "execution_count": 21,
=======
   "execution_count": 22,
>>>>>>> master
   "metadata": {
    "collapsed": false
   },
   "outputs": [],
   "source": [
    "IMDB_dftouse=IMDB_df[movie_mask]"
   ]
  },
  {
   "cell_type": "markdown",
   "metadata": {},
   "source": [
    "Finally we want to save our dictionary of IMDB_dftouse into a JSON file for storage."
   ]
  },
  {
   "cell_type": "code",
<<<<<<< HEAD
   "execution_count": 22,
=======
   "execution_count": 23,
>>>>>>> master
   "metadata": {
    "collapsed": true
   },
   "outputs": [],
   "source": [
    "IMDB_dftouse_dict = {feature: IMDB_dftouse[feature].values.tolist() for feature in IMDB_dftouse.columns.values}\n",
    "fp = open(\"IMDB_dftouse_dict.json\",\"w\")\n",
    "json.dump(IMDB_dftouse_dict, fp)\n",
    "fp.close()"
   ]
  },
  {
   "cell_type": "code",
<<<<<<< HEAD
   "execution_count": 23,
=======
   "execution_count": 24,
>>>>>>> master
   "metadata": {
    "collapsed": true
   },
   "outputs": [],
   "source": [
    "# Reopen\n",
    "with open(\"IMDB_dftouse_dict.json\", \"r\") as fd:\n",
    "    IMDB_dftouse_dict = json.load(fd)"
   ]
  },
  {
   "cell_type": "markdown",
   "metadata": {},
   "source": [
<<<<<<< HEAD
    "### Loading and preparing AFINN dictionary"
   ]
  },
  {
   "cell_type": "markdown",
   "metadata": {},
   "source": [
    "We wil read in the AFINN-111 dictionary from the tab-delimited .txt file and save it into a pandas dataframe `dictionary`. "
   ]
  },
  {
   "cell_type": "code",
   "execution_count": 24,
   "metadata": {
    "collapsed": true
   },
   "outputs": [],
   "source": [
    "words = []\n",
    "valences = []\n",
    "\n",
    "with open('AFINN/AFINN-111.txt','rb') as source:\n",
    "    for line in source:\n",
    "        fields = line.split('\\t')\n",
    "        words.append(fields[0])\n",
    "        valences.append(fields[1])\n",
    "dictionary = pd.DataFrame({'words': words, 'valences':valences})"
=======
    "## Analyzing and Saving Review Attributes Using labMT Happiness Dictionary"
>>>>>>> master
   ]
  },
  {
   "cell_type": "markdown",
   "metadata": {},
   "source": [
    "Now let's download labMT, a word score list for sentiment analysis containing over 10,000 words. The file contains a \"happiness\" value, and ranks words by their happiness. It also includes mean and standard deviation, Twitter rank and Google rank."
   ]
  },
  {
   "cell_type": "code",
   "execution_count": 25,
   "metadata": {
    "collapsed": false
   },
   "outputs": [],
   "source": [
    "url = 'http://www.plosone.org/article/fetchSingleRepresentation.action?uri=info:doi/10.1371/journal.pone.0026752.s001'\n",
    "labmt = pd.read_csv(url, skiprows=2, sep='\\t', index_col=0)"
   ]
  },
  {
   "cell_type": "code",
   "execution_count": 26,
   "metadata": {
    "collapsed": false
   },
   "outputs": [
    {
     "data": {
      "text/html": [
       "<div>\n",
       "<table border=\"1\" class=\"dataframe\">\n",
       "  <thead>\n",
       "    <tr style=\"text-align: right;\">\n",
       "      <th></th>\n",
       "      <th>happiness_rank</th>\n",
       "      <th>happiness_average</th>\n",
       "      <th>happiness_standard_deviation</th>\n",
       "      <th>twitter_rank</th>\n",
       "      <th>google_rank</th>\n",
       "      <th>nyt_rank</th>\n",
       "      <th>lyrics_rank</th>\n",
       "    </tr>\n",
       "    <tr>\n",
       "      <th>word</th>\n",
       "      <th></th>\n",
       "      <th></th>\n",
       "      <th></th>\n",
       "      <th></th>\n",
       "      <th></th>\n",
       "      <th></th>\n",
       "      <th></th>\n",
       "    </tr>\n",
       "  </thead>\n",
       "  <tbody>\n",
       "    <tr>\n",
       "      <th>laughter</th>\n",
       "      <td>1</td>\n",
       "      <td>8.50</td>\n",
       "      <td>0.9313</td>\n",
       "      <td>3600</td>\n",
       "      <td>--</td>\n",
       "      <td>--</td>\n",
       "      <td>1728</td>\n",
       "    </tr>\n",
       "    <tr>\n",
       "      <th>happiness</th>\n",
       "      <td>2</td>\n",
       "      <td>8.44</td>\n",
       "      <td>0.9723</td>\n",
       "      <td>1853</td>\n",
       "      <td>2458</td>\n",
       "      <td>--</td>\n",
       "      <td>1230</td>\n",
       "    </tr>\n",
       "    <tr>\n",
       "      <th>love</th>\n",
       "      <td>3</td>\n",
       "      <td>8.42</td>\n",
       "      <td>1.1082</td>\n",
       "      <td>25</td>\n",
       "      <td>317</td>\n",
       "      <td>328</td>\n",
       "      <td>23</td>\n",
       "    </tr>\n",
       "    <tr>\n",
       "      <th>happy</th>\n",
       "      <td>4</td>\n",
       "      <td>8.30</td>\n",
       "      <td>0.9949</td>\n",
       "      <td>65</td>\n",
       "      <td>1372</td>\n",
       "      <td>1313</td>\n",
       "      <td>375</td>\n",
       "    </tr>\n",
       "    <tr>\n",
       "      <th>laughed</th>\n",
       "      <td>5</td>\n",
       "      <td>8.26</td>\n",
       "      <td>1.1572</td>\n",
       "      <td>3334</td>\n",
       "      <td>3542</td>\n",
       "      <td>--</td>\n",
       "      <td>2332</td>\n",
       "    </tr>\n",
       "  </tbody>\n",
       "</table>\n",
       "</div>"
      ],
      "text/plain": [
       "           happiness_rank  happiness_average  happiness_standard_deviation twitter_rank google_rank nyt_rank lyrics_rank\n",
       "word                                                                                                                    \n",
       "laughter                1               8.50                        0.9313         3600          --       --        1728\n",
       "happiness               2               8.44                        0.9723         1853        2458       --        1230\n",
       "love                    3               8.42                        1.1082           25         317      328          23\n",
       "happy                   4               8.30                        0.9949           65        1372     1313         375\n",
       "laughed                 5               8.26                        1.1572         3334        3542       --        2332"
      ]
     },
     "execution_count": 26,
     "metadata": {},
     "output_type": "execute_result"
    }
   ],
   "source": [
    "labmt.head()"
   ]
  },
  {
   "cell_type": "markdown",
   "metadata": {},
   "source": [
    "Now let's create a happiness dictionary of (word, valence) pairs where each valence is that word's original valence minus the average valence."
   ]
  },
  {
   "cell_type": "code",
   "execution_count": 27,
   "metadata": {
    "collapsed": true
   },
   "outputs": [],
   "source": [
    "average = labmt.happiness_average.mean()\n",
    "happiness = (labmt.happiness_average - average).to_dict()"
   ]
  },
  {
   "cell_type": "code",
   "execution_count": 28,
   "metadata": {
    "collapsed": false
   },
   "outputs": [
    {
     "name": "stdout",
     "output_type": "stream",
     "text": [
      "Score(happy):  2.92476032088\n",
      "Score(miserable):  -2.83523967912\n",
      "Best score:  3.12476032088\n",
      "Worst score:  -4.07523967912\n"
     ]
    }
   ],
   "source": [
    "print \"Score(happy): \", happiness['happy']\n",
    "print \"Score(miserable): \", happiness['miserable']\n",
    "print \"Best score: \", max(happiness.values())\n",
    "print \"Worst score: \", min(happiness.values())"
   ]
  },
  {
   "cell_type": "code",
   "execution_count": 29,
   "metadata": {
    "collapsed": true
   },
   "outputs": [],
   "source": [
    "# Save to disc\n",
    "# fp = open(\"happiness.json\",\"w\")\n",
    "# json.dump(happiness, fp)\n",
    "# fp.close()"
   ]
  },
  {
   "cell_type": "code",
   "execution_count": 30,
   "metadata": {
    "collapsed": true
   },
   "outputs": [],
   "source": [
    "# Reopen\n",
    "with open(\"happiness.json\", \"r\") as fp:\n",
    "    happiness = json.load(fp)"
   ]
  },
  {
   "cell_type": "markdown",
   "metadata": {},
   "source": [
    "Now let's collect several attributes from a given review's text body, and save all valuable information into a new data frame. First we define a function that removes stop words (all non important words from a valence perspective) from a text body."
   ]
  },
  {
   "cell_type": "code",
<<<<<<< HEAD
   "execution_count": 28,
=======
   "execution_count": 31,
>>>>>>> master
   "metadata": {
    "collapsed": true
   },
   "outputs": [],
   "source": [
    "from sklearn.feature_extraction import text\n",
    "stopwords = text.ENGLISH_STOP_WORDS\n",
    "punctuation = list('.,;:!?()[]{}`''\\\"@#$%^&*+-|-=~_')\n",
    "\n",
    "def removeStopWords(text, stopwords = stopwords):\n",
    "    new_text = \"\"\n",
    "    for word in text.split():\n",
    "        if word not in stopwords:\n",
    "            while len(word) != 0 and word[-1] in punctuation:\n",
    "                word = word[:len(word)-1]\n",
    "            new_text += word + ' '\n",
    "    return new_text"
   ]
  },
  {
   "cell_type": "markdown",
   "metadata": {},
   "source": [
    "Now we'll write a function that returns total happiness, average happiness, total scorable words, and percentage of scorable words in a given review text."
   ]
  },
  {
   "cell_type": "code",
<<<<<<< HEAD
   "execution_count": 29,
=======
   "execution_count": 32,
>>>>>>> master
   "metadata": {
    "collapsed": true
   },
   "outputs": [],
   "source": [
    "'''\n",
    "Name: getValenceInfo()\n",
    "Inputs: review text, dictionary of happiness\n",
    "Returns: a 4-tuple of (happiness total, happiness average, total # of scorable words, % of scorable words)\n",
    "'''\n",
    "def getValenceInfo(text, valenceDict):\n",
    "    total_words = len(text.split())\n",
    "    happiness_total, count_relevant = 0, 0\n",
    "    for word in text.split():\n",
    "        if word in valenceDict.keys():\n",
    "            count_relevant += 1\n",
    "            happiness_total += valenceDict[word]\n",
    "    if count_relevant != 0: \n",
    "        avg_valence = 1.*happiness_total/count_relevant\n",
    "    else: \n",
    "        avg_valence = 0\n",
    "    return happiness_total, avg_valence, total_words, 1.*count_relevant / total_words"
   ]
  },
  {
   "cell_type": "markdown",
   "metadata": {},
   "source": [
    "Now we'll write a function that, given a data frame, returns a new data frame with the concatenation of valence (happiness) info in 4 new columns: valence sum, valence average, # of scorable words, % of scorable words."
   ]
  },
  {
   "cell_type": "code",
<<<<<<< HEAD
   "execution_count": 30,
=======
   "execution_count": 33,
>>>>>>> master
   "metadata": {
    "collapsed": true
   },
   "outputs": [],
   "source": [
    "'''\n",
    "Name: getAllInfo\n",
    "Input: data frame, happiness dictionary, list of stop words\n",
    "Returns: a new data frame with 4 new columns: valence_sum, valence_avg, n_scorables, pct_scorables\n",
    "'''\n",
    "def getAllInfo(df, valenceDict, stopwords): \n",
    "    valence_suml, valence_avgl, review_lenl, review_fractionl = [], [], [], []\n",
    "    for i, row in df.iterrows():\n",
    "        cleaned_review = removeStopWords(row['text'], stopwords)\n",
    "        valence_sum, valence_avg, review_len, review_fraction = getValenceInfo(cleaned_review, valenceDict)\n",
    "        valence_suml.append(valence_sum)\n",
    "        valence_avgl.append(valence_avg)\n",
    "        review_lenl.append(review_len)\n",
    "        review_fractionl.append(review_fraction)\n",
    "    conc = pd.DataFrame({'valence_sum': valence_suml, 'valence_avg':valence_avgl ,'n_scorables': review_lenl, \n",
    "                         'pct_scorables': review_fractionl})\n",
    "    return pd.concat([df, conc], axis=1)"
   ]
  },
  {
   "cell_type": "markdown",
   "metadata": {},
   "source": [
    "Now let's create a new dataframe `valence_df` with the valence statistics run on our IMDB_df. This code takes a few minutes to run."
   ]
  },
  {
   "cell_type": "code",
<<<<<<< HEAD
   "execution_count": 31,
=======
   "execution_count": 34,
>>>>>>> master
   "metadata": {
    "collapsed": false
   },
   "outputs": [
    {
     "ename": "InvalidIndexError",
     "evalue": "Reindexing only valid with uniquely valued Index objects",
     "output_type": "error",
     "traceback": [
      "\u001b[0;31m---------------------------------------------------------------------------\u001b[0m",
      "\u001b[0;31mInvalidIndexError\u001b[0m                         Traceback (most recent call last)",
      "\u001b[0;32m<ipython-input-34-5d56700d21b1>\u001b[0m in \u001b[0;36m<module>\u001b[0;34m()\u001b[0m\n\u001b[0;32m----> 1\u001b[0;31m \u001b[0mget_ipython\u001b[0m\u001b[0;34m(\u001b[0m\u001b[0;34m)\u001b[0m\u001b[0;34m.\u001b[0m\u001b[0mrun_cell_magic\u001b[0m\u001b[0;34m(\u001b[0m\u001b[0;34mu'time'\u001b[0m\u001b[0;34m,\u001b[0m \u001b[0;34mu''\u001b[0m\u001b[0;34m,\u001b[0m \u001b[0;34mu'valence_df = getAllInfo(IMDB_df, happiness, stopwords)'\u001b[0m\u001b[0;34m)\u001b[0m\u001b[0;34m\u001b[0m\u001b[0m\n\u001b[0m",
      "\u001b[0;32m/Users/alpkaancelik/anaconda/lib/python2.7/site-packages/IPython/core/interactiveshell.pyc\u001b[0m in \u001b[0;36mrun_cell_magic\u001b[0;34m(self, magic_name, line, cell)\u001b[0m\n\u001b[1;32m   2262\u001b[0m             \u001b[0mmagic_arg_s\u001b[0m \u001b[0;34m=\u001b[0m \u001b[0mself\u001b[0m\u001b[0;34m.\u001b[0m\u001b[0mvar_expand\u001b[0m\u001b[0;34m(\u001b[0m\u001b[0mline\u001b[0m\u001b[0;34m,\u001b[0m \u001b[0mstack_depth\u001b[0m\u001b[0;34m)\u001b[0m\u001b[0;34m\u001b[0m\u001b[0m\n\u001b[1;32m   2263\u001b[0m             \u001b[0;32mwith\u001b[0m \u001b[0mself\u001b[0m\u001b[0;34m.\u001b[0m\u001b[0mbuiltin_trap\u001b[0m\u001b[0;34m:\u001b[0m\u001b[0;34m\u001b[0m\u001b[0m\n\u001b[0;32m-> 2264\u001b[0;31m                 \u001b[0mresult\u001b[0m \u001b[0;34m=\u001b[0m \u001b[0mfn\u001b[0m\u001b[0;34m(\u001b[0m\u001b[0mmagic_arg_s\u001b[0m\u001b[0;34m,\u001b[0m \u001b[0mcell\u001b[0m\u001b[0;34m)\u001b[0m\u001b[0;34m\u001b[0m\u001b[0m\n\u001b[0m\u001b[1;32m   2265\u001b[0m             \u001b[0;32mreturn\u001b[0m \u001b[0mresult\u001b[0m\u001b[0;34m\u001b[0m\u001b[0m\n\u001b[1;32m   2266\u001b[0m \u001b[0;34m\u001b[0m\u001b[0m\n",
      "\u001b[0;32m/Users/alpkaancelik/anaconda/lib/python2.7/site-packages/IPython/core/magics/execution.pyc\u001b[0m in \u001b[0;36mtime\u001b[0;34m(self, line, cell, local_ns)\u001b[0m\n",
      "\u001b[0;32m/Users/alpkaancelik/anaconda/lib/python2.7/site-packages/IPython/core/magic.pyc\u001b[0m in \u001b[0;36m<lambda>\u001b[0;34m(f, *a, **k)\u001b[0m\n\u001b[1;32m    191\u001b[0m     \u001b[0;31m# but it's overkill for just that one bit of state.\u001b[0m\u001b[0;34m\u001b[0m\u001b[0;34m\u001b[0m\u001b[0m\n\u001b[1;32m    192\u001b[0m     \u001b[0;32mdef\u001b[0m \u001b[0mmagic_deco\u001b[0m\u001b[0;34m(\u001b[0m\u001b[0marg\u001b[0m\u001b[0;34m)\u001b[0m\u001b[0;34m:\u001b[0m\u001b[0;34m\u001b[0m\u001b[0m\n\u001b[0;32m--> 193\u001b[0;31m         \u001b[0mcall\u001b[0m \u001b[0;34m=\u001b[0m \u001b[0;32mlambda\u001b[0m \u001b[0mf\u001b[0m\u001b[0;34m,\u001b[0m \u001b[0;34m*\u001b[0m\u001b[0ma\u001b[0m\u001b[0;34m,\u001b[0m \u001b[0;34m**\u001b[0m\u001b[0mk\u001b[0m\u001b[0;34m:\u001b[0m \u001b[0mf\u001b[0m\u001b[0;34m(\u001b[0m\u001b[0;34m*\u001b[0m\u001b[0ma\u001b[0m\u001b[0;34m,\u001b[0m \u001b[0;34m**\u001b[0m\u001b[0mk\u001b[0m\u001b[0;34m)\u001b[0m\u001b[0;34m\u001b[0m\u001b[0m\n\u001b[0m\u001b[1;32m    194\u001b[0m \u001b[0;34m\u001b[0m\u001b[0m\n\u001b[1;32m    195\u001b[0m         \u001b[0;32mif\u001b[0m \u001b[0mcallable\u001b[0m\u001b[0;34m(\u001b[0m\u001b[0marg\u001b[0m\u001b[0;34m)\u001b[0m\u001b[0;34m:\u001b[0m\u001b[0;34m\u001b[0m\u001b[0m\n",
      "\u001b[0;32m/Users/alpkaancelik/anaconda/lib/python2.7/site-packages/IPython/core/magics/execution.pyc\u001b[0m in \u001b[0;36mtime\u001b[0;34m(self, line, cell, local_ns)\u001b[0m\n\u001b[1;32m   1164\u001b[0m         \u001b[0;32melse\u001b[0m\u001b[0;34m:\u001b[0m\u001b[0;34m\u001b[0m\u001b[0m\n\u001b[1;32m   1165\u001b[0m             \u001b[0mst\u001b[0m \u001b[0;34m=\u001b[0m \u001b[0mclock2\u001b[0m\u001b[0;34m(\u001b[0m\u001b[0;34m)\u001b[0m\u001b[0;34m\u001b[0m\u001b[0m\n\u001b[0;32m-> 1166\u001b[0;31m             \u001b[0;32mexec\u001b[0m\u001b[0;34m(\u001b[0m\u001b[0mcode\u001b[0m\u001b[0;34m,\u001b[0m \u001b[0mglob\u001b[0m\u001b[0;34m,\u001b[0m \u001b[0mlocal_ns\u001b[0m\u001b[0;34m)\u001b[0m\u001b[0;34m\u001b[0m\u001b[0m\n\u001b[0m\u001b[1;32m   1167\u001b[0m             \u001b[0mend\u001b[0m \u001b[0;34m=\u001b[0m \u001b[0mclock2\u001b[0m\u001b[0;34m(\u001b[0m\u001b[0;34m)\u001b[0m\u001b[0;34m\u001b[0m\u001b[0m\n\u001b[1;32m   1168\u001b[0m             \u001b[0mout\u001b[0m \u001b[0;34m=\u001b[0m \u001b[0mNone\u001b[0m\u001b[0;34m\u001b[0m\u001b[0m\n",
      "\u001b[0;32m<timed exec>\u001b[0m in \u001b[0;36m<module>\u001b[0;34m()\u001b[0m\n",
      "\u001b[0;32m<ipython-input-33-b22b5564e667>\u001b[0m in \u001b[0;36mgetAllInfo\u001b[0;34m(df, valenceDict, stopwords)\u001b[0m\n\u001b[1;32m     15\u001b[0m     conc = pd.DataFrame({'valence_sum': valence_suml, 'valence_avg':valence_avgl ,'n_scorables': review_lenl, \n\u001b[1;32m     16\u001b[0m                          'pct_scorables': review_fractionl})\n\u001b[0;32m---> 17\u001b[0;31m     \u001b[0;32mreturn\u001b[0m \u001b[0mpd\u001b[0m\u001b[0;34m.\u001b[0m\u001b[0mconcat\u001b[0m\u001b[0;34m(\u001b[0m\u001b[0;34m[\u001b[0m\u001b[0mdf\u001b[0m\u001b[0;34m,\u001b[0m \u001b[0mconc\u001b[0m\u001b[0;34m]\u001b[0m\u001b[0;34m,\u001b[0m \u001b[0maxis\u001b[0m\u001b[0;34m=\u001b[0m\u001b[0;36m1\u001b[0m\u001b[0;34m)\u001b[0m\u001b[0;34m\u001b[0m\u001b[0m\n\u001b[0m",
      "\u001b[0;32m/Users/alpkaancelik/anaconda/lib/python2.7/site-packages/pandas/tools/merge.pyc\u001b[0m in \u001b[0;36mconcat\u001b[0;34m(objs, axis, join, join_axes, ignore_index, keys, levels, names, verify_integrity, copy)\u001b[0m\n\u001b[1;32m    752\u001b[0m                        \u001b[0mkeys\u001b[0m\u001b[0;34m=\u001b[0m\u001b[0mkeys\u001b[0m\u001b[0;34m,\u001b[0m \u001b[0mlevels\u001b[0m\u001b[0;34m=\u001b[0m\u001b[0mlevels\u001b[0m\u001b[0;34m,\u001b[0m \u001b[0mnames\u001b[0m\u001b[0;34m=\u001b[0m\u001b[0mnames\u001b[0m\u001b[0;34m,\u001b[0m\u001b[0;34m\u001b[0m\u001b[0m\n\u001b[1;32m    753\u001b[0m                        \u001b[0mverify_integrity\u001b[0m\u001b[0;34m=\u001b[0m\u001b[0mverify_integrity\u001b[0m\u001b[0;34m,\u001b[0m\u001b[0;34m\u001b[0m\u001b[0m\n\u001b[0;32m--> 754\u001b[0;31m                        copy=copy)\n\u001b[0m\u001b[1;32m    755\u001b[0m     \u001b[0;32mreturn\u001b[0m \u001b[0mop\u001b[0m\u001b[0;34m.\u001b[0m\u001b[0mget_result\u001b[0m\u001b[0;34m(\u001b[0m\u001b[0;34m)\u001b[0m\u001b[0;34m\u001b[0m\u001b[0m\n\u001b[1;32m    756\u001b[0m \u001b[0;34m\u001b[0m\u001b[0m\n",
      "\u001b[0;32m/Users/alpkaancelik/anaconda/lib/python2.7/site-packages/pandas/tools/merge.pyc\u001b[0m in \u001b[0;36m__init__\u001b[0;34m(self, objs, axis, join, join_axes, keys, levels, names, ignore_index, verify_integrity, copy)\u001b[0m\n\u001b[1;32m    884\u001b[0m         \u001b[0mself\u001b[0m\u001b[0;34m.\u001b[0m\u001b[0mcopy\u001b[0m \u001b[0;34m=\u001b[0m \u001b[0mcopy\u001b[0m\u001b[0;34m\u001b[0m\u001b[0m\n\u001b[1;32m    885\u001b[0m \u001b[0;34m\u001b[0m\u001b[0m\n\u001b[0;32m--> 886\u001b[0;31m         \u001b[0mself\u001b[0m\u001b[0;34m.\u001b[0m\u001b[0mnew_axes\u001b[0m \u001b[0;34m=\u001b[0m \u001b[0mself\u001b[0m\u001b[0;34m.\u001b[0m\u001b[0m_get_new_axes\u001b[0m\u001b[0;34m(\u001b[0m\u001b[0;34m)\u001b[0m\u001b[0;34m\u001b[0m\u001b[0m\n\u001b[0m\u001b[1;32m    887\u001b[0m \u001b[0;34m\u001b[0m\u001b[0m\n\u001b[1;32m    888\u001b[0m     \u001b[0;32mdef\u001b[0m \u001b[0mget_result\u001b[0m\u001b[0;34m(\u001b[0m\u001b[0mself\u001b[0m\u001b[0;34m)\u001b[0m\u001b[0;34m:\u001b[0m\u001b[0;34m\u001b[0m\u001b[0m\n",
      "\u001b[0;32m/Users/alpkaancelik/anaconda/lib/python2.7/site-packages/pandas/tools/merge.pyc\u001b[0m in \u001b[0;36m_get_new_axes\u001b[0;34m(self)\u001b[0m\n\u001b[1;32m    944\u001b[0m                 \u001b[0;32mif\u001b[0m \u001b[0mi\u001b[0m \u001b[0;34m==\u001b[0m \u001b[0mself\u001b[0m\u001b[0;34m.\u001b[0m\u001b[0maxis\u001b[0m\u001b[0;34m:\u001b[0m\u001b[0;34m\u001b[0m\u001b[0m\n\u001b[1;32m    945\u001b[0m                     \u001b[0;32mcontinue\u001b[0m\u001b[0;34m\u001b[0m\u001b[0m\n\u001b[0;32m--> 946\u001b[0;31m                 \u001b[0mnew_axes\u001b[0m\u001b[0;34m[\u001b[0m\u001b[0mi\u001b[0m\u001b[0;34m]\u001b[0m \u001b[0;34m=\u001b[0m \u001b[0mself\u001b[0m\u001b[0;34m.\u001b[0m\u001b[0m_get_comb_axis\u001b[0m\u001b[0;34m(\u001b[0m\u001b[0mi\u001b[0m\u001b[0;34m)\u001b[0m\u001b[0;34m\u001b[0m\u001b[0m\n\u001b[0m\u001b[1;32m    947\u001b[0m         \u001b[0;32melse\u001b[0m\u001b[0;34m:\u001b[0m\u001b[0;34m\u001b[0m\u001b[0m\n\u001b[1;32m    948\u001b[0m             \u001b[0;32mif\u001b[0m \u001b[0mlen\u001b[0m\u001b[0;34m(\u001b[0m\u001b[0mself\u001b[0m\u001b[0;34m.\u001b[0m\u001b[0mjoin_axes\u001b[0m\u001b[0;34m)\u001b[0m \u001b[0;34m!=\u001b[0m \u001b[0mndim\u001b[0m \u001b[0;34m-\u001b[0m \u001b[0;36m1\u001b[0m\u001b[0;34m:\u001b[0m\u001b[0;34m\u001b[0m\u001b[0m\n",
      "\u001b[0;32m/Users/alpkaancelik/anaconda/lib/python2.7/site-packages/pandas/tools/merge.pyc\u001b[0m in \u001b[0;36m_get_comb_axis\u001b[0;34m(self, i)\u001b[0m\n\u001b[1;32m    970\u001b[0m                 \u001b[0;32mraise\u001b[0m \u001b[0mTypeError\u001b[0m\u001b[0;34m(\u001b[0m\u001b[0;34m\"Cannot concatenate list of %s\"\u001b[0m \u001b[0;34m%\u001b[0m \u001b[0mtypes\u001b[0m\u001b[0;34m)\u001b[0m\u001b[0;34m\u001b[0m\u001b[0m\n\u001b[1;32m    971\u001b[0m \u001b[0;34m\u001b[0m\u001b[0m\n\u001b[0;32m--> 972\u001b[0;31m         \u001b[0;32mreturn\u001b[0m \u001b[0m_get_combined_index\u001b[0m\u001b[0;34m(\u001b[0m\u001b[0mall_indexes\u001b[0m\u001b[0;34m,\u001b[0m \u001b[0mintersect\u001b[0m\u001b[0;34m=\u001b[0m\u001b[0mself\u001b[0m\u001b[0;34m.\u001b[0m\u001b[0mintersect\u001b[0m\u001b[0;34m)\u001b[0m\u001b[0;34m\u001b[0m\u001b[0m\n\u001b[0m\u001b[1;32m    973\u001b[0m \u001b[0;34m\u001b[0m\u001b[0m\n\u001b[1;32m    974\u001b[0m     \u001b[0;32mdef\u001b[0m \u001b[0m_get_concat_axis\u001b[0m\u001b[0;34m(\u001b[0m\u001b[0mself\u001b[0m\u001b[0;34m)\u001b[0m\u001b[0;34m:\u001b[0m\u001b[0;34m\u001b[0m\u001b[0m\n",
      "\u001b[0;32m/Users/alpkaancelik/anaconda/lib/python2.7/site-packages/pandas/core/index.pyc\u001b[0m in \u001b[0;36m_get_combined_index\u001b[0;34m(indexes, intersect)\u001b[0m\n\u001b[1;32m   5730\u001b[0m             \u001b[0mindex\u001b[0m \u001b[0;34m=\u001b[0m \u001b[0mindex\u001b[0m\u001b[0;34m.\u001b[0m\u001b[0mintersection\u001b[0m\u001b[0;34m(\u001b[0m\u001b[0mother\u001b[0m\u001b[0;34m)\u001b[0m\u001b[0;34m\u001b[0m\u001b[0m\n\u001b[1;32m   5731\u001b[0m         \u001b[0;32mreturn\u001b[0m \u001b[0mindex\u001b[0m\u001b[0;34m\u001b[0m\u001b[0m\n\u001b[0;32m-> 5732\u001b[0;31m     \u001b[0munion\u001b[0m \u001b[0;34m=\u001b[0m \u001b[0m_union_indexes\u001b[0m\u001b[0;34m(\u001b[0m\u001b[0mindexes\u001b[0m\u001b[0;34m)\u001b[0m\u001b[0;34m\u001b[0m\u001b[0m\n\u001b[0m\u001b[1;32m   5733\u001b[0m     \u001b[0;32mreturn\u001b[0m \u001b[0m_ensure_index\u001b[0m\u001b[0;34m(\u001b[0m\u001b[0munion\u001b[0m\u001b[0;34m)\u001b[0m\u001b[0;34m\u001b[0m\u001b[0m\n\u001b[1;32m   5734\u001b[0m \u001b[0;34m\u001b[0m\u001b[0m\n",
      "\u001b[0;32m/Users/alpkaancelik/anaconda/lib/python2.7/site-packages/pandas/core/index.pyc\u001b[0m in \u001b[0;36m_union_indexes\u001b[0;34m(indexes)\u001b[0m\n\u001b[1;32m   5762\u001b[0m         \u001b[0;32melse\u001b[0m\u001b[0;34m:\u001b[0m\u001b[0;34m\u001b[0m\u001b[0m\n\u001b[1;32m   5763\u001b[0m             \u001b[0;32mfor\u001b[0m \u001b[0mother\u001b[0m \u001b[0;32min\u001b[0m \u001b[0mindexes\u001b[0m\u001b[0;34m[\u001b[0m\u001b[0;36m1\u001b[0m\u001b[0;34m:\u001b[0m\u001b[0;34m]\u001b[0m\u001b[0;34m:\u001b[0m\u001b[0;34m\u001b[0m\u001b[0m\n\u001b[0;32m-> 5764\u001b[0;31m                 \u001b[0mresult\u001b[0m \u001b[0;34m=\u001b[0m \u001b[0mresult\u001b[0m\u001b[0;34m.\u001b[0m\u001b[0munion\u001b[0m\u001b[0;34m(\u001b[0m\u001b[0mother\u001b[0m\u001b[0;34m)\u001b[0m\u001b[0;34m\u001b[0m\u001b[0m\n\u001b[0m\u001b[1;32m   5765\u001b[0m             \u001b[0;32mreturn\u001b[0m \u001b[0mresult\u001b[0m\u001b[0;34m\u001b[0m\u001b[0m\n\u001b[1;32m   5766\u001b[0m     \u001b[0;32melif\u001b[0m \u001b[0mkind\u001b[0m \u001b[0;34m==\u001b[0m \u001b[0;34m'array'\u001b[0m\u001b[0;34m:\u001b[0m\u001b[0;34m\u001b[0m\u001b[0m\n",
      "\u001b[0;32m/Users/alpkaancelik/anaconda/lib/python2.7/site-packages/pandas/core/index.pyc\u001b[0m in \u001b[0;36munion\u001b[0;34m(self, other)\u001b[0m\n\u001b[1;32m   1400\u001b[0m                 \u001b[0mresult\u001b[0m\u001b[0;34m.\u001b[0m\u001b[0mextend\u001b[0m\u001b[0;34m(\u001b[0m\u001b[0;34m[\u001b[0m\u001b[0mx\u001b[0m \u001b[0;32mfor\u001b[0m \u001b[0mx\u001b[0m \u001b[0;32min\u001b[0m \u001b[0mother\u001b[0m\u001b[0;34m.\u001b[0m\u001b[0mvalues\u001b[0m \u001b[0;32mif\u001b[0m \u001b[0mx\u001b[0m \u001b[0;32mnot\u001b[0m \u001b[0;32min\u001b[0m \u001b[0mvalue_set\u001b[0m\u001b[0;34m]\u001b[0m\u001b[0;34m)\u001b[0m\u001b[0;34m\u001b[0m\u001b[0m\n\u001b[1;32m   1401\u001b[0m         \u001b[0;32melse\u001b[0m\u001b[0;34m:\u001b[0m\u001b[0;34m\u001b[0m\u001b[0m\n\u001b[0;32m-> 1402\u001b[0;31m             \u001b[0mindexer\u001b[0m \u001b[0;34m=\u001b[0m \u001b[0mself\u001b[0m\u001b[0;34m.\u001b[0m\u001b[0mget_indexer\u001b[0m\u001b[0;34m(\u001b[0m\u001b[0mother\u001b[0m\u001b[0;34m)\u001b[0m\u001b[0;34m\u001b[0m\u001b[0m\n\u001b[0m\u001b[1;32m   1403\u001b[0m             \u001b[0mindexer\u001b[0m\u001b[0;34m,\u001b[0m \u001b[0;34m=\u001b[0m \u001b[0;34m(\u001b[0m\u001b[0mindexer\u001b[0m \u001b[0;34m==\u001b[0m \u001b[0;34m-\u001b[0m\u001b[0;36m1\u001b[0m\u001b[0;34m)\u001b[0m\u001b[0;34m.\u001b[0m\u001b[0mnonzero\u001b[0m\u001b[0;34m(\u001b[0m\u001b[0;34m)\u001b[0m\u001b[0;34m\u001b[0m\u001b[0m\n\u001b[1;32m   1404\u001b[0m \u001b[0;34m\u001b[0m\u001b[0m\n",
      "\u001b[0;32m/Users/alpkaancelik/anaconda/lib/python2.7/site-packages/pandas/core/index.pyc\u001b[0m in \u001b[0;36mget_indexer\u001b[0;34m(self, target, method, limit)\u001b[0m\n\u001b[1;32m   1685\u001b[0m \u001b[0;34m\u001b[0m\u001b[0m\n\u001b[1;32m   1686\u001b[0m         \u001b[0;32mif\u001b[0m \u001b[0;32mnot\u001b[0m \u001b[0mself\u001b[0m\u001b[0;34m.\u001b[0m\u001b[0mis_unique\u001b[0m\u001b[0;34m:\u001b[0m\u001b[0;34m\u001b[0m\u001b[0m\n\u001b[0;32m-> 1687\u001b[0;31m             raise InvalidIndexError('Reindexing only valid with uniquely'\n\u001b[0m\u001b[1;32m   1688\u001b[0m                                     ' valued Index objects')\n\u001b[1;32m   1689\u001b[0m \u001b[0;34m\u001b[0m\u001b[0m\n",
      "\u001b[0;31mInvalidIndexError\u001b[0m: Reindexing only valid with uniquely valued Index objects"
     ]
    }
   ],
   "source": [
    "%%time\n",
    "valence_df = getAllInfo(IMDB_df, happiness, stopwords)"
   ]
  },
  {
   "cell_type": "code",
   "execution_count": 36,
   "metadata": {
    "collapsed": false
   },
   "outputs": [
    {
     "ename": "NameError",
     "evalue": "name 'valence_df' is not defined",
     "output_type": "error",
     "traceback": [
      "\u001b[0;31m---------------------------------------------------------------------------\u001b[0m",
      "\u001b[0;31mNameError\u001b[0m                                 Traceback (most recent call last)",
      "\u001b[0;32m<ipython-input-36-efa49c793d2a>\u001b[0m in \u001b[0;36m<module>\u001b[0;34m()\u001b[0m\n\u001b[0;32m----> 1\u001b[0;31m \u001b[0mvalence_df\u001b[0m\u001b[0;34m.\u001b[0m\u001b[0mhead\u001b[0m\u001b[0;34m(\u001b[0m\u001b[0;34m)\u001b[0m\u001b[0;34m\u001b[0m\u001b[0m\n\u001b[0m",
      "\u001b[0;31mNameError\u001b[0m: name 'valence_df' is not defined"
     ]
    }
   ],
   "source": [
    "valence_df.head()"
   ]
  },
  {
   "cell_type": "code",
   "execution_count": null,
   "metadata": {
    "collapsed": true
   },
   "outputs": [],
   "source": [
    "# Convert True/False to 1/0: needed to make valence_df JSON serializable, also better practice\n",
    "valence_df.positive = 1.0*valence_df.positive"
   ]
  },
  {
   "cell_type": "code",
   "execution_count": null,
   "metadata": {
    "collapsed": true
   },
   "outputs": [],
   "source": [
    "# Save to disc\n",
    "# fp = open(\"valence_df_dict.json\",\"w\")\n",
    "# json.dump(valence_df.to_dict(), fp)\n",
    "# fp.close()"
   ]
  },
  {
   "cell_type": "code",
   "execution_count": 37,
   "metadata": {
    "collapsed": true
   },
   "outputs": [],
   "source": [
    "# Reopen\n",
    "with open(\"valence_df_dict.json\", \"r\") as fp:\n",
    "    valence_df_dict = json.load(fp)\n",
    "valence_df = pd.DataFrame(valence_df_dict)"
   ]
  },
  {
   "cell_type": "markdown",
   "metadata": {},
   "source": [
    "## Milestone 2: Analysing and visualizing the data"
   ]
  },
  {
   "cell_type": "markdown",
   "metadata": {},
   "source": [
    "### Descriptive statistics"
   ]
  },
  {
   "cell_type": "markdown",
   "metadata": {},
   "source": [
    "We're going to reimport our prepared datasets - dictionary.csv (contains the dictionary from the AFINN dataset), and allMovies_new.json (which contains all the reviews that cross over with our BOM data). We will import these as panda dataframes `dictionary` and `IMDB_df` respectively. "
   ]
  },
  {
   "cell_type": "code",
   "execution_count": 38,
   "metadata": {
    "collapsed": false
   },
   "outputs": [],
   "source": [
    "dictionary=pd.read_csv(\"dictionary.csv\")\n",
    "\n",
    "with open(\"IMDB_dftouse_dict.json\", \"r\") as fd:\n",
    "    IMDB = json.load(fd)\n",
    "IMDB_df = pd.DataFrame(IMDB)"
   ]
  },
  {
   "cell_type": "markdown",
   "metadata": {},
   "source": [
    "Now we'll import allMoives_new.json. Remember that we still need to convert some of the columns into the datetime type so we'll do that afterwards. "
   ]
  },
  {
   "cell_type": "code",
   "execution_count": 39,
   "metadata": {
    "collapsed": true
   },
   "outputs": [],
   "source": [
    "with open(\"allMovies_new.json\", \"r\") as fd:\n",
    "    movie_df = json.load(fd)\n",
    "    movie_df = pd.DataFrame(movie_df)"
   ]
  },
  {
   "cell_type": "code",
   "execution_count": 40,
   "metadata": {
    "collapsed": true
   },
   "outputs": [],
   "source": [
    "# making close_date and open_date by concatenating the year, month and day\n",
    "import datetime\n",
    "close_date = []\n",
    "for index, row in movie_df.iterrows():\n",
    "    if row.close_day != '0':\n",
    "        close_date.append(datetime.datetime(int(row.close_year), int(row.close_month), int(row.close_day)))\n",
    "    else: \n",
    "        close_date.append(None)\n",
    "movie_df['close_date'] = close_date\n",
    "\n",
    "movie_df['open_date']=movie_df.open_year + '-' + movie_df.open_month + '-' + movie_df.open_day\n",
    "movie_df['open_date']=movie_df['open_date'].apply(pd.datetools.parse)\n",
    "\n",
    "# dropping unnecessary columns\n",
    "movie_df = movie_df.drop('close_day', 1)\n",
    "movie_df = movie_df.drop('close_month', 1)\n",
    "movie_df = movie_df.drop('open_day', 1)\n",
    "movie_df = movie_df.drop('open_month', 1)"
   ]
  },
  {
   "cell_type": "markdown",
   "metadata": {},
   "source": [
    "Great! Let's take a look at all the dataframes we've created"
   ]
  },
  {
   "cell_type": "code",
   "execution_count": 41,
   "metadata": {
    "collapsed": false
   },
   "outputs": [
    {
     "data": {
      "text/html": [
       "<div>\n",
       "<table border=\"1\" class=\"dataframe\">\n",
       "  <thead>\n",
       "    <tr style=\"text-align: right;\">\n",
       "      <th></th>\n",
       "      <th>close_year</th>\n",
       "      <th>gross</th>\n",
       "      <th>open_year</th>\n",
       "      <th>opening_gross</th>\n",
       "      <th>opening_theaters</th>\n",
       "      <th>ranking</th>\n",
       "      <th>title</th>\n",
       "      <th>total_theaters</th>\n",
       "      <th>year</th>\n",
       "      <th>close_date</th>\n",
       "      <th>open_date</th>\n",
       "    </tr>\n",
       "  </thead>\n",
       "  <tbody>\n",
       "    <tr>\n",
       "      <th>0</th>\n",
       "      <td>1991</td>\n",
       "      <td>285761243</td>\n",
       "      <td>1990</td>\n",
       "      <td>17081997</td>\n",
       "      <td>1202</td>\n",
       "      <td>1</td>\n",
       "      <td>Home Alone</td>\n",
       "      <td>2173</td>\n",
       "      <td>1990</td>\n",
       "      <td>None</td>\n",
       "      <td>1990-11-16</td>\n",
       "    </tr>\n",
       "    <tr>\n",
       "      <th>1</th>\n",
       "      <td>1991</td>\n",
       "      <td>217631306</td>\n",
       "      <td>1990</td>\n",
       "      <td>12191540</td>\n",
       "      <td>1101</td>\n",
       "      <td>2</td>\n",
       "      <td>Ghost</td>\n",
       "      <td>1766</td>\n",
       "      <td>1990</td>\n",
       "      <td>None</td>\n",
       "      <td>1990-07-13</td>\n",
       "    </tr>\n",
       "    <tr>\n",
       "      <th>2</th>\n",
       "      <td>1991</td>\n",
       "      <td>184208848</td>\n",
       "      <td>1990</td>\n",
       "      <td>598257</td>\n",
       "      <td>14</td>\n",
       "      <td>3</td>\n",
       "      <td>Dances with Wolves</td>\n",
       "      <td>1636</td>\n",
       "      <td>1990</td>\n",
       "      <td>None</td>\n",
       "      <td>1990-11-09</td>\n",
       "    </tr>\n",
       "    <tr>\n",
       "      <th>3</th>\n",
       "      <td>1991</td>\n",
       "      <td>178406268</td>\n",
       "      <td>1990</td>\n",
       "      <td>11280591</td>\n",
       "      <td>1325</td>\n",
       "      <td>4</td>\n",
       "      <td>Pretty Woman</td>\n",
       "      <td>1811</td>\n",
       "      <td>1990</td>\n",
       "      <td>None</td>\n",
       "      <td>1990-03-23</td>\n",
       "    </tr>\n",
       "    <tr>\n",
       "      <th>4</th>\n",
       "      <td>1991</td>\n",
       "      <td>135265915</td>\n",
       "      <td>1990</td>\n",
       "      <td>25398367</td>\n",
       "      <td>2006</td>\n",
       "      <td>5</td>\n",
       "      <td>Teenage Mutant Ninja Turtles</td>\n",
       "      <td>2377</td>\n",
       "      <td>1990</td>\n",
       "      <td>None</td>\n",
       "      <td>1990-03-30</td>\n",
       "    </tr>\n",
       "    <tr>\n",
       "      <th>5</th>\n",
       "      <td>1991</td>\n",
       "      <td>122012643</td>\n",
       "      <td>1990</td>\n",
       "      <td>17161835</td>\n",
       "      <td>1225</td>\n",
       "      <td>6</td>\n",
       "      <td>The Hunt for Red October</td>\n",
       "      <td>1817</td>\n",
       "      <td>1990</td>\n",
       "      <td>None</td>\n",
       "      <td>1990-03-02</td>\n",
       "    </tr>\n",
       "    <tr>\n",
       "      <th>6</th>\n",
       "      <td>1991</td>\n",
       "      <td>119394840</td>\n",
       "      <td>1990</td>\n",
       "      <td>25533700</td>\n",
       "      <td>2060</td>\n",
       "      <td>7</td>\n",
       "      <td>Total Recall</td>\n",
       "      <td>2131</td>\n",
       "      <td>1990</td>\n",
       "      <td>None</td>\n",
       "      <td>1990-06-01</td>\n",
       "    </tr>\n",
       "    <tr>\n",
       "      <th>7</th>\n",
       "      <td>1991</td>\n",
       "      <td>117540947</td>\n",
       "      <td>1990</td>\n",
       "      <td>21744661</td>\n",
       "      <td>2507</td>\n",
       "      <td>8</td>\n",
       "      <td>Die Hard 2: Die Harder</td>\n",
       "      <td>2507</td>\n",
       "      <td>1990</td>\n",
       "      <td>None</td>\n",
       "      <td>1990-07-06</td>\n",
       "    </tr>\n",
       "    <tr>\n",
       "      <th>8</th>\n",
       "      <td>1991</td>\n",
       "      <td>103738726</td>\n",
       "      <td>1990</td>\n",
       "      <td>22543911</td>\n",
       "      <td>2332</td>\n",
       "      <td>9</td>\n",
       "      <td>Dick Tracy</td>\n",
       "      <td>2332</td>\n",
       "      <td>1990</td>\n",
       "      <td>None</td>\n",
       "      <td>1990-06-15</td>\n",
       "    </tr>\n",
       "    <tr>\n",
       "      <th>9</th>\n",
       "      <td>1991</td>\n",
       "      <td>91457688</td>\n",
       "      <td>1990</td>\n",
       "      <td>7918560</td>\n",
       "      <td>1833</td>\n",
       "      <td>10</td>\n",
       "      <td>Kindergarten Cop</td>\n",
       "      <td>1937</td>\n",
       "      <td>1990</td>\n",
       "      <td>None</td>\n",
       "      <td>1990-12-22</td>\n",
       "    </tr>\n",
       "    <tr>\n",
       "      <th>10</th>\n",
       "      <td>1991</td>\n",
       "      <td>87727583</td>\n",
       "      <td>1990</td>\n",
       "      <td>19089645</td>\n",
       "      <td>2019</td>\n",
       "      <td>11</td>\n",
       "      <td>Back to the Future Part III</td>\n",
       "      <td>2070</td>\n",
       "      <td>1990</td>\n",
       "      <td>None</td>\n",
       "      <td>1990-05-25</td>\n",
       "    </tr>\n",
       "    <tr>\n",
       "      <th>11</th>\n",
       "      <td>1991</td>\n",
       "      <td>86303188</td>\n",
       "      <td>1990</td>\n",
       "      <td>11718981</td>\n",
       "      <td>1349</td>\n",
       "      <td>12</td>\n",
       "      <td>Presumed Innocent</td>\n",
       "      <td>1451</td>\n",
       "      <td>1990</td>\n",
       "      <td>None</td>\n",
       "      <td>1990-07-27</td>\n",
       "    </tr>\n",
       "    <tr>\n",
       "      <th>12</th>\n",
       "      <td>1991</td>\n",
       "      <td>82670733</td>\n",
       "      <td>1990</td>\n",
       "      <td>15490445</td>\n",
       "      <td>2307</td>\n",
       "      <td>13</td>\n",
       "      <td>Days of Thunder</td>\n",
       "      <td>2307</td>\n",
       "      <td>1990</td>\n",
       "      <td>None</td>\n",
       "      <td>1990-06-29</td>\n",
       "    </tr>\n",
       "    <tr>\n",
       "      <th>13</th>\n",
       "      <td>1991</td>\n",
       "      <td>80818974</td>\n",
       "      <td>1990</td>\n",
       "      <td>19475559</td>\n",
       "      <td>2721</td>\n",
       "      <td>14</td>\n",
       "      <td>Another 48 HRS.</td>\n",
       "      <td>2721</td>\n",
       "      <td>1990</td>\n",
       "      <td>None</td>\n",
       "      <td>1990-06-08</td>\n",
       "    </tr>\n",
       "    <tr>\n",
       "      <th>14</th>\n",
       "      <td>1991</td>\n",
       "      <td>71609321</td>\n",
       "      <td>1990</td>\n",
       "      <td>13774642</td>\n",
       "      <td>1281</td>\n",
       "      <td>15</td>\n",
       "      <td>Three Men and a Little Lady</td>\n",
       "      <td>1614</td>\n",
       "      <td>1990</td>\n",
       "      <td>None</td>\n",
       "      <td>1990-11-21</td>\n",
       "    </tr>\n",
       "    <tr>\n",
       "      <th>15</th>\n",
       "      <td>1991</td>\n",
       "      <td>70978012</td>\n",
       "      <td>1990</td>\n",
       "      <td>15338160</td>\n",
       "      <td>1944</td>\n",
       "      <td>16</td>\n",
       "      <td>Bird on a Wire</td>\n",
       "      <td>2008</td>\n",
       "      <td>1990</td>\n",
       "      <td>None</td>\n",
       "      <td>1990-05-18</td>\n",
       "    </tr>\n",
       "    <tr>\n",
       "      <th>16</th>\n",
       "      <td>1991</td>\n",
       "      <td>66666062</td>\n",
       "      <td>1990</td>\n",
       "      <td>19558558</td>\n",
       "      <td>1901</td>\n",
       "      <td>17</td>\n",
       "      <td>The Godfather Part III</td>\n",
       "      <td>1922</td>\n",
       "      <td>1990</td>\n",
       "      <td>None</td>\n",
       "      <td>1990-12-25</td>\n",
       "    </tr>\n",
       "    <tr>\n",
       "      <th>17</th>\n",
       "      <td>1991</td>\n",
       "      <td>61489265</td>\n",
       "      <td>1990</td>\n",
       "      <td>10034685</td>\n",
       "      <td>1319</td>\n",
       "      <td>18</td>\n",
       "      <td>Flatliners</td>\n",
       "      <td>1483</td>\n",
       "      <td>1990</td>\n",
       "      <td>None</td>\n",
       "      <td>1990-08-10</td>\n",
       "    </tr>\n",
       "    <tr>\n",
       "      <th>18</th>\n",
       "      <td>1991</td>\n",
       "      <td>61276872</td>\n",
       "      <td>1990</td>\n",
       "      <td>10076834</td>\n",
       "      <td>1244</td>\n",
       "      <td>19</td>\n",
       "      <td>Misery</td>\n",
       "      <td>1370</td>\n",
       "      <td>1990</td>\n",
       "      <td>None</td>\n",
       "      <td>1990-11-30</td>\n",
       "    </tr>\n",
       "    <tr>\n",
       "      <th>19</th>\n",
       "      <td>1991</td>\n",
       "      <td>56362352</td>\n",
       "      <td>1990</td>\n",
       "      <td>159622</td>\n",
       "      <td>2</td>\n",
       "      <td>20</td>\n",
       "      <td>Edward Scissorhands</td>\n",
       "      <td>1372</td>\n",
       "      <td>1990</td>\n",
       "      <td>None</td>\n",
       "      <td>1990-12-07</td>\n",
       "    </tr>\n",
       "    <tr>\n",
       "      <th>20</th>\n",
       "      <td>1991</td>\n",
       "      <td>53470891</td>\n",
       "      <td>1990</td>\n",
       "      <td>10026900</td>\n",
       "      <td>1714</td>\n",
       "      <td>21</td>\n",
       "      <td>Problem Child</td>\n",
       "      <td>1769</td>\n",
       "      <td>1990</td>\n",
       "      <td>None</td>\n",
       "      <td>1990-07-27</td>\n",
       "    </tr>\n",
       "    <tr>\n",
       "      <th>21</th>\n",
       "      <td>1991</td>\n",
       "      <td>53208180</td>\n",
       "      <td>1990</td>\n",
       "      <td>8045760</td>\n",
       "      <td>1479</td>\n",
       "      <td>22</td>\n",
       "      <td>Arachnophobia</td>\n",
       "      <td>2005</td>\n",
       "      <td>1990</td>\n",
       "      <td>None</td>\n",
       "      <td>1990-07-20</td>\n",
       "    </tr>\n",
       "    <tr>\n",
       "      <th>22</th>\n",
       "      <td>1991</td>\n",
       "      <td>52096475</td>\n",
       "      <td>1990</td>\n",
       "      <td>417076</td>\n",
       "      <td>12</td>\n",
       "      <td>23</td>\n",
       "      <td>Awakenings</td>\n",
       "      <td>1330</td>\n",
       "      <td>1990</td>\n",
       "      <td>None</td>\n",
       "      <td>1990-12-22</td>\n",
       "    </tr>\n",
       "    <tr>\n",
       "      <th>23</th>\n",
       "      <td>1991</td>\n",
       "      <td>47789074</td>\n",
       "      <td>1990</td>\n",
       "      <td>8100640</td>\n",
       "      <td>1576</td>\n",
       "      <td>24</td>\n",
       "      <td>Look Who's Talking Too</td>\n",
       "      <td>1647</td>\n",
       "      <td>1990</td>\n",
       "      <td>None</td>\n",
       "      <td>1990-12-14</td>\n",
       "    </tr>\n",
       "    <tr>\n",
       "      <th>24</th>\n",
       "      <td>1991</td>\n",
       "      <td>47410827</td>\n",
       "      <td>1990</td>\n",
       "      <td>9213631</td>\n",
       "      <td>1301</td>\n",
       "      <td>25</td>\n",
       "      <td>Hard to Kill</td>\n",
       "      <td>1508</td>\n",
       "      <td>1990</td>\n",
       "      <td>None</td>\n",
       "      <td>1990-02-09</td>\n",
       "    </tr>\n",
       "    <tr>\n",
       "      <th>25</th>\n",
       "      <td>1991</td>\n",
       "      <td>46836214</td>\n",
       "      <td>1990</td>\n",
       "      <td>6368901</td>\n",
       "      <td>1070</td>\n",
       "      <td>26</td>\n",
       "      <td>Goodfellas</td>\n",
       "      <td>1328</td>\n",
       "      <td>1990</td>\n",
       "      <td>None</td>\n",
       "      <td>1990-09-19</td>\n",
       "    </tr>\n",
       "    <tr>\n",
       "      <th>26</th>\n",
       "      <td>1991</td>\n",
       "      <td>46044396</td>\n",
       "      <td>1990</td>\n",
       "      <td>11790047</td>\n",
       "      <td>1968</td>\n",
       "      <td>27</td>\n",
       "      <td>Marked for Death</td>\n",
       "      <td>1974</td>\n",
       "      <td>1990</td>\n",
       "      <td>None</td>\n",
       "      <td>1990-10-05</td>\n",
       "    </tr>\n",
       "    <tr>\n",
       "      <th>27</th>\n",
       "      <td>1991</td>\n",
       "      <td>45681173</td>\n",
       "      <td>1990</td>\n",
       "      <td>14145411</td>\n",
       "      <td>1768</td>\n",
       "      <td>28</td>\n",
       "      <td>Robocop 2</td>\n",
       "      <td>1806</td>\n",
       "      <td>1990</td>\n",
       "      <td>None</td>\n",
       "      <td>1990-06-22</td>\n",
       "    </tr>\n",
       "    <tr>\n",
       "      <th>28</th>\n",
       "      <td>1991</td>\n",
       "      <td>44645619</td>\n",
       "      <td>1990</td>\n",
       "      <td>7708029</td>\n",
       "      <td>1901</td>\n",
       "      <td>29</td>\n",
       "      <td>The Jungle Book (re-issue) (1990)</td>\n",
       "      <td>1923</td>\n",
       "      <td>1990</td>\n",
       "      <td>None</td>\n",
       "      <td>1990-07-13</td>\n",
       "    </tr>\n",
       "    <tr>\n",
       "      <th>29</th>\n",
       "      <td>1991</td>\n",
       "      <td>44143410</td>\n",
       "      <td>1990</td>\n",
       "      <td>8017438</td>\n",
       "      <td>1770</td>\n",
       "      <td>30</td>\n",
       "      <td>Young Guns II</td>\n",
       "      <td>1770</td>\n",
       "      <td>1990</td>\n",
       "      <td>None</td>\n",
       "      <td>1990-08-03</td>\n",
       "    </tr>\n",
       "    <tr>\n",
       "      <th>...</th>\n",
       "      <td>...</td>\n",
       "      <td>...</td>\n",
       "      <td>...</td>\n",
       "      <td>...</td>\n",
       "      <td>...</td>\n",
       "      <td>...</td>\n",
       "      <td>...</td>\n",
       "      <td>...</td>\n",
       "      <td>...</td>\n",
       "      <td>...</td>\n",
       "      <td>...</td>\n",
       "    </tr>\n",
       "    <tr>\n",
       "      <th>2570</th>\n",
       "      <td>2016</td>\n",
       "      <td>29467855</td>\n",
       "      <td>2015</td>\n",
       "      <td>8246267</td>\n",
       "      <td>1960</td>\n",
       "      <td>71</td>\n",
       "      <td>A Walk in the Woods</td>\n",
       "      <td>2158</td>\n",
       "      <td>2015</td>\n",
       "      <td>None</td>\n",
       "      <td>2015-09-02</td>\n",
       "    </tr>\n",
       "    <tr>\n",
       "      <th>2571</th>\n",
       "      <td>2015</td>\n",
       "      <td>27740955</td>\n",
       "      <td>2015</td>\n",
       "      <td>10542116</td>\n",
       "      <td>2766</td>\n",
       "      <td>72</td>\n",
       "      <td>Sinister 2</td>\n",
       "      <td>2799</td>\n",
       "      <td>2015</td>\n",
       "      <td>2015-10-29 00:00:00</td>\n",
       "      <td>2015-08-21</td>\n",
       "    </tr>\n",
       "    <tr>\n",
       "      <th>2572</th>\n",
       "      <td>2015</td>\n",
       "      <td>27288872</td>\n",
       "      <td>2015</td>\n",
       "      <td>8111264</td>\n",
       "      <td>3355</td>\n",
       "      <td>73</td>\n",
       "      <td>No Escape</td>\n",
       "      <td>3415</td>\n",
       "      <td>2015</td>\n",
       "      <td>2015-11-26 00:00:00</td>\n",
       "      <td>2015-08-26</td>\n",
       "    </tr>\n",
       "    <tr>\n",
       "      <th>2573</th>\n",
       "      <td>2016</td>\n",
<<<<<<< HEAD
       "      <td>26992783</td>\n",
=======
       "      <td>26997690</td>\n",
>>>>>>> master
       "      <td>2015</td>\n",
       "      <td>10812861</td>\n",
       "      <td>3082</td>\n",
       "      <td>74</td>\n",
       "      <td>The Last Witch Hunter</td>\n",
       "      <td>3082</td>\n",
       "      <td>2015</td>\n",
       "      <td>None</td>\n",
       "      <td>2015-10-23</td>\n",
       "    </tr>\n",
       "    <tr>\n",
       "      <th>2574</th>\n",
       "      <td>2016</td>\n",
       "      <td>26822144</td>\n",
       "      <td>2015</td>\n",
       "      <td>6610961</td>\n",
       "      <td>1603</td>\n",
       "      <td>75</td>\n",
       "      <td>Ricki and the Flash</td>\n",
       "      <td>2064</td>\n",
       "      <td>2015</td>\n",
       "      <td>None</td>\n",
       "      <td>2015-08-07</td>\n",
       "    </tr>\n",
       "    <tr>\n",
       "      <th>2575</th>\n",
       "      <td>2015</td>\n",
       "      <td>26501323</td>\n",
       "      <td>2015</td>\n",
       "      <td>15027415</td>\n",
       "      <td>2602</td>\n",
       "      <td>76</td>\n",
       "      <td>The Woman in Black 2: Angel of Death</td>\n",
       "      <td>2602</td>\n",
       "      <td>2015</td>\n",
       "      <td>2015-03-19 00:00:00</td>\n",
       "      <td>2015-01-02</td>\n",
       "    </tr>\n",
       "    <tr>\n",
       "      <th>2576</th>\n",
       "      <td>2015</td>\n",
       "      <td>26461644</td>\n",
       "      <td>2015</td>\n",
       "      <td>11012305</td>\n",
       "      <td>3171</td>\n",
       "      <td>77</td>\n",
       "      <td>Run All Night</td>\n",
       "      <td>3171</td>\n",
       "      <td>2015</td>\n",
       "      <td>2015-05-07 00:00:00</td>\n",
       "      <td>2015-03-13</td>\n",
       "    </tr>\n",
       "    <tr>\n",
       "      <th>2577</th>\n",
       "      <td>2016</td>\n",
       "      <td>26439912</td>\n",
       "      <td>2015</td>\n",
       "      <td>9880536</td>\n",
       "      <td>2960</td>\n",
       "      <td>78</td>\n",
       "      <td>The Night Before</td>\n",
       "      <td>2960</td>\n",
       "      <td>2015</td>\n",
       "      <td>None</td>\n",
       "      <td>2015-11-20</td>\n",
       "    </tr>\n",
       "    <tr>\n",
       "      <th>2578</th>\n",
       "      <td>2015</td>\n",
       "      <td>25801047</td>\n",
       "      <td>2015</td>\n",
       "      <td>10203437</td>\n",
       "      <td>2666</td>\n",
       "      <td>79</td>\n",
       "      <td>The Lazarus Effect</td>\n",
       "      <td>2666</td>\n",
       "      <td>2015</td>\n",
       "      <td>2015-06-11 00:00:00</td>\n",
       "      <td>2015-02-27</td>\n",
       "    </tr>\n",
       "    <tr>\n",
<<<<<<< HEAD
       "      <th>2578</th>\n",
       "      <td>2016</td>\n",
       "      <td>25787526</td>\n",
       "      <td>2015</td>\n",
       "      <td>9880536</td>\n",
       "      <td>2960</td>\n",
       "      <td>79</td>\n",
       "      <td>The Night Before</td>\n",
       "      <td>2960</td>\n",
       "      <td>2015</td>\n",
       "      <td>None</td>\n",
       "      <td>2015-11-20</td>\n",
       "    </tr>\n",
       "    <tr>\n",
=======
>>>>>>> master
       "      <th>2579</th>\n",
       "      <td>2015</td>\n",
       "      <td>25442958</td>\n",
       "      <td>2015</td>\n",
       "      <td>237264</td>\n",
       "      <td>4</td>\n",
       "      <td>80</td>\n",
       "      <td>Ex Machina</td>\n",
       "      <td>2004</td>\n",
       "      <td>2015</td>\n",
       "      <td>2015-09-03 00:00:00</td>\n",
       "      <td>2015-04-10</td>\n",
       "    </tr>\n",
       "    <tr>\n",
       "      <th>2580</th>\n",
       "      <td>2015</td>\n",
       "      <td>22764410</td>\n",
       "      <td>2015</td>\n",
       "      <td>9808463</td>\n",
       "      <td>2720</td>\n",
       "      <td>81</td>\n",
       "      <td>The Gallows</td>\n",
       "      <td>2720</td>\n",
       "      <td>2015</td>\n",
       "      <td>2015-09-17 00:00:00</td>\n",
       "      <td>2015-07-10</td>\n",
       "    </tr>\n",
       "    <tr>\n",
       "      <th>2581</th>\n",
       "      <td>2015</td>\n",
       "      <td>22467450</td>\n",
       "      <td>2015</td>\n",
       "      <td>8326530</td>\n",
       "      <td>3261</td>\n",
       "      <td>82</td>\n",
       "      <td>Hitman: Agent 47</td>\n",
       "      <td>3273</td>\n",
       "      <td>2015</td>\n",
       "      <td>2015-10-15 00:00:00</td>\n",
       "      <td>2015-08-21</td>\n",
       "    </tr>\n",
       "    <tr>\n",
       "      <th>2582</th>\n",
       "      <td>2015</td>\n",
       "      <td>22348241</td>\n",
       "      <td>2015</td>\n",
       "      <td>8310252</td>\n",
       "      <td>2893</td>\n",
       "      <td>83</td>\n",
       "      <td>Project Almanac</td>\n",
       "      <td>2900</td>\n",
       "      <td>2015</td>\n",
       "      <td>2015-03-26 00:00:00</td>\n",
       "      <td>2015-01-30</td>\n",
       "    </tr>\n",
       "    <tr>\n",
       "      <th>2583</th>\n",
       "      <td>2015</td>\n",
       "      <td>21571189</td>\n",
       "      <td>2015</td>\n",
       "      <td>6213362</td>\n",
       "      <td>1823</td>\n",
       "      <td>84</td>\n",
       "      <td>Black or White</td>\n",
       "      <td>1823</td>\n",
       "      <td>2015</td>\n",
       "      <td>2015-05-14 00:00:00</td>\n",
       "      <td>2015-01-30</td>\n",
       "    </tr>\n",
       "    <tr>\n",
       "      <th>2584</th>\n",
       "      <td>2015</td>\n",
       "      <td>21067116</td>\n",
       "      <td>2015</td>\n",
       "      <td>9670235</td>\n",
       "      <td>2815</td>\n",
       "      <td>85</td>\n",
       "      <td>Aloha</td>\n",
       "      <td>2815</td>\n",
       "      <td>2015</td>\n",
       "      <td>2015-07-30 00:00:00</td>\n",
       "      <td>2015-05-29</td>\n",
       "    </tr>\n",
       "    <tr>\n",
       "      <th>2585</th>\n",
       "      <td>2016</td>\n",
<<<<<<< HEAD
       "      <td>20862418</td>\n",
=======
       "      <td>21028459</td>\n",
>>>>>>> master
       "      <td>2015</td>\n",
       "      <td>8317545</td>\n",
       "      <td>2603</td>\n",
       "      <td>86</td>\n",
       "      <td>Love the Coopers</td>\n",
       "      <td>2603</td>\n",
       "      <td>2015</td>\n",
       "      <td>None</td>\n",
       "      <td>2015-11-13</td>\n",
       "    </tr>\n",
       "    <tr>\n",
       "      <th>2586</th>\n",
       "      <td>2015</td>\n",
       "      <td>19375982</td>\n",
       "      <td>2015</td>\n",
       "      <td>4038962</td>\n",
       "      <td>2320</td>\n",
       "      <td>87</td>\n",
       "      <td>Shaun the Sheep Movie</td>\n",
       "      <td>2360</td>\n",
       "      <td>2015</td>\n",
       "      <td>2015-10-22 00:00:00</td>\n",
       "      <td>2015-08-05</td>\n",
       "    </tr>\n",
       "    <tr>\n",
       "      <th>2587</th>\n",
       "      <td>2015</td>\n",
       "      <td>18754371</td>\n",
       "      <td>2015</td>\n",
       "      <td>197000</td>\n",
       "      <td>12</td>\n",
       "      <td>88</td>\n",
       "      <td>Still Alice</td>\n",
       "      <td>1318</td>\n",
       "      <td>2015</td>\n",
       "      <td>2015-05-21 00:00:00</td>\n",
       "      <td>2015-01-16</td>\n",
       "    </tr>\n",
       "    <tr>\n",
       "      <th>2588</th>\n",
       "      <td>2016</td>\n",
       "      <td>18300124</td>\n",
       "      <td>2015</td>\n",
       "      <td>8070493</td>\n",
       "      <td>1656</td>\n",
       "      <td>89</td>\n",
       "      <td>Paranormal Activity: The Ghost Dimension</td>\n",
       "      <td>1656</td>\n",
       "      <td>2015</td>\n",
       "      <td>None</td>\n",
       "      <td>2015-10-23</td>\n",
       "    </tr>\n",
       "    <tr>\n",
       "      <th>2589</th>\n",
       "      <td>2015</td>\n",
       "      <td>17737646</td>\n",
       "      <td>2015</td>\n",
       "      <td>2434908</td>\n",
       "      <td>361</td>\n",
       "      <td>90</td>\n",
       "      <td>Mr. Holmes</td>\n",
       "      <td>898</td>\n",
       "      <td>2015</td>\n",
       "      <td>2015-11-05 00:00:00</td>\n",
       "      <td>2015-07-17</td>\n",
       "    </tr>\n",
       "    <tr>\n",
       "      <th>2590</th>\n",
       "      <td>2016</td>\n",
<<<<<<< HEAD
       "      <td>17712643</td>\n",
=======
       "      <td>17717593</td>\n",
>>>>>>> master
       "      <td>2015</td>\n",
       "      <td>521522</td>\n",
       "      <td>4</td>\n",
       "      <td>91</td>\n",
       "      <td>Steve Jobs</td>\n",
       "      <td>2493</td>\n",
       "      <td>2015</td>\n",
       "      <td>None</td>\n",
       "      <td>2015-10-09</td>\n",
       "    </tr>\n",
       "    <tr>\n",
       "      <th>2591</th>\n",
       "      <td>2015</td>\n",
       "      <td>17506470</td>\n",
       "      <td>2015</td>\n",
       "      <td>6100010</td>\n",
       "      <td>2002</td>\n",
       "      <td>92</td>\n",
       "      <td>Dope</td>\n",
       "      <td>2002</td>\n",
       "      <td>2015</td>\n",
       "      <td>2015-09-17 00:00:00</td>\n",
       "      <td>2015-06-19</td>\n",
       "    </tr>\n",
       "    <tr>\n",
       "      <th>2592</th>\n",
       "      <td>2015</td>\n",
       "      <td>17223265</td>\n",
       "      <td>2015</td>\n",
       "      <td>7217640</td>\n",
       "      <td>2875</td>\n",
       "      <td>93</td>\n",
       "      <td>Seventh Son</td>\n",
       "      <td>2875</td>\n",
       "      <td>2015</td>\n",
       "      <td>2015-03-19 00:00:00</td>\n",
       "      <td>2015-02-06</td>\n",
       "    </tr>\n",
       "    <tr>\n",
       "      <th>2593</th>\n",
       "      <td>2015</td>\n",
       "      <td>16432322</td>\n",
       "      <td>2015</td>\n",
       "      <td>4577861</td>\n",
       "      <td>2012</td>\n",
       "      <td>94</td>\n",
       "      <td>Monkey Kingdom</td>\n",
       "      <td>2012</td>\n",
       "      <td>2015</td>\n",
       "      <td>2015-07-23 00:00:00</td>\n",
       "      <td>2015-04-17</td>\n",
       "    </tr>\n",
       "    <tr>\n",
       "      <th>2594</th>\n",
       "      <td>2015</td>\n",
       "      <td>16029670</td>\n",
       "      <td>2015</td>\n",
       "      <td>7355622</td>\n",
       "      <td>3434</td>\n",
       "      <td>95</td>\n",
       "      <td>The Transporter Refueled</td>\n",
       "      <td>3434</td>\n",
       "      <td>2015</td>\n",
       "      <td>2015-11-19 00:00:00</td>\n",
       "      <td>2015-09-04</td>\n",
       "    </tr>\n",
       "    <tr>\n",
       "      <th>2595</th>\n",
       "      <td>2016</td>\n",
<<<<<<< HEAD
       "      <td>14703109</td>\n",
=======
       "      <td>15012671</td>\n",
>>>>>>> master
       "      <td>2015</td>\n",
       "      <td>6652996</td>\n",
       "      <td>2392</td>\n",
       "      <td>96</td>\n",
       "      <td>The Secret in their Eyes (2015)</td>\n",
       "      <td>2392</td>\n",
       "      <td>2015</td>\n",
       "      <td>None</td>\n",
       "      <td>2015-11-20</td>\n",
       "    </tr>\n",
       "    <tr>\n",
       "      <th>2596</th>\n",
       "      <td>2015</td>\n",
       "      <td>14674076</td>\n",
       "      <td>2015</td>\n",
       "      <td>160089</td>\n",
       "      <td>4</td>\n",
       "      <td>97</td>\n",
       "      <td>It Follows</td>\n",
       "      <td>1655</td>\n",
       "      <td>2015</td>\n",
       "      <td>2015-06-25 00:00:00</td>\n",
       "      <td>2015-03-13</td>\n",
       "    </tr>\n",
       "    <tr>\n",
       "      <th>2597</th>\n",
       "      <td>2015</td>\n",
       "      <td>14440985</td>\n",
       "      <td>2015</td>\n",
       "      <td>5454284</td>\n",
       "      <td>2778</td>\n",
       "      <td>98</td>\n",
       "      <td>American Ultra</td>\n",
       "      <td>2778</td>\n",
       "      <td>2015</td>\n",
       "      <td>2015-10-08 00:00:00</td>\n",
       "      <td>2015-08-21</td>\n",
       "    </tr>\n",
       "    <tr>\n",
       "      <th>2598</th>\n",
       "      <td>2016</td>\n",
<<<<<<< HEAD
       "      <td>14214579</td>\n",
=======
       "      <td>14218236</td>\n",
>>>>>>> master
       "      <td>2015</td>\n",
       "      <td>4002226</td>\n",
       "      <td>1553</td>\n",
       "      <td>99</td>\n",
       "      <td>Woodlawn</td>\n",
       "      <td>1553</td>\n",
       "      <td>2015</td>\n",
       "      <td>None</td>\n",
       "      <td>2015-10-16</td>\n",
       "    </tr>\n",
       "    <tr>\n",
       "      <th>2599</th>\n",
       "      <td>2016</td>\n",
<<<<<<< HEAD
       "      <td>13546332</td>\n",
=======
       "      <td>13550619</td>\n",
>>>>>>> master
       "      <td>2015</td>\n",
       "      <td>5002521</td>\n",
       "      <td>3003</td>\n",
       "      <td>100</td>\n",
       "      <td>Burnt</td>\n",
       "      <td>3003</td>\n",
       "      <td>2015</td>\n",
       "      <td>None</td>\n",
       "      <td>2015-10-30</td>\n",
       "    </tr>\n",
       "  </tbody>\n",
       "</table>\n",
       "<p>2600 rows × 11 columns</p>\n",
       "</div>"
      ],
      "text/plain": [
       "     close_year      gross open_year  opening_gross  opening_theaters  ranking                                     title  total_theaters  year           close_date  open_date\n",
       "0          1991  285761243      1990       17081997              1202        1                                Home Alone            2173  1990                 None 1990-11-16\n",
       "1          1991  217631306      1990       12191540              1101        2                                     Ghost            1766  1990                 None 1990-07-13\n",
       "2          1991  184208848      1990         598257                14        3                        Dances with Wolves            1636  1990                 None 1990-11-09\n",
       "3          1991  178406268      1990       11280591              1325        4                              Pretty Woman            1811  1990                 None 1990-03-23\n",
       "4          1991  135265915      1990       25398367              2006        5              Teenage Mutant Ninja Turtles            2377  1990                 None 1990-03-30\n",
       "5          1991  122012643      1990       17161835              1225        6                  The Hunt for Red October            1817  1990                 None 1990-03-02\n",
       "6          1991  119394840      1990       25533700              2060        7                              Total Recall            2131  1990                 None 1990-06-01\n",
       "7          1991  117540947      1990       21744661              2507        8                    Die Hard 2: Die Harder            2507  1990                 None 1990-07-06\n",
       "8          1991  103738726      1990       22543911              2332        9                                Dick Tracy            2332  1990                 None 1990-06-15\n",
       "9          1991   91457688      1990        7918560              1833       10                          Kindergarten Cop            1937  1990                 None 1990-12-22\n",
       "10         1991   87727583      1990       19089645              2019       11               Back to the Future Part III            2070  1990                 None 1990-05-25\n",
       "11         1991   86303188      1990       11718981              1349       12                         Presumed Innocent            1451  1990                 None 1990-07-27\n",
       "12         1991   82670733      1990       15490445              2307       13                           Days of Thunder            2307  1990                 None 1990-06-29\n",
       "13         1991   80818974      1990       19475559              2721       14                           Another 48 HRS.            2721  1990                 None 1990-06-08\n",
       "14         1991   71609321      1990       13774642              1281       15               Three Men and a Little Lady            1614  1990                 None 1990-11-21\n",
       "15         1991   70978012      1990       15338160              1944       16                            Bird on a Wire            2008  1990                 None 1990-05-18\n",
       "16         1991   66666062      1990       19558558              1901       17                    The Godfather Part III            1922  1990                 None 1990-12-25\n",
       "17         1991   61489265      1990       10034685              1319       18                                Flatliners            1483  1990                 None 1990-08-10\n",
       "18         1991   61276872      1990       10076834              1244       19                                    Misery            1370  1990                 None 1990-11-30\n",
       "19         1991   56362352      1990         159622                 2       20                       Edward Scissorhands            1372  1990                 None 1990-12-07\n",
       "20         1991   53470891      1990       10026900              1714       21                             Problem Child            1769  1990                 None 1990-07-27\n",
       "21         1991   53208180      1990        8045760              1479       22                             Arachnophobia            2005  1990                 None 1990-07-20\n",
       "22         1991   52096475      1990         417076                12       23                                Awakenings            1330  1990                 None 1990-12-22\n",
       "23         1991   47789074      1990        8100640              1576       24                    Look Who's Talking Too            1647  1990                 None 1990-12-14\n",
       "24         1991   47410827      1990        9213631              1301       25                              Hard to Kill            1508  1990                 None 1990-02-09\n",
       "25         1991   46836214      1990        6368901              1070       26                                Goodfellas            1328  1990                 None 1990-09-19\n",
       "26         1991   46044396      1990       11790047              1968       27                          Marked for Death            1974  1990                 None 1990-10-05\n",
       "27         1991   45681173      1990       14145411              1768       28                                 Robocop 2            1806  1990                 None 1990-06-22\n",
       "28         1991   44645619      1990        7708029              1901       29         The Jungle Book (re-issue) (1990)            1923  1990                 None 1990-07-13\n",
       "29         1991   44143410      1990        8017438              1770       30                             Young Guns II            1770  1990                 None 1990-08-03\n",
       "...         ...        ...       ...            ...               ...      ...                                       ...             ...   ...                  ...        ...\n",
       "2570       2016   29467855      2015        8246267              1960       71                       A Walk in the Woods            2158  2015                 None 2015-09-02\n",
       "2571       2015   27740955      2015       10542116              2766       72                                Sinister 2            2799  2015  2015-10-29 00:00:00 2015-08-21\n",
       "2572       2015   27288872      2015        8111264              3355       73                                 No Escape            3415  2015  2015-11-26 00:00:00 2015-08-26\n",
<<<<<<< HEAD
       "2573       2016   26992783      2015       10812861              3082       74                     The Last Witch Hunter            3082  2015                 None 2015-10-23\n",
       "2574       2016   26822144      2015        6610961              1603       75                       Ricki and the Flash            2064  2015                 None 2015-08-07\n",
       "2575       2015   26501323      2015       15027415              2602       76      The Woman in Black 2: Angel of Death            2602  2015  2015-03-19 00:00:00 2015-01-02\n",
       "2576       2015   26461644      2015       11012305              3171       77                             Run All Night            3171  2015  2015-05-07 00:00:00 2015-03-13\n",
       "2577       2015   25801047      2015       10203437              2666       78                        The Lazarus Effect            2666  2015  2015-06-11 00:00:00 2015-02-27\n",
       "2578       2016   25787526      2015        9880536              2960       79                          The Night Before            2960  2015                 None 2015-11-20\n",
=======
       "2573       2016   26997690      2015       10812861              3082       74                     The Last Witch Hunter            3082  2015                 None 2015-10-23\n",
       "2574       2016   26822144      2015        6610961              1603       75                       Ricki and the Flash            2064  2015                 None 2015-08-07\n",
       "2575       2015   26501323      2015       15027415              2602       76      The Woman in Black 2: Angel of Death            2602  2015  2015-03-19 00:00:00 2015-01-02\n",
       "2576       2015   26461644      2015       11012305              3171       77                             Run All Night            3171  2015  2015-05-07 00:00:00 2015-03-13\n",
       "2577       2016   26439912      2015        9880536              2960       78                          The Night Before            2960  2015                 None 2015-11-20\n",
       "2578       2015   25801047      2015       10203437              2666       79                        The Lazarus Effect            2666  2015  2015-06-11 00:00:00 2015-02-27\n",
>>>>>>> master
       "2579       2015   25442958      2015         237264                 4       80                                Ex Machina            2004  2015  2015-09-03 00:00:00 2015-04-10\n",
       "2580       2015   22764410      2015        9808463              2720       81                               The Gallows            2720  2015  2015-09-17 00:00:00 2015-07-10\n",
       "2581       2015   22467450      2015        8326530              3261       82                          Hitman: Agent 47            3273  2015  2015-10-15 00:00:00 2015-08-21\n",
       "2582       2015   22348241      2015        8310252              2893       83                           Project Almanac            2900  2015  2015-03-26 00:00:00 2015-01-30\n",
       "2583       2015   21571189      2015        6213362              1823       84                            Black or White            1823  2015  2015-05-14 00:00:00 2015-01-30\n",
       "2584       2015   21067116      2015        9670235              2815       85                                     Aloha            2815  2015  2015-07-30 00:00:00 2015-05-29\n",
<<<<<<< HEAD
       "2585       2016   20862418      2015        8317545              2603       86                          Love the Coopers            2603  2015                 None 2015-11-13\n",
=======
       "2585       2016   21028459      2015        8317545              2603       86                          Love the Coopers            2603  2015                 None 2015-11-13\n",
>>>>>>> master
       "2586       2015   19375982      2015        4038962              2320       87                     Shaun the Sheep Movie            2360  2015  2015-10-22 00:00:00 2015-08-05\n",
       "2587       2015   18754371      2015         197000                12       88                               Still Alice            1318  2015  2015-05-21 00:00:00 2015-01-16\n",
       "2588       2016   18300124      2015        8070493              1656       89  Paranormal Activity: The Ghost Dimension            1656  2015                 None 2015-10-23\n",
       "2589       2015   17737646      2015        2434908               361       90                                Mr. Holmes             898  2015  2015-11-05 00:00:00 2015-07-17\n",
<<<<<<< HEAD
       "2590       2016   17712643      2015         521522                 4       91                                Steve Jobs            2493  2015                 None 2015-10-09\n",
=======
       "2590       2016   17717593      2015         521522                 4       91                                Steve Jobs            2493  2015                 None 2015-10-09\n",
>>>>>>> master
       "2591       2015   17506470      2015        6100010              2002       92                                      Dope            2002  2015  2015-09-17 00:00:00 2015-06-19\n",
       "2592       2015   17223265      2015        7217640              2875       93                               Seventh Son            2875  2015  2015-03-19 00:00:00 2015-02-06\n",
       "2593       2015   16432322      2015        4577861              2012       94                            Monkey Kingdom            2012  2015  2015-07-23 00:00:00 2015-04-17\n",
       "2594       2015   16029670      2015        7355622              3434       95                  The Transporter Refueled            3434  2015  2015-11-19 00:00:00 2015-09-04\n",
<<<<<<< HEAD
       "2595       2016   14703109      2015        6652996              2392       96           The Secret in their Eyes (2015)            2392  2015                 None 2015-11-20\n",
       "2596       2015   14674076      2015         160089                 4       97                                It Follows            1655  2015  2015-06-25 00:00:00 2015-03-13\n",
       "2597       2015   14440985      2015        5454284              2778       98                            American Ultra            2778  2015  2015-10-08 00:00:00 2015-08-21\n",
       "2598       2016   14214579      2015        4002226              1553       99                                  Woodlawn            1553  2015                 None 2015-10-16\n",
       "2599       2016   13546332      2015        5002521              3003      100                                     Burnt            3003  2015                 None 2015-10-30\n",
=======
       "2595       2016   15012671      2015        6652996              2392       96           The Secret in their Eyes (2015)            2392  2015                 None 2015-11-20\n",
       "2596       2015   14674076      2015         160089                 4       97                                It Follows            1655  2015  2015-06-25 00:00:00 2015-03-13\n",
       "2597       2015   14440985      2015        5454284              2778       98                            American Ultra            2778  2015  2015-10-08 00:00:00 2015-08-21\n",
       "2598       2016   14218236      2015        4002226              1553       99                                  Woodlawn            1553  2015                 None 2015-10-16\n",
       "2599       2016   13550619      2015        5002521              3003      100                                     Burnt            3003  2015                 None 2015-10-30\n",
>>>>>>> master
       "\n",
       "[2600 rows x 11 columns]"
      ]
     },
<<<<<<< HEAD
     "execution_count": 31,
=======
     "execution_count": 41,
>>>>>>> master
     "metadata": {},
     "output_type": "execute_result"
    }
   ],
   "source": [
    "movie_df"
   ]
  },
  {
   "cell_type": "code",
<<<<<<< HEAD
   "execution_count": 32,
   "metadata": {
    "collapsed": false
   },
   "outputs": [
    {
     "data": {
      "text/html": [
       "<div>\n",
       "<table border=\"1\" class=\"dataframe\">\n",
       "  <thead>\n",
       "    <tr style=\"text-align: right;\">\n",
       "      <th></th>\n",
       "      <th>movie_id</th>\n",
       "      <th>movie_name</th>\n",
       "      <th>positive</th>\n",
       "      <th>stars</th>\n",
       "      <th>text</th>\n",
       "      <th>url</th>\n",
       "      <th>absolute_stars</th>\n",
       "    </tr>\n",
       "  </thead>\n",
       "  <tbody>\n",
       "    <tr>\n",
       "      <th>0</th>\n",
       "      <td>10027</td>\n",
       "      <td>Titanic</td>\n",
       "      <td>True</td>\n",
       "      <td>7</td>\n",
       "      <td>Sure, Titanic was a good movie, the first time...</td>\n",
       "      <td>http://www.imdb.com/title/tt0120338/usercommen...</td>\n",
       "      <td>1.5</td>\n",
       "    </tr>\n",
       "    <tr>\n",
       "      <th>1</th>\n",
       "      <td>10028</td>\n",
       "      <td>Titanic</td>\n",
       "      <td>True</td>\n",
       "      <td>10</td>\n",
       "      <td>When I saw this movie I was stunned by what a ...</td>\n",
       "      <td>http://www.imdb.com/title/tt0120338/usercommen...</td>\n",
       "      <td>4.5</td>\n",
       "    </tr>\n",
       "    <tr>\n",
       "      <th>2</th>\n",
       "      <td>10029</td>\n",
       "      <td>Titanic</td>\n",
       "      <td>True</td>\n",
       "      <td>10</td>\n",
       "      <td>Why do people bitch about this movie and not a...</td>\n",
       "      <td>http://www.imdb.com/title/tt0120338/usercommen...</td>\n",
       "      <td>4.5</td>\n",
       "    </tr>\n",
       "    <tr>\n",
       "      <th>3</th>\n",
       "      <td>10030</td>\n",
       "      <td>Titanic</td>\n",
       "      <td>True</td>\n",
       "      <td>10</td>\n",
       "      <td>What's inexplicable? Firstly, the hatred towar...</td>\n",
       "      <td>http://www.imdb.com/title/tt0120338/usercommen...</td>\n",
       "      <td>4.5</td>\n",
       "    </tr>\n",
       "    <tr>\n",
       "      <th>4</th>\n",
       "      <td>10031</td>\n",
       "      <td>Titanic</td>\n",
       "      <td>True</td>\n",
       "      <td>10</td>\n",
       "      <td>Previously, I wrote that I loved \"Titanic\", cr...</td>\n",
       "      <td>http://www.imdb.com/title/tt0120338/usercommen...</td>\n",
       "      <td>4.5</td>\n",
       "    </tr>\n",
       "  </tbody>\n",
       "</table>\n",
       "</div>"
      ],
      "text/plain": [
       "   movie_id movie_name positive  stars                                               text                                                url  absolute_stars\n",
       "0     10027    Titanic     True      7  Sure, Titanic was a good movie, the first time...  http://www.imdb.com/title/tt0120338/usercommen...             1.5\n",
       "1     10028    Titanic     True     10  When I saw this movie I was stunned by what a ...  http://www.imdb.com/title/tt0120338/usercommen...             4.5\n",
       "2     10029    Titanic     True     10  Why do people bitch about this movie and not a...  http://www.imdb.com/title/tt0120338/usercommen...             4.5\n",
       "3     10030    Titanic     True     10  What's inexplicable? Firstly, the hatred towar...  http://www.imdb.com/title/tt0120338/usercommen...             4.5\n",
       "4     10031    Titanic     True     10  Previously, I wrote that I loved \"Titanic\", cr...  http://www.imdb.com/title/tt0120338/usercommen...             4.5"
      ]
     },
     "execution_count": 32,
     "metadata": {},
     "output_type": "execute_result"
    }
   ],
   "source": [
    "IMDB_df['absolute_stars'] = np.abs(IMDB_df['stars']-5.5)\n",
    "IMDB_df.head()"
   ]
  },
  {
   "cell_type": "code",
   "execution_count": 33,
=======
   "execution_count": 42,
>>>>>>> master
   "metadata": {
    "collapsed": false
   },
   "outputs": [
    {
     "data": {
      "text/html": [
       "<div>\n",
       "<table border=\"1\" class=\"dataframe\">\n",
       "  <thead>\n",
       "    <tr style=\"text-align: right;\">\n",
       "      <th></th>\n",
       "      <th>movie_id</th>\n",
       "      <th>movie_name</th>\n",
       "      <th>positive</th>\n",
       "      <th>stars</th>\n",
       "      <th>text</th>\n",
       "      <th>url</th>\n",
       "    </tr>\n",
       "  </thead>\n",
       "  <tbody>\n",
       "    <tr>\n",
       "      <th>0</th>\n",
       "      <td>10027</td>\n",
       "      <td>Titanic</td>\n",
       "      <td>True</td>\n",
       "      <td>7</td>\n",
       "      <td>Sure, Titanic was a good movie, the first time...</td>\n",
       "      <td>http://www.imdb.com/title/tt0120338/usercommen...</td>\n",
       "    </tr>\n",
       "    <tr>\n",
       "      <th>1</th>\n",
       "      <td>10028</td>\n",
       "      <td>Titanic</td>\n",
       "      <td>True</td>\n",
       "      <td>10</td>\n",
       "      <td>When I saw this movie I was stunned by what a ...</td>\n",
       "      <td>http://www.imdb.com/title/tt0120338/usercommen...</td>\n",
       "    </tr>\n",
       "    <tr>\n",
       "      <th>2</th>\n",
       "      <td>10029</td>\n",
       "      <td>Titanic</td>\n",
       "      <td>True</td>\n",
       "      <td>10</td>\n",
       "      <td>Why do people bitch about this movie and not a...</td>\n",
       "      <td>http://www.imdb.com/title/tt0120338/usercommen...</td>\n",
       "    </tr>\n",
       "    <tr>\n",
       "      <th>3</th>\n",
       "      <td>10030</td>\n",
       "      <td>Titanic</td>\n",
       "      <td>True</td>\n",
       "      <td>10</td>\n",
       "      <td>What's inexplicable? Firstly, the hatred towar...</td>\n",
       "      <td>http://www.imdb.com/title/tt0120338/usercommen...</td>\n",
       "    </tr>\n",
       "    <tr>\n",
       "      <th>4</th>\n",
       "      <td>10031</td>\n",
       "      <td>Titanic</td>\n",
       "      <td>True</td>\n",
       "      <td>10</td>\n",
       "      <td>Previously, I wrote that I loved \"Titanic\", cr...</td>\n",
       "      <td>http://www.imdb.com/title/tt0120338/usercommen...</td>\n",
       "    </tr>\n",
       "  </tbody>\n",
       "</table>\n",
       "</div>"
      ],
      "text/plain": [
       "   movie_id movie_name positive  stars                                               text                                                url\n",
       "0     10027    Titanic     True      7  Sure, Titanic was a good movie, the first time...  http://www.imdb.com/title/tt0120338/usercommen...\n",
       "1     10028    Titanic     True     10  When I saw this movie I was stunned by what a ...  http://www.imdb.com/title/tt0120338/usercommen...\n",
       "2     10029    Titanic     True     10  Why do people bitch about this movie and not a...  http://www.imdb.com/title/tt0120338/usercommen...\n",
       "3     10030    Titanic     True     10  What's inexplicable? Firstly, the hatred towar...  http://www.imdb.com/title/tt0120338/usercommen...\n",
       "4     10031    Titanic     True     10  Previously, I wrote that I loved \"Titanic\", cr...  http://www.imdb.com/title/tt0120338/usercommen..."
      ]
     },
     "execution_count": 33,
     "metadata": {},
     "output_type": "execute_result"
    }
   ],
   "source": [
    "IMDB_df.head()"
   ]
  },
  {
   "cell_type": "markdown",
   "metadata": {},
   "source": [
    "Now, we want to make a new dataframe `flattened_df` that we can use to run our regressions on. This dataframe will include all the columns in `movie_df` and the extra columns\n",
    "* number of reviews for the movie in IMDB_df\n",
    "* average stars from the reviews\n",
    "* overall ranking"
   ]
  },
  {
   "cell_type": "code",
   "execution_count": 34,
   "metadata": {
    "collapsed": true
   },
   "outputs": [],
   "source": [
    "# set index to title\n",
    "indexed_df = movie_df.set_index(\"title\")"
   ]
  },
  {
   "cell_type": "code",
<<<<<<< HEAD
   "execution_count": 35,
=======
   "execution_count": 44,
>>>>>>> master
   "metadata": {
    "collapsed": true
   },
   "outputs": [],
   "source": [
    "# use groupby to get the review_count and the star_avg\n",
    "gold = IMDB_df.groupby(\"movie_name\")\n",
    "review_count = gold.movie_name.count()\n",
    "star_avg = gold.stars.mean()\n",
    "positive = gold.positive.mean()"
   ]
  },
  {
   "cell_type": "code",
<<<<<<< HEAD
   "execution_count": 36,
=======
   "execution_count": 45,
>>>>>>> master
   "metadata": {
    "collapsed": false
   },
   "outputs": [],
   "source": [
    "# concatenate the two series into our final dataframe flattened_df\n",
    "flattened_df = pd.concat([indexed_df, review_count], axis=1, join_axes=[indexed_df.index])\n",
    "flattened_df.rename(columns={'movie_name': 'review_count'}, inplace=True)\n",
    "flattened_df = pd.concat([flattened_df, star_avg], axis=1, join_axes=[indexed_df.index])\n",
    "flattened_df.rename(columns={'stars': 'star_avg'}, inplace=True)\n",
    "flattened_df = pd.concat([flattened_df, positive], axis=1, join_axes=[indexed_df.index])"
   ]
  },
  {
   "cell_type": "markdown",
   "metadata": {},
   "source": [
    "Let's take a look at what our dataframe looks like now!"
   ]
  },
  {
   "cell_type": "code",
<<<<<<< HEAD
   "execution_count": 37,
=======
   "execution_count": 46,
>>>>>>> master
   "metadata": {
    "collapsed": false
   },
   "outputs": [
    {
     "data": {
      "text/html": [
       "<div>\n",
       "<table border=\"1\" class=\"dataframe\">\n",
       "  <thead>\n",
       "    <tr style=\"text-align: right;\">\n",
       "      <th></th>\n",
       "      <th>close_year</th>\n",
       "      <th>gross</th>\n",
       "      <th>open_year</th>\n",
       "      <th>opening_gross</th>\n",
       "      <th>opening_theaters</th>\n",
       "      <th>ranking</th>\n",
       "      <th>total_theaters</th>\n",
       "      <th>year</th>\n",
       "      <th>close_date</th>\n",
       "      <th>open_date</th>\n",
       "      <th>review_count</th>\n",
       "      <th>star_avg</th>\n",
       "      <th>positive</th>\n",
       "    </tr>\n",
       "    <tr>\n",
       "      <th>title</th>\n",
       "      <th></th>\n",
       "      <th></th>\n",
       "      <th></th>\n",
       "      <th></th>\n",
       "      <th></th>\n",
       "      <th></th>\n",
       "      <th></th>\n",
       "      <th></th>\n",
       "      <th></th>\n",
       "      <th></th>\n",
       "      <th></th>\n",
       "      <th></th>\n",
       "      <th></th>\n",
       "    </tr>\n",
       "  </thead>\n",
       "  <tbody>\n",
       "    <tr>\n",
       "      <th>Home Alone</th>\n",
       "      <td>1991</td>\n",
       "      <td>285761243</td>\n",
       "      <td>1990</td>\n",
       "      <td>17081997</td>\n",
       "      <td>1202</td>\n",
       "      <td>1</td>\n",
       "      <td>2173</td>\n",
       "      <td>1990</td>\n",
       "      <td>None</td>\n",
       "      <td>1990-11-16</td>\n",
       "      <td>NaN</td>\n",
       "      <td>NaN</td>\n",
       "      <td>NaN</td>\n",
       "    </tr>\n",
       "    <tr>\n",
       "      <th>Ghost</th>\n",
       "      <td>1991</td>\n",
       "      <td>217631306</td>\n",
       "      <td>1990</td>\n",
       "      <td>12191540</td>\n",
       "      <td>1101</td>\n",
       "      <td>2</td>\n",
       "      <td>1766</td>\n",
       "      <td>1990</td>\n",
       "      <td>None</td>\n",
       "      <td>1990-07-13</td>\n",
       "      <td>NaN</td>\n",
       "      <td>NaN</td>\n",
       "      <td>NaN</td>\n",
       "    </tr>\n",
       "    <tr>\n",
       "      <th>Dances with Wolves</th>\n",
       "      <td>1991</td>\n",
       "      <td>184208848</td>\n",
       "      <td>1990</td>\n",
       "      <td>598257</td>\n",
       "      <td>14</td>\n",
       "      <td>3</td>\n",
       "      <td>1636</td>\n",
       "      <td>1990</td>\n",
       "      <td>None</td>\n",
       "      <td>1990-11-09</td>\n",
       "      <td>NaN</td>\n",
       "      <td>NaN</td>\n",
       "      <td>NaN</td>\n",
       "    </tr>\n",
       "    <tr>\n",
       "      <th>Pretty Woman</th>\n",
       "      <td>1991</td>\n",
       "      <td>178406268</td>\n",
       "      <td>1990</td>\n",
       "      <td>11280591</td>\n",
       "      <td>1325</td>\n",
       "      <td>4</td>\n",
       "      <td>1811</td>\n",
       "      <td>1990</td>\n",
       "      <td>None</td>\n",
       "      <td>1990-03-23</td>\n",
       "      <td>2</td>\n",
       "      <td>1</td>\n",
       "      <td>0</td>\n",
       "    </tr>\n",
       "    <tr>\n",
       "      <th>Teenage Mutant Ninja Turtles</th>\n",
       "      <td>1991</td>\n",
       "      <td>135265915</td>\n",
       "      <td>1990</td>\n",
       "      <td>25398367</td>\n",
       "      <td>2006</td>\n",
       "      <td>5</td>\n",
       "      <td>2377</td>\n",
       "      <td>1990</td>\n",
       "      <td>None</td>\n",
       "      <td>1990-03-30</td>\n",
       "      <td>NaN</td>\n",
       "      <td>NaN</td>\n",
       "      <td>NaN</td>\n",
       "    </tr>\n",
       "  </tbody>\n",
       "</table>\n",
       "</div>"
      ],
      "text/plain": [
       "                             close_year      gross open_year  opening_gross  opening_theaters  ranking  total_theaters  year close_date  open_date  review_count  star_avg  positive\n",
       "title                                                                                                                                                                               \n",
       "Home Alone                         1991  285761243      1990       17081997              1202        1            2173  1990       None 1990-11-16           NaN       NaN       NaN\n",
       "Ghost                              1991  217631306      1990       12191540              1101        2            1766  1990       None 1990-07-13           NaN       NaN       NaN\n",
       "Dances with Wolves                 1991  184208848      1990         598257                14        3            1636  1990       None 1990-11-09           NaN       NaN       NaN\n",
       "Pretty Woman                       1991  178406268      1990       11280591              1325        4            1811  1990       None 1990-03-23             2         1         0\n",
       "Teenage Mutant Ninja Turtles       1991  135265915      1990       25398367              2006        5            2377  1990       None 1990-03-30           NaN       NaN       NaN"
      ]
     },
<<<<<<< HEAD
     "execution_count": 37,
=======
     "execution_count": 46,
>>>>>>> master
     "metadata": {},
     "output_type": "execute_result"
    }
   ],
   "source": [
    "flattened_df.head()"
   ]
  },
  {
   "cell_type": "code",
<<<<<<< HEAD
   "execution_count": 38,
=======
   "execution_count": 47,
>>>>>>> master
   "metadata": {
    "collapsed": false
   },
   "outputs": [
    {
     "data": {
      "text/plain": [
       "(334, 13)"
      ]
     },
     "execution_count": 47,
     "metadata": {},
     "output_type": "execute_result"
    }
   ],
   "source": [
    "dftouse = flattened_df[~flattened_df['review_count'].map(np.isnan)]\n",
    "dftouse.shape"
   ]
  },
  {
   "cell_type": "code",
<<<<<<< HEAD
   "execution_count": 39,
=======
   "execution_count": 48,
>>>>>>> master
   "metadata": {
    "collapsed": false
   },
   "outputs": [
    {
     "data": {
      "text/html": [
       "<div>\n",
       "<table border=\"1\" class=\"dataframe\">\n",
       "  <thead>\n",
       "    <tr style=\"text-align: right;\">\n",
       "      <th></th>\n",
       "      <th>close_year</th>\n",
       "      <th>gross</th>\n",
       "      <th>open_year</th>\n",
       "      <th>opening_gross</th>\n",
       "      <th>opening_theaters</th>\n",
       "      <th>ranking</th>\n",
       "      <th>total_theaters</th>\n",
       "      <th>year</th>\n",
       "      <th>close_date</th>\n",
       "      <th>open_date</th>\n",
       "      <th>review_count</th>\n",
       "      <th>star_avg</th>\n",
       "      <th>positive</th>\n",
       "    </tr>\n",
       "    <tr>\n",
       "      <th>title</th>\n",
       "      <th></th>\n",
       "      <th></th>\n",
       "      <th></th>\n",
       "      <th></th>\n",
       "      <th></th>\n",
       "      <th></th>\n",
       "      <th></th>\n",
       "      <th></th>\n",
       "      <th></th>\n",
       "      <th></th>\n",
       "      <th></th>\n",
       "      <th></th>\n",
       "      <th></th>\n",
       "    </tr>\n",
       "  </thead>\n",
       "  <tbody>\n",
       "    <tr>\n",
       "      <th>Pretty Woman</th>\n",
       "      <td>1991</td>\n",
       "      <td>178406268</td>\n",
       "      <td>1990</td>\n",
       "      <td>11280591</td>\n",
       "      <td>1325</td>\n",
       "      <td>4</td>\n",
       "      <td>1811</td>\n",
       "      <td>1990</td>\n",
       "      <td>None</td>\n",
       "      <td>1990-03-23</td>\n",
       "      <td>2</td>\n",
       "      <td>1.000000</td>\n",
       "      <td>0.0</td>\n",
       "    </tr>\n",
       "    <tr>\n",
       "      <th>Dick Tracy</th>\n",
       "      <td>1991</td>\n",
       "      <td>103738726</td>\n",
       "      <td>1990</td>\n",
       "      <td>22543911</td>\n",
       "      <td>2332</td>\n",
       "      <td>9</td>\n",
       "      <td>2332</td>\n",
       "      <td>1990</td>\n",
       "      <td>None</td>\n",
       "      <td>1990-06-15</td>\n",
       "      <td>24</td>\n",
       "      <td>8.875000</td>\n",
       "      <td>1.0</td>\n",
       "    </tr>\n",
       "    <tr>\n",
       "      <th>Flatliners</th>\n",
       "      <td>1991</td>\n",
       "      <td>61489265</td>\n",
       "      <td>1990</td>\n",
       "      <td>10034685</td>\n",
       "      <td>1319</td>\n",
       "      <td>18</td>\n",
       "      <td>1483</td>\n",
       "      <td>1990</td>\n",
       "      <td>None</td>\n",
       "      <td>1990-08-10</td>\n",
       "      <td>30</td>\n",
       "      <td>6.966667</td>\n",
       "      <td>0.8</td>\n",
       "    </tr>\n",
       "    <tr>\n",
       "      <th>Problem Child</th>\n",
       "      <td>1991</td>\n",
       "      <td>53470891</td>\n",
       "      <td>1990</td>\n",
       "      <td>10026900</td>\n",
       "      <td>1714</td>\n",
       "      <td>21</td>\n",
       "      <td>1769</td>\n",
       "      <td>1990</td>\n",
       "      <td>None</td>\n",
       "      <td>1990-07-27</td>\n",
       "      <td>8</td>\n",
       "      <td>2.500000</td>\n",
       "      <td>0.0</td>\n",
       "    </tr>\n",
       "    <tr>\n",
       "      <th>Marked for Death</th>\n",
       "      <td>1991</td>\n",
       "      <td>46044396</td>\n",
       "      <td>1990</td>\n",
       "      <td>11790047</td>\n",
       "      <td>1968</td>\n",
       "      <td>27</td>\n",
       "      <td>1974</td>\n",
       "      <td>1990</td>\n",
       "      <td>None</td>\n",
       "      <td>1990-10-05</td>\n",
       "      <td>3</td>\n",
       "      <td>4.000000</td>\n",
       "      <td>0.0</td>\n",
       "    </tr>\n",
       "  </tbody>\n",
       "</table>\n",
       "</div>"
      ],
      "text/plain": [
       "                 close_year      gross open_year  opening_gross  opening_theaters  ranking  total_theaters  year close_date  open_date  review_count  star_avg  positive\n",
       "title                                                                                                                                                                   \n",
       "Pretty Woman           1991  178406268      1990       11280591              1325        4            1811  1990       None 1990-03-23             2  1.000000       0.0\n",
       "Dick Tracy             1991  103738726      1990       22543911              2332        9            2332  1990       None 1990-06-15            24  8.875000       1.0\n",
       "Flatliners             1991   61489265      1990       10034685              1319       18            1483  1990       None 1990-08-10            30  6.966667       0.8\n",
       "Problem Child          1991   53470891      1990       10026900              1714       21            1769  1990       None 1990-07-27             8  2.500000       0.0\n",
       "Marked for Death       1991   46044396      1990       11790047              1968       27            1974  1990       None 1990-10-05             3  4.000000       0.0"
      ]
     },
<<<<<<< HEAD
     "execution_count": 39,
=======
     "execution_count": 48,
>>>>>>> master
     "metadata": {},
     "output_type": "execute_result"
    }
   ],
   "source": [
    "dftouse.head()"
   ]
  },
  {
   "cell_type": "code",
<<<<<<< HEAD
   "execution_count": 40,
=======
   "execution_count": 49,
>>>>>>> master
   "metadata": {
    "collapsed": false
   },
   "outputs": [
    {
     "data": {
      "text/plain": [
<<<<<<< HEAD
       "<matplotlib.collections.PathCollection at 0x11d431550>"
      ]
     },
     "execution_count": 40,
=======
       "<matplotlib.collections.PathCollection at 0x120a7c710>"
      ]
     },
     "execution_count": 49,
>>>>>>> master
     "metadata": {},
     "output_type": "execute_result"
    },
    {
     "name": "stderr",
     "output_type": "stream",
     "text": [
      "/Users/alpkaancelik/anaconda/lib/python2.7/site-packages/matplotlib/collections.py:590: FutureWarning: elementwise comparison failed; returning scalar instead, but in the future will perform elementwise comparison\n",
      "  if self._edgecolors == str('face'):\n"
     ]
    },
    {
     "data": {
      "image/png": "iVBORw0KGgoAAAANSUhEUgAAAwkAAAIiCAYAAACDh4TNAAAABHNCSVQICAgIfAhkiAAAAAlwSFlz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\nMCEkAAAAADAhJAAAAAAwISQAAAAAMPk/KLvUgKaI9T8AAAAASUVORK5CYII=\n",
      "text/plain": [
<<<<<<< HEAD
       "<matplotlib.figure.Figure at 0x11d357910>"
=======
       "<matplotlib.figure.Figure at 0x10c2717d0>"
>>>>>>> master
      ]
     },
     "metadata": {},
     "output_type": "display_data"
    }
   ],
   "source": [
    "plt.scatter(y=dftouse.opening_gross, x=dftouse.star_avg)"
   ]
  },
  {
   "cell_type": "code",
<<<<<<< HEAD
   "execution_count": 41,
=======
   "execution_count": 50,
>>>>>>> master
   "metadata": {
    "collapsed": false
   },
   "outputs": [
    {
<<<<<<< HEAD
     "data": {
      "text/plain": [
       "<matplotlib.collections.PathCollection at 0x11d78a5d0>"
      ]
     },
     "execution_count": 41,
     "metadata": {},
     "output_type": "execute_result"
    },
    {
     "data": {
      "image/png": "iVBORw0KGgoAAAANSUhEUgAAAwwAAAIiCAYAAABlrk+JAAAABHNCSVQICAgIfAhkiAAAAAlwSFlz\nAAALEgAACxIB0t1+/AAAIABJREFUeJzs3XlYVXXix/HPZXEBAZXUDFB0ciHX3EoztylzmdLS0kwb\nCLVMy8rUyj0M0XLFNfcttxxTm7LM3bJsJDUTc0dcUhEFBJTt/v5o5BejB5d7L4cL79fz9DxzD2f5\n8NVBPud7FovVarUKAAAAAG7BxewAAAAAAPIvCgMAAAAAQxQGAAAAAIYoDAAAAAAMURgAAAAAGKIw\nAAAAADBUoArDpk2bVK9evbveLikpSSNGjFCzZs30yCOP6PXXX1dsbKwDEgIAAADOxVJQ3sMQFRWl\nnj17Zv/vu9GnTx/t379fgwYNko+Pj6ZMmaKEhAStX79eHh4ejogLAAAAOAU3swPYKi0tTQsXLtSU\nKVPk4eGh9PT0u9r+8uXL2rJli8LDw9WhQwdJUmBgoNq0aaMdO3boqaeeckRsAAAAwCk4/SVJ27dv\n1+zZszV48GB1795d/zthkpGRocmTJ6tFixaqXbu2OnXqpF27dmV//erVq5IkT0/P7GU+Pj6SpMTE\nxDz4DgAAAID8y+kLQ61atbR582Z17979ll8fNmyYFixYoODgYE2fPl2VK1dWr1699Msvv0iSAgIC\nVLduXc2cOVPHjx/XpUuXNHr0aHl5ealZs2Z5+a0AAAAA+Y7TX5JUrlw5w68dO3ZMa9as0ejRo9W5\nc2dJUtOmTXXx4kVNmjRJCxculCRNmjRJ3bt3V7t27SRJRYsW1axZs3LdNwAAAFAYOP0MQ252794t\nSWrWrJkyMjKy/2vWrJn27NmjjIwMJSYmKiQkRB4eHoqMjNT8+fPVsmVL9e3bV/v27TP5OwAAAADM\n5fQzDLm5cuWKJN3y0iKLxaL4+HitX79esbGx2rx5s8qWLStJaty4sbp27aqPP/5YS5YsydPMAAAA\nQH5i98KwadMmDRw48LaPNo2KitLEiRN16NAhFStWTE2aNNGgQYPk6+trtyxeXl6yWCxasWKFXF1d\ns5ffuDG6VKlSiomJUfny5bPLwg0PP/yw1qxZY7csAAAAgDOy6yVJUVFRGjhw4G3XO3bsmIKDg+Xl\n5aUJEyZo8ODBioqKUmhoqDIyMuyWp0GDBrJarUpKSlKNGjWy//vpp5+0aNEiubm5yd/fX+fOndP5\n8+dzbLtv3z4FBATYLQsAAADgjOwyw3C370JYsmSJypUrp8jIyOwz/xUrVtTzzz+v77//Xs2bN7dH\nLFWvXl2tW7fWwIED1a9fP1WuXFm7d+/WrFmz1LNnT1ksFj3//PNatGiRevbsqb59+8rT01NffPGF\n9u7dq2nTptklBwAAAOCs7FIY/vouhMuXL2vevHm5rl+lShVVqVIlx2VClSpVkiSdOXPmnnNYLBZZ\nLJYcyz755BNNmTJFn376qS5duiQ/Pz8NGDBAr7zyiqQ/L0tavXq1Pv74Y4WHhys1NVXVq1fXggUL\n1KhRo3vOAgAAABQEFuv/vunsHpw/f16enp4qUaKEIiMjNW/evOz3HNypdevWadCgQVqwYIEeffRR\nWyMBAAAAsAO7zDDY+r6Cc+fOady4capVqxZlAQAAAMhHTH8Pw7lz5xQcHCxJmjBhgrlhAAAAAORg\n6nsYDh8+rF69eikzM1Pz5s27p6cS7dmzxwHJAAAAgIKhfv36Nm1vWmHYt2+fevbsKW9vby1evFgV\nKlS4533ZOgjIXXR0tCQpKCjI5CQFF2PseIyx4zHGeYNxdjzG2PEY47wRHR2tlJQUm/djSmGIjY1V\nr169VLZsWS1YsEBlypQxIwYAAACA28iTwnDq1CnFx8erbt26kqTw8HAlJydrxIgROnPmTI5Hqfr5\n+VEgAAAAgHzC7oXhVu9CmD59utauXavo6Gilp6drx44dysrK0oABA27afvDgwQoJCbF3LAAAAAD3\nwO6FoV+/furXr1+OZREREYqIiJAkubu768CBA/Y+LAAAAAAHMP2xqgAAAADyLwoDAAAAAEMUBgAA\nAACGKAwAAAAADFEYAAAAABiiMAAAAAAwRGEAAAAAYIjCAAAAAMAQhQEAAACAIQoDAAAAAEMUBgAA\nAACGKAwAAAAADFEYAAAAABiiMAAAAAAwRGEAAAAAYIjCAAAAAMAQhQEAAACAIQoDAAAAAEMUBgAA\nAACGKAwAAAAADFEYAAAAABiiMAAAAAAwRGEAAAAAYIjCAAAAAMAQhQEAAACAIQoDAAAAAEMUBgAA\nAACGKAwAAAAADFEYAAAAABiiMAAAAAAwRGEAAAAAYIjCAAAAAMAQhQEAACdx/vx5jRgxX6tWbTI7\nCoBChMIAAICTeOGF8Vq1aqTGjSun9es3mx0HQCFBYQAAwEkkJ7tJ8tC1a1V09uxFs+MAKCTczA4A\nAADuTETE0xoyZIDKl3dVaGi42XEAFBIUBgAAnMQTTzSWn19JSZKbG/+EA8gbXJIEAAAAwBCFAQAA\nAIAhCgMAAAAAQxQGAAAAAIYoDAAAAAAMURgAAAAAGKIwAAAAADBEYQAAAABgiMIAAAAAwBCFAQAA\nAIAhCgMAAAAAQxQGAAAAAIYoDAAAAAAMURgAAAAAGKIwAAAAADBEYQAAAABgiMIAAAAAwBCFAQAA\nAIAhCgMAAAAAQxQGAAAAAIbsXhg2bdqkevXq3Xa9w4cP65///KcefvhhtWzZUrNnz7Z3FAAAAAA2\ncrPnzqKiojRw4MDbrnfp0iWFhISoWrVqmjx5sn777TdNmjRJrq6ueuWVV+wZCQAAAIAN7FIY0tLS\ntHDhQk2ZMkUeHh5KT0/Pdf2lS5cqKytLM2bMUNGiRdWsWTOlpaVp1qxZevnll+XmZtceAwAAAOAe\n2eWSpO3bt2v27NkaPHiwunfvLqvVmuv6P/zwgxo3bqyiRYtmL/v73/+uhIQEHThwwB6RAAAAANiB\nXQpDrVq1tHnzZnXv3v2O1o+JiVGFChVyLAsICJAknTx50h6RAAAAANiBXa79KVeu3F2tf/XqVXl6\neuZYduPz1atX7REJAAAAgB2YcrOA1WqVxWK55deMlucmOjra1kjIRWpqqiTG2ZEYY8djjB2PMc4b\njLPjMcaOxxjnjRvjbCtT3sPg5eWl5OTkHMtufPby8jIjEgAAAIBbMGWGoWLFijp16lSOZbGxsZKk\nSpUq3fX+goKC7JILt3aj/TPOjsMYOx5j7HiMcd5gnB2PMXY8xjhvREdHKyUlxeb9mDLD0LhxY+3a\ntSvHNMl3332nUqVK8RcHAAAAyEfypDCcOnVKe/fuzf7crVs3paenq3fv3tqyZYtmzJih2bNnq3fv\n3ryDAQAAAMhH7F4YLBbLTTcuT58+XS+++GL25zJlymj+/PnKyMhQ//79tWrVKr399tsKCQmxdxwA\nAAAANrD76fx+/fqpX79+OZZFREQoIiIix7KaNWtq2bJl9j48AAAAADsy5R4GAAAAAM6BwgAAAADA\nEIUBAAAAgCEKAwAAAABDFAYAAAAAhigMAAAAAAxRGAAAAAAYojAAAAAAMERhAAAAAGCIwgAAAADA\nEIUBAAAAgCEKAwAAAABDFAYAAAAAhigMAAAAAAxRGAAAAAAYojAAAAAAMERhAAAAAGCIwgAAAADA\nEIUBAAAAgCEKAwAAAABDFAYAAAAAhigMAAAAAAxRGAAAAAAYojAAAAAAMERhAAAAAGCIwgAAAADA\nEIUBAAAAgCEKAwAAAABDFAYAAAAAhigMAAAAAAxRGAAAAAAYojAAAAAAMERhAAAAAGCIwgAAAADA\nEIUBAAAAgCEKAwAAAABDFAYAAAAAhigMAAAAAAxRGAAAAAAYojAAAAAAMERhAAAAAGCIwgAAAADA\nEIUBAAAAgCEKAwAAAABDFAYAAJAv/f77UX322Tqlp6ebHQUo1CgMAAAg34mLi1ObNnPUo8f96tXr\nY7PjAIUahQEAAOQ7ycnJSk72V1ZWbcXFpZodByjU3MwOAAAA8L8qVqyo8HB/7djxiSIi+podByjU\nKAwAACBf6tmzo3r27Gh2DKDQ45IkAAAAAIYoDAAAAAAMURgAAAAAGKIwAAAAADBEYQAAAABgiMIA\nAAAAwBCFAQAAAIAhCgMAAAAAQ3YrDCtXrlTr1q1Vp04dde3aVXv37s11/f3796t79+6qX7++nnji\nCU2dOlUZGRn2igMAAADADuxSGNasWaORI0eqQ4cOioyMlJeXl0JDQ3X69Olbrn/27FkFBwerePHi\nioyMVHBwsObMmaPx48fbIw4AAAAAO7G5MFitVkVGRqpLly7q27evmjVrphkzZqhUqVJasGDBLbfZ\nsGGDMjMzFRkZqSZNmqh79+765z//qZUrV9oaBwAAAIAd2VwYYmJidPbsWbVq1Sp7mZubm1q0aKEd\nO3bccpukpCS5ubmpaNGi2ct8fHyUkpKitLQ0WyMBAAAAsBObC8PJkyclSRUrVsyx3N/fX7GxsbJa\nrTdt06ZNG6Wnp2v8+PFKSEjQ/v37tXDhQj355JMqUqSIrZEAAAAA2InNheHq1auSJE9PzxzLPT09\nlZWVpZSUlJu2qVatmsLCwjR//nw98sgjeuGFF3TfffcpPDzc1jgAAAAA7MjN1h3cmEGwWCy3/LqL\ny82dZMuWLRoyZIg6d+6sdu3a6fz585oyZYpeffVVzZ8//65nGaKjo+8+OO5YamqqJMbZkRhjx2OM\nHY8xzhuMs+Mxxo7HGOeNG+NsK5sLg5eXlyQpOTlZpUuXzl6enJwsV1dXFS9e/KZtxo8fr6ZNm2rU\nqFHZy2rWrKl27dpp/fr16tSpk62xAAAAANiBzYXhxr0LsbGxCggIyF4eGxurSpUq3XKbmJgYtW/f\nPseyypUrq2TJkjp27NhdZwgKCrrrbXDnbrR/xtlxGGPHY4wdjzHOG4yz4zHGjscY543o6Ohb3h5w\nt2y+hyEwMFDly5fXxo0bs5elp6dr69atevTRR2+5jb+/v6KionIsi4mJ0ZUrV+Tv729rJAAAAAB2\nYvMMg8ViUa9evRQWFiZvb2/Vq1dPS5YsUUJCgoKDgyVJp06dUnx8vOrWrStJ6tOnjwYNGqShQ4eq\nffv2unjxoqZOnSp/f3917NjR1kgAAAAA7MTmwiBJ3bp10/Xr17Vo0SItXLhQQUFBmjt3bvZswfTp\n07V27drs6adnnnlGPj4+mjFjhvr16ydvb2899thjeuedd+Th4WGPSAAAAADswC6FQZJCQkIUEhJy\ny69FREQoIiIix7LmzZurefPm9jo8AAAAAAew+R4GAAAAAAUXhQEAAACAIQoDAAAAAEMUBuTKarVq\n/vx1unLlitlRAAAAYAIKA3KVlJSkBQu+1M8/HzQ7CgAAAExgt6ckoWDy9vbWli0z5eJCtwQAACiM\n+C0Qt0VZAAAAKLz4TRAAAACAIQoDAAAAAEMUBgAAAACGKAwAAAAADFEYAAAAABiiMAAAAAAwRGEA\nAAAAYIjCAAAAAMAQhQEAAACAIQoDAAAAAEMUBgAAAACGKAwAAAAADFEYAAAAABiiMAAAAAAwRGEA\nAAAAYIjCAAAAAMAQhQEAAACAIQoDAAAAAEMUBgAAAACGKAwAAAAADFEYAAAAABiiMAAAAAAwRGEA\nAAAAYIjCAAAAAMAQhQEAAACAIQoDAAAAAEMUBgAAAACGKAwAAAAADFEYAAAAABiiMAAAAAAwRGEA\nAAAAYIjCAAAAAMAQhQEAAACAIQoDAAAAAEMUBgAAAACGKAwAAAAADFEYAAAAABhyMzsAAOSFo0eP\n6tKlK6pcubKKFi1qdhwAAJwGMwwACrwRI2are/cLCg31U8uWg5Sammp2JAAAnAaFAUCBt3LlaSUm\nhiorq5V27QrRqlUbzI4EAIDToDAAKPDc3dOy/3eRIvEqVaqEiWkAAHAu3MMAoMAbPvzvGjjwHV27\n5qtWrTL0j38MNzsSAABOg8IAoMDr3PkJBQWVV3p6uurWrWt2HAAAnAqXJAEoFFxcXHg6EgAA94DC\nAAAAAMAQhQEAAACAIQoDAAAAAEMUBgAAAACGKAwAAAAADFEYAAAAABiyW2FYuXKlWrdurTp16qhr\n167au3dvruvHx8dr0KBBeuSRR9SwYUP16dNHsbGx9ooDAAAAwA7sUhjWrFmjkSNHqkOHDoqMjJSX\nl5dCQ0N1+vTpW66fnp6ukJAQHThwQKNHj9aYMWMUGxurXr16KT093R6RAAAAANiBzW96tlqtioyM\nVJcuXdS3b19JUpMmTdSmTRstWLBAQ4cOvWmbL774QjExMdqwYYPuv/9+SZK/v7969+6tI0eO6KGH\nHrI1FgAAAAA7sLkwxMTE6OzZs2rVqtX/79TNTS1atNCOHTtuuc13332nZs2aZZcFSapevbq2b99u\naxwAAAAAdmTzJUknT56UJFWsWDHHcn9/f8XGxspqtd60zeHDh1WpUiVNnTpVjz32mGrVqqVXX31V\n586dszUOAAAAADuyuTBcvXpVkuTp6Zljuaenp7KyspSSknLTNpcuXdLq1au1c+dOhYeHa9y4cTp6\n9Kh69+6tzMxMWyMBAAAAsBO73MMgSRaL5ZZfd3G5uZNkZGQoIyNDc+bMUYkSJSRJAQEB6ty5s779\n9lu1bdv2rjJER0ffZWrcjdTUVEmMsyMxxo7HGDseY5w3GGfHY4wdjzHOGzfG2VY2zzB4eXlJkpKT\nk3MsT05Olqurq4oXL37TNp6enqpTp052WZCkmjVrytvbW0eOHLE1EgAAAAA7sXmG4ca9C7GxsQoI\nCMheHhsbq0qVKt1ymwoVKigtLe2m5RkZGYYzFbkJCgq6621w5260f8bZcRhjx2OMHY8xzhuMs+Mx\nxo7HGOeN6OjoW94ecLdsnmEIDAxU+fLltXHjxuxl6enp2rp1qx599NFbbtO0aVNFRUXpwoUL2ct2\n796tlJQUPfzww7ZGAgAAAGAnNs8wWCwW9erVS2FhYfL29la9evW0ZMkSJSQkKDg4WJJ06tQpxcfH\nq27dupKkf/7zn1q9erV69eqlN954Q6mpqRo3bpzq1aunpk2b2hoJAAAAgJ3YXBgkqVu3brp+/boW\nLVqkhQsXKigoSHPnzpW/v78kafr06Vq7dm329FPp0qW1bNkyRUREaNCgQXJ3d1erVq00ZMgQe8QB\nAAAAYCd2KQySFBISopCQkFt+LSIiQhERETmWBQQEaNq0afY6PJDnTpw4pd69Zyo9Xfr44xfVsGEt\nsyMBAADYnc33MACF1euvf6rvvhulbds+Uv/+S82OAwAA4BAUBsAmfz7V6xYvNAcAACgQ7HZJElDY\nREb2VO/ew5SebtG4cV3NjgMAAOAQFAbgHj34YKA2bx5jdgwAAACH4pIkAAAAAIYoDAAAAAAMURgA\nAAAAGKIwAAAAADBEYQAAwIlYeY4zgDxGYQAAwEns3fub2rSJ1DvvzDE7CoBChMIAAICTiIu7oqSk\nAF2+nGp2FACFCO9hAADASTzxxGNasSJZvr5PmR0FQCFCYQAAwIkEBASYHQFAIcMlSQAAAAAMURgA\nAAAAGKIwAAAAADBEYQAAAABgiMIAOJnMzExlZGSYHQMAABQSFAbAiUyatFzVq49UlSpj9Pbbk82O\nAwAACgEKA+Ak4uPjNWFCjI4eDdPJk8M0d245/ec/UWbHghM6d+6cDh48aHYMAICToDAATiIxMVHJ\nyeWzPyclVdT585dMTARntG3bz2rUaLaaNInSwIFTzY4DAHACFAbASVSoUEENGuyXi8t+ScfVoMEy\ntWz5mNmx4GSWL9+k06ffU0JCd/34Y7zZcQAAToA3PQNOwsXFRV9+OUbz5v1LV69eU+/eH8nDw8Ps\nWHAy/fo9p61bBysl5T49++yDZscBADgBCgPgRNzd3fXqq13MjgEnVqNGVe3fP05paWny9PQ0Ow4A\nwAlwSRIAmCQzM1NvvTVJTz01WkOHzpTVas2T47q7uxeosnDx4kXt3v0fs2MAQIHFDAMAmGTo0Jma\nNq21MjIe0vbtu1S27DK9+WY3s2M5nQ4dIrR//4NavTpZTz3V3Ow4AFDgMMMAACY5dCheGRkPSZKu\nXWus//znuMmJnE9SUpJiY2OVlbVdv/561Ow4AFAgURgAwCQdOtRR6dJLJV1TuXLT1K1bC7MjOZ1R\no+bo9OlpSk1dpvnzKVwA4AhckgQAJgkOfkZly27XN99MVefOLfT44w3MjuR0HnjAV0WKnFJaWikV\nK3bN7DgAUCBRGADARO3aNVO7ds3MjuG03nqruxIT5+jQoX9r1KjXzY4DAAUShQEA4LRcXFw0cmRv\ns2MAQIHGPQwAAAAADFEYAAAAABiiMAAAAAAwRGEAAAAAYIjCAAAAAMAQhQEAAACAIQoDAMBukpOT\nzY4AALAzCgNylZ6errlzv9CFCxfNjoJ8ZPv2n/XSS2Fas2aT2VGQjyxdukHt2i3XsmVfmR0FAGBH\nFAbk6ptvtmjiRH+NH7/G7CjIJ65du6bQ0NX67LOh6tdvj86ePWt2JOQTVar464EHrqpKlQCzowAA\n7Ig3PSNXrVu3UN++4/Tccx3NjoJ8IiMjQ+npJSRZdP16SV27ds3sSMgnGjWqqWXLaiooKMjsKAAA\nO6IwIFdFihRRnz6dzI6BfKREiRIaNqyWVq4MU6tWgapcubLZkQAAgANRGADctdDQDgoN7WB2DAAA\nkAe4hwEAAACAIQoDAAAAAEMUBgAAAACGKAwAAAAADFEYAAAFWlxcnPr2Havly782OwoAOCUKAwCg\nQOvWbYKmT++r118/rX37fjU7DgA4HQoDAKBAS0+3Siqq9HQvXbt23ew4AOB0eA8DAKBAmzfvNX3w\nwRg1bPg3PfJIA7PjAIDToTAAAAq0SpUqatmy4WbHsJuvvtqpBg2qKSgoyOwoAAoJLkkC/sJqtSor\nK8vsGABgaNKkz7Vq1RazYwAoRJhhAP6ideuBOnUqVZs2vS9/f3+z4wDATdati1DRokXNjgGgEKEw\nAH+RkJCmxMSSSklJMTsKANxSsWLFzI4AoJChMAB/8d13o5WUlCQ/Pz+zowAAAOQLFAbgL7y9veXt\n7W12DAAAgHzDbjc9r1y5Uq1bt1adOnXUtWtX7d279463nTp1qqpXr26vKAAAAADsxC6FYc2aNRo5\ncqQ6dOigyMhIeXl5KTQ0VKdPn77ttocPH9bMmTNlsVjsEQUAAACAHdlcGKxWqyIjI9WlSxf17dtX\nzZo104wZM1SqVCktWLAg120zMzP1wQcfyNfX19YYAAAAABzA5sIQExOjs2fPqlWrVtnL3Nzc1KJF\nC+3YsSPXbRcsWKDU1FR1795dVqvV1igAAAAA7MzmwnDy5ElJUsWKFXMs9/f3V2xsrGERiImJ0dSp\nUxUWFiZ3d3dbYwAAAABwAJsLw9WrVyVJnp6eOZZ7enoqKyvrls+zt1qtGjp0qDp27Kh69erZGgEA\nAACAg9j8WNUbMwhGNy27uNzcSZYvX67Y2FjNnDnT1sNLkqKjo+2yH9xaamqqJMbZkRhjx2OMHY8x\nzhtXrlxRkSJFGGcH4u+y4zHGeePGONvK5hkGLy8vSVJycnKO5cnJyXJ1dVXx4sVzLD937pw+/vhj\nffDBBypatKgyMjKyS0dmZib3MgAAkIsXXhip2bPXmh3DaSxfvlE9esxT164LFR6+RGlpaWZHApyO\nzTMMN+5diI2NVUBAQPby2NhYVapU6ab1d+3apZSUFL355ps3fa1GjRrq16+f+vXrd1cZgoKC7jI1\n7saN9s84Ow5j7HiMseMxxnnjjTee0yOPBDHOd2DGjFWaOLGqkpL+/J3j119PKTNzgT77bHiu2/F3\n2fEY47wRHR19y9sD7pbNhSEwMFDly5fXxo0b1aRJE0lSenq6tm7dqpYtW960fqtWrbR69eocy778\n8kvNnz9fq1evVpkyZWyNBABAgfX0083MjuA0li37VUlJH2Z/tlor6Icfiunq1asqUaKEickA52Jz\nYbBYLOrVq5fCwsLk7e2tevXqacmSJUpISFBwcLAk6dSpU4qPj1fdunVVsmRJlSxZMsc+fv75Z0l/\nzjAAdyopKUkdOozSuXNeeu65+/XRR6+aHQkAkI+kpbneYllxLksC7pJd3vTcrVs3DRo0SOvWrVP/\n/v119epVzZ07V/7+/pKk6dOn68UXX8x1H7zpGXdr2rSV2rKlnw4dGqGlSy/wDwAAIIfGjb1lsZz8\ny5Lrqlo1VqVLlzYrUoG0ePG/1bDhUFWuPFpNm76nXbt+MTsS7MzmGYYbQkJCFBIScsuvRUREKCIi\nwnDb4ODg7NkI4E7VqVNFJUt+rytXysvb+yLv8wAA5DBuXD9dvBih778vorS04qpS5bSWLn3L7FgF\nyq+/HtTAgSd1/vxoSdKJE1YFB7+nPXuqcNlXAWK3wgDktbZtm2nmzA3aunWiBg9+l1kqAEAO7u7u\nWrJkmJKTk3X9+nVmFhxg0qS1On/+nb8ssejw4Ze1fPnX6tnzedNywb4oDHBqXbq0UZcubcyOAQDI\nxzw9PW96wSzsw8XFIikrxzKLJVNubjffPwLnZZd7GAAAAFD4DBjwnMqX/+uLeLNUrdoidenS1rRM\nsD8KA3KVlpamadM+17lz582OAgAA8pnq1atq2rQ6atJkqKpVG61WrYZo+fJXbnpxL5wblyQhV99+\nu1UzZlTUqVNr1apVC5PTAACA/ObZZ1vp2WdbmR0DDsQMA3L11FMt9fbbZzVgwLNmRwHyxJEjx/Xh\nh59q9epvZLVazY4DAIDpmGFArtzd3RUa2sHsGECeiIo6oGef/VynTvWRh8d+bdkyQVOnDjA7FgAA\npmKGAQD+65NP1ujUqeGSyikl5Ult3JhsdiQAAExHYQCA/ypRwl1SUvZnd/dr5oUBACCfoDAAwH+N\nHfuqGjUartKll6pSpTC9915TsyMBQIH03Xc/qUuXMGVkZJgdBXeAexgA4L9KlSql778fr5iYGJUp\n87S8vb3NjgQABVKFCmVVrdoDcnXlBW/OgMIAAH/h5uamv/3tb2bHAIACrWrVSvrww1BZLBazo+AO\ncEkSAAD086VyAAAgAElEQVQAAEMUBgAAAACGKAwAAAAADFEYAAAAABiiMAAAAAAwRGEAAABAnuMd\nDM6DwgAAAIA8tWrVRj35ZD+lp6ebHQV3gPcwAAAAIE+1alVP6emZcnd3NzsK7gAzDAAAAMhTvr6+\n6tatjdkxcIcoDAAAAAAMcUkSAMAp7Nr1i+bO/VolSxbX8OGh8vb2NjsSABQKFAYAQL731Vfb1bNn\nlM6dGyzpsrZuHapt28bI09PT7GhO6dixk5o9e73atn1EzZs3MjsOgHyOS5IAAPne5Mmbde7cW5Jc\nJd2nPXte09Kl/zY7llNKSEhQu3ZTNXZsd73wwo/6/vs9ZkcCkM9RGADATi5cuKC+fcdqzZpNZkfJ\nd9at26z33ovUkSPH72l7q9X1f5YUUVoaz3C/FzExMTp9uqmkUrpw4QVt2kRhAJA7CgMA2EmXLuM1\nfXpfvfrqbzpy5IjZcbJduXJFb789XoMHT1ZycnKeH3/SpGV6+eUEjR3bQ23azFVMTOxd76NHj4fl\n67vov59SVKPGNL30Ulv7Bi0kgoKC1KDBVnl7r9JDD41VaOg/zI4EIJ/jHgYAsJO0NEkqrrQ0H127\nds20HFevXlVExHw9+eQjeuyxenrqqRHavXukpDT99NMwbd06IU/zbNx4VAkJwyRJx4+/ovXrd6hf\nv253tY8ePf4hL6/NWrZstIoXt2js2PdUqlQpR8Qt8Nzd3bVp0yc6evSoAgLacR8IgNuiMACAncyd\n20sjRoxWkybVVKtWLdNytGs3QDt2eGnChO3aufN9HT9eT9Kfv1wfO+av5OTkPP0lsUaNUvr221+V\nkVFL99//lZo2bXVP++nYsZU6dry3bZGTm5ubqlevbnYMAE6CwgAAdlK9+oNasWKE2TGUnp4pqaSs\n1hj5+vqqTJn9iovLlJSl++47JQ8PjzzNExHxuooVm63o6C/Uo0dT1a1bI0+PDwCwDYUBAAqYDRvG\n6/33J+sf/+inihUravnyXho27EO5uEjjx78li8Vy232kpaUpOjpa999/v8qVK2dTHhcXF3344as2\n7QMAYB4KAwAUMD4+Ppo+fXj259q1q2vt2lF3vH1KSoqefPJ97d3bSr6+X2vcuLrq2rWNI6ICAJwA\nT0kCAOSwePF6/fBDb6WkdFBs7HuaOnWX2ZEAACaiMAC4awcO/K4+fSJ44VMBVbJkCRUpcum/n7Lk\n7p5uah4AgLm4JAnAXUlLS1Pnzp/q99/H6KuvwvXzzwEqW7as2bFgRy+80E5ffjlau3Ztk7d3giZN\nCjU7EgDARBQG4B5dunRJffpM1fXrmZo4MVSVK1c0O1KeuHbtmlJSykgqosTESrpy5cpdFYYtW3bp\nhx9+U9u2j6hePfMePZqfJCYmasSI2XrgAV8NGPCyXFzMnfy1WCxavHiYrFbrHd0gDQAo2CgMwD0K\nDZ2stWsHSSqqy5eHavv2sWZHyhPe3t7q189P69eHqXHj0qpateodbztmzAKNG1dcV660V2TkGk2e\nfEZdunAzbdeuEfr663fl7h6jpKTZ+eaJQpQFAIBEYQDu2dWrWZI8JVl07Vrh+r/SoEE9NGjQ3W+3\nYkWMrlz58z0F58+/rlmzRlEYJF265CaptNLTvXTkyHqz4wAAkEPh+i0HsKPw8Bf0+uuDlZnppqFD\nW5sdxym4uGT85ZP1fz4XXm++2VhjxgxR8eLX9eGHr5sdBwCAHCgMwD1q1Ki2/vOfcWbHcCpvvNFQ\nQ4ZM1rlzjyow8BsNG/a02ZHyhZdeaquXXmprdgw4icuXL8vT09PsGAAKEQoDgDwTEvKMWrY8qd9+\nO6L69Xvr/vvvNzsS4FTGjFmoiRPPy9f3qHbvHi8vLy+zIwEoBCgMAPJUYGCgAgMDzY4BOKXt24/p\n4sVRunp1lU6cOKHatWubHQlAIUBhAADASQwd2lEXL76jihWLqmbNzmbHAVBIUBgAAHASjz1WT4sX\nF5ck09/XAaDw4KcNbuvixYuyWq1mxwCc0uXLl5WYmGh2DAAA7hmFAblKSEjQ00+/o6++2mZ2FMCh\ntmz5Sa+9FqFx4+YrI8M+j3vdsGGn6tadrIcfDte+fQftsk8AAPIalyQhVz4+Pho//k3Vr1/L7CiA\nwyxatF4DBlxUXNy7cnU9qm3bPtCXX461+U3Ha9fu1KlTAyVd0DffbFWdOg/ZJ7ADJCcny8PDg7c7\nAwBuwgwDbuuxxxqqWLFiZscAHGbOnCjFxb0iyU2ZmdW1c2d9HTp0yOb9jhwZoief/EhPPz1Xffrk\n3xtUhw+fo+rVI9WhwxCzo5gqLS1Nx44d07Vr18yOgv+Kjj6qadM+U2ZmptlRgEKNGQYAUM6z6lar\ni7Kysmzea7ly5fTtt+E278fRfvzxpE6f/lAlSgwzO4ppLl26pNatP9Tx44/Kz+9nrV/fX5UqVTQ7\n1k2+/nqn3nprtQICsvTttxML/I3PoaGfavfup1S8+Bd65ZVOZscBCq2C/ZMGAO5A9+41VLr0Z5Ks\nslhi9OijPyooKMihx8zKytKsWSv1xhsf68svtzr0WLfzySfd9dxzYRo6tKmpOcwUHr5IUVEjdeXK\ni/rttwiNGLHY7Ei3tHDhJh0+PF779lVUfHy82XEcrm3bh9S06UY98cQjZkcBCjVmGIC7YLVauca7\nAOrdu5P8/Lbp88/DVaFCaQ0ZMsahZ26tVqs6dx6mL798Vunpz2jx4g3q3/9TjRrV22HHzE3t2tW1\nevUIU46dX5Qt6yNX1/PKzCwl6bJKl/YwO9ItffBBF5048Y6qVPGWr6+v2XEcbtiwYA0rvBNfQL5B\nYQDu0KuvfqyNG1NVrVqy1q0bLXd3d7MjwY7at2+u9u2b58mxoqKi9M03DZSe3kCSlJDQUYsXj9Cw\nYRlyc+PHshkGDHhZe/d+pIMHXVSx4jWFh+fP+zlq166uBQtelSROXgDIM1yShFylp6dr7ty1unDh\notlRTHXt2jV9/XWmTpwYrk2bWigqKsrsSHBi8fGJSk0tm2NZerqPrl+/blIi+4iKOqgePSK1b1+0\n2VHumpubm5YtG6F9+4Zp3bqP5OGRP2cYAMAMFAbk6ptvtmjixAc0fvwas6OYqmjRovL3PyvpB1Wu\n/J0efPBBsyPZ3alTp9WixWDVq/ehRoyYbXacAq1hw4dVteo6STdurE5S5cqn5enpaWYsm/366wmd\nPFla+/YdMTsKAMCOmPtGrlq3bqE+fSL03HMdzI5iKovFoo0bx2jbth/UoMHgAnnt8KuvztC2bWGS\niuj48cXq1OlX1a7N+zccoWTJklqxIlj9+w9RUpKH/Pyua8GCoWbHsllqapa8vVN1+XKq2VEAAHZE\nYUCuihQpovbtG6ps2fvMjmI6T09PtWv3pNkxHCY11U1SEUnS1at+iouz3xNYRo2aq3/967RKl07R\nypXvqkyZMnbbt7OqUydIW7eOMTuGXf3001mdODFO334bpv79u5gdBwBgJ1yShFwlJCTohReG6euv\nt5kdBQ72xhuPq2LFMPn4LFerVv9Ws2aP2WW/Z8+e1cyZKdq/f4S2bh2ud9/91C77Rf7z/vut1aHD\n+5o8+RWzo9yx9PR0paSkmB0DkCRt2fK9Tp8+Y3YM4CZ2KwwrV65U69atVadOHXXt2lV79+7Ndf2o\nqCj16NFDDRs21OOPP67Bgwfr0qVL9ooDO/Hx8dH8+e/rqaceNzsKHKxTpye0Z8/r+umnh/X11+Ps\n9rQeFxcXWSw33tKaKVdXzlMUVFWrVtKYMT314IOVzI5yR65du6ZGjd5SzZrDtX+/892ojYJly5bv\n9fTTv6ljx/FmRwFuYpd/udesWaORI0eqQ4cOioyMlJeXl0JDQ3X69Olbrn/s2DEFBwfLy8tLEyZM\n0ODBgxUVFaXQ0FBlZGTYIxLsqEaNh3iEaCHh6+uratWqydXV1W77vP/++/XWW76qX3+UnnpqjMaP\nf81u+7aHtLQ0LVu2XnPnfq7k5GSz4yAPpaamKi6utP74o5FOnuSsLsxVpUqggoIOqW7d8mZHAW5i\n8ylEq9WqyMhIdenSRX379pUkNWnSRG3atNGCBQs0dOjNN/ItWbJE5cqVU2RkZPYvJhUrVtTzzz+v\n77//Xs2b582z0IH/tW/fQR0/flrPPtva7CgFyqBBPTRokNkpbvbHH+fVpk24DhzooczMYvr44xFa\nubKnateubnY0p/Tzz79p0aKdGju2p+rXr2l2nNsqVaqUli3roDNnLujpp/9udhxTXL58Wf/+9zY9\n/ng9VaxYwew4hZq/v59+/nmC2TGAW7J5hiEmJkZnz55Vq1atspe5ubmpRYsW2rFjxy23qVKlikJC\nQnKcxaxU6c8p7DNnOMsD83TrNkc9epzkPQuFxODBc7RvX7gyMxtIqqnffx+n995banYspzV16vfa\ntGmihgxZccfbTJ68TCEhH+n8+fO3Xff69etavPgLbd/+ky0xc2jatIG6dGnnNC9BGzp0prp1W6zQ\n0Bk6evSETftKS0tTq1Yj1KNHZbVoMUunTsXaKSWAgsbmGYaTJ09K+nOG4K/8/f0VGxsrq9V60w/i\nbt263bSfzZs3S5IqV65sayTgnj322AMqW/aoKld+wewoyAPnzlkl/fXdBy6KiytiVhyn99RTlXXt\n2kC9+GKLO1p/y5YfNHSou65efVvnzn2kDRs+MlzXarWqbdv3tWVLD3l7H9awYUf07rvdJf1543Jy\ncrJKlixpj28j35o9e7UmTaqm5OTXJGWoS5eB2rNn4j3v748//lBsbD1JtXXyZKZ++GGvKlQIsFte\nAAWHzTMMV69elaSbXjjk6emprKysO3r6xLlz5zRu3DjVqlVLjz76qK2RgHv26afvasuWcQX+Fw/8\nqUYNT0ln/7IkWYGBmUar4zY6dmyi5557QF26PHFH67u63rgh3qrbneBPTk7W4cMBkh5WYmIXbdr0\n59n1xMRENWr0jmrW/FQTJnxm2zeQz+3ceVDJyS3++8lNcXHllZaWds/78/f3V8OGv6lMmXmqX3++\n2rZtZpecAAoeu9zDIMlwOtfFJfdOcu7cOQUHB0uSJky4t2v3oqN5uoUjpab++RImxtlxGGPHu9UY\nv/xyC+3ZE64DB2opM7OYHnxwl95662Wb/xwuXbqk7777j4KCKqh27SCb9uVMpk1brfnzH1ZKymSF\nhDxz2/XLlPHR22+f18GDo/T22x1zHXer1aoyZQ7qzJlTKlbsoCpXdlV0dLR+++03RUe30vXrHbV2\n7QC1bfuwPb+lfKVWrftVosRaXb3aUdI1lSx5XMeOHbNpn598EqyLFy+qdOkGOnv2rM6ePXv7jQoB\nfiY7HmOcN26Ms61sLgxeXl6S/jz7U7p06ezlycnJcnV1VfHixQ23PXz4sHr16qXMzEzNmzdPAQFM\nhcJ2n3zyufbtu6jhw9uqSpVAs+MgHytWrJhmzeqrM2fOKD09XYGB/W3e56VLl/Tyy8t14sSbKlly\ns95997yee66F7WGdwEsv/V2pqV+rU6fn73ibrl3v7GWIFotFn37aW0uXLlFAwH1q27ajJCkoKEit\nWy/Q6dPb1bt303vK7Szat2+qixe/0tatg+ThcV0jR958ee/dcnFxUbly5eyQDkBBZnNhuHHvQmxs\nbI5f+GNjY7NvZL6Vffv2qWfPnvL29tbixYtVocK9P50hKKjwnMEzw4327yzjvHNnmg4fjtBXX03W\nzJltzY5zR5xtjJ1RbmNsz3GfMWO5Tpx4S9KDunKlqn74IUxDhhSeP9fhw0Md+ve4YcOGNy1bt+5j\nhx0vvxk7NoifF3mAMXY8xjhvREdH2+XllDbfwxAYGKjy5ctr48aN2cvS09O1detWw/sRYmNj1atX\nL5UtW1bLly+3qSzA8S5fvpx96Zkz6Nu3ljp2HKvhw4PNjoJC6OGHq8rX988nxFksJxUYaDzL6my2\nbPlRI0bMVEwMT9MB7C0pKUnPPz9SEyYsMzsKcBObZxgsFot69eqlsLAweXt7q169elqyZIkSEhKy\n7004deqU4uPjVbduXUlSeHi4kpOTNWLECJ05cybHo1T9/PxUpkwZW2PBThISEtSuXX8NHfqKHnro\nIbPj3JE333xBb75pdgoUVo8+Wk9jx57Sv/41WoGBxTVxYsH4y7hmzSb17n1CcXHPacWKcdq1a4hK\nlSpldqxbOnnylMLDl6pChfv0/vuv2PVFhICjbNnyg/71r2Y6cuRbvfPOi2bHAXKwuTBIfz4m9fr1\n61q0aJEWLlyooKAgzZ07V/7+/pKk6dOna+3atYqOjlZ6erp27NihrKwsDRgw4KZ9DR48WCEhIfaI\nBTvw8fHRRx+9psaNC+6NhCj4MjMzNXPmGp05c0UTJ76pgAB/hx4vNLSjQkM7OvQYeW3dul2Kixsi\nyaKjR9vq0KFDaty48V3vx2q16q23JmvfvkQ9/3yQ+va98/sd7kRiYqLatZus6Ohwubqe1LFjYzV/\n/gd2PQbgCO3a/V0DB87Q44+3MzsKcBO7FAZJCgkJMfxFPyIiQhEREZIkd3d3HThwwF6HRR6oW7e6\nihUrZnYM4J4NHDhV06f/QxkZ1XTkyCD98svE2z7BDTl169ZKGzZM0B9/tNNDD61XzZph97Sff/97\nk2bNqqHr15/UsWNj9eKL8TkemGGrw4cP6/jxJyQVVWZmNR08yGNy4Rzc3NwUEfGG2TGAW+JfTORq\n3rx/qVmzPurde4zZUYB7duhQgjIyaksqqri4ykpKSjI7ktN58skm+u679po79zdt2TIs+wl5d6tY\nsaJydU2WJLm6ptn9cqGqVauqUqXNktLl4nJM1ao5xxucASA/ozAgV5s3/6asrHDFx3ubHQX5yJQp\nK1W9+jANGfKp2VHuSLdu9VWmzFgVKfKFGjT4Q97e/H2+FzVqVNcrr3SWr6/vPe/jiSce1+DBl9S+\n/YcaO7aRfHx87JhQ8vb21vr1ryskZJyGDv1W8+a9Z9f9F2YpKSlO9QAMAPZjt0uSUDBNnPiarl//\nWM8808rsKMhHNm06oN9//0Dff39vl6Xkte7d26t8+WKKj49Xp04fGb5oEnlj+PBQh+7/wQcrad68\nIQ49RmHTo8dobd1aVI89lqzly0eaHQdAHmOGAbkqU6aMPvwwRA0aOMcTkpA3pk9/Tb16TdS0acFm\nR7ljDzzwgGrWrMm9C8jhyy+3KjLyM86c38aePRk6fXqgfvnl7rf9+uudeuGFkTp+PMb+wQDkCWYY\nANw1P78H9Omn///kGavVqtde+0S7d19TvXrumjNnMGfxke9dunRJr722U3Fx9eXn942ee66N2ZHy\nre7dK2nNmlFq3z7g9iv/j5Ejv9bu3aOUlRWmzz8f5YB0AByNwgDAZgcOHNCyZRWUlNRFv/++Rq+/\nHqX69eubHQvIVYkSJeTn94c8PTeoRg2eTpObDz74pz64x6fTtmv3N2VljdRLL3FpK+CsKAwAbObr\n6ytv7+NKSpJKljyq++6rZ3Yk4LaKFi2qH3+MlNVq5VI1Bxox4hWNGGF2CgC24CckcnXlyhVNnrxC\n0dFHzY6CfOyBBx7Qp5821UsvjdasWQ1VsWLFXNc/fPiYuncfrZdeCtORI8fzKCUKqnfemaomTQbq\n9Okzd72txWKhLADAbTDDgFyFhEzQF1+8ru+++1DPPfe02XGQj7Vr97jatXv8tuudOXNW7dvP1tGj\noyVJu3cP1datb8rP7wGHZbt+/bp69JikS5eKafr059W2bVOHHQt5b+fOk9q/v6Giog7K39/P7DgA\nUOBwWgW58vX1lJvbHnl4ZJgdBQXE0qXf6OjRfvrzfIWbjh7tp88++9ahxzx79qyOHauvkyfHatWq\nbQ49lhkmTlymGjWGqUaNYZoyZYXZcfLcsmX9tHixl55++gmzowBAgURhQK5mzXpXixYlas6cnmZH\nQQFRvnwpubn9/6Ujbm6nVb58KYceMzAwUB07nlPz5u9p9OhXHHosezp27Jji4uKyP+/ff0ivvRah\nsLBPlZaWJkmKiYnRuHFxOngwTAcPhiki4pxOnz5tSl6r1WrKsf/2t0A9/3y7e3oy15o1mzRp0mIe\nqwoAueCSJOTK1dVVdevWNTsGCpCXXnpGn38+RFu3npAktWy5X926jXboMQ8dOqZff43T9eueWrJk\nowYNetmhx7PF/v379ccfcfrqq71avLikvL1PaPnyzipSxE0dOqxWbOx7slhOa+fOD7Rhw8c6f/68\nLl2qmr395ctVdOHCBfn7+9uc5fffjyk0dJYSE71Vr55Fc+e+J1dXV8P1585dp7lzs/TJJ4nq2bOT\nzce/U5cvX1ZsbKxq1659V9tdunRJ/fr9qLi4hgoI2KBOndo6KCEAODcKA3CPrFar3n9/upKSUjVx\n4psqUqSI2ZGcgouLi774IlyHDh2SJPn7t9fUqZ+pWbOHVbduDYccs2fPT7VnzyRJrho7dq7+8Y+D\neuih/PcywnfemaK5c+9TUlJFeXj8qOTkWYqPL64lSyKVmHhdsbFDJbnIaq2sqKiHdPbsWdWuXVu1\naw/Snj31JVlVq9Y3qlHjY7vkCQ2dpe+/HyPJVYcOHVS1agv0/vvGb2l+5JGHtGvXN3rssRfscvw7\nVaNGb50/X1QLFz6r7t3vvKh4eXmpQoU/5OX1pWrV6u/AhADg3CgMuK19+35VUFA1s2PkO5s2bdeE\nCX9TRkaAqlZdof79e5ia5/ffj2np0m8VEHCfXnnluVzPBJvNYrEoKChIktSmzfv65ptX5O+/VLt2\n+djlzPj/Sk72kvTneMTHV1dMzNl8VxhSUlK0enWyEhPflCQlJ1eXp2df+fndr1dffVVz5nwp6bIk\nX0lSsWJx8vDwULFixbRpU5jCwxfIYrHogw9Gq2jRonbJlJj4/+OWnh6k33//V67r16pVRXPnVlFQ\n0IN2Of6dSktzl9X6hJKSku9quyJFiuiHH6ZIEi8azKd++OEXrVu3XR9+2IeTMoCJuIcBuUpISFCv\nXuP07bc7zY5yx0JCIlS37mDt3LnHoccJCnpQlSptUGDgYjVufHeXQtjbrl2/qHXrzxQW9oJef/1v\n6tDhA6e5Jjs+3iLpQV2+HJTjen17atPGV56eKyRFqVGjFWrevIlDjmOrnH9kFgUH19K+feGqWbOa\nwsJ6q3HjD1WixGqVLz9FPXv6qlSpP+/98PHx0dix/RUR8aa8vb0lSdHR0UpOvrtfoP9XvXoucnM7\nIMmq+++frODg1jbtz1H+858IrVnjp9deu/vSbrFYnK4sTJy4UgcPHjM7Rp54550VGjeuqRYsWGN2\nFKBQY4YBufLx8dHq1eHy83OeRxX++GOiDh16TytWzFbTpo5727Cfn5/27h2jrKwseXp6Ouw4d2LM\nmHU6dWq4JIsyMny1bdsxHThwQLVq1TI1150YO7ajIiJGqF698g67XyYi4nX5+EzSzz9v1eLFn8jD\nw8Mhx7GFh4eHOnf21Jw5nykpKVB16y5XWNgoFStWTNKfl89s2/aJDh06pPDwPdqxw0V79hxQ/fo1\nb9rXZ5+tU2joEdWte1y7dk2750zz5r2voKCFOnRorYKDW6t584b3vC9HCgysoMDACmbHyBNWq1Wb\nN/8oDw+LOnX6h9lxHO6ll+rrvvvW6NlnuWQMMBOFAbcVEBBgdoS7EhbWShs2zNDo0X0dfqzixYs7\n/Bh3JucZ0qwsN2VlZZmU5e60bNlILVs2cvhxYmISdfjwZdPLXW4mTHhTL7+8T3/8EafHHx9zU1Z3\nd3f99ttJrVr1tDIzH9WgQcO0adPNN4zPn/+Nrl2z6NdfLyguLk733XffPeVxcXHR4MEhd7z+hQsX\nNX36ek2f/p58fX3v6ZjI3dtvT1ZMTC+tWvWdhg699z9bZ/HGG8/rjTeeNzsGUOhxSRIKnM6dn9Cc\nOR/Ix8fH7Ch5pn//J+Xn94mk67JYjqhJk52qWfPmM8+FWf/+z2vVqhFmx7itunXrqE2bvxsWm6pV\nA+Xr+71cXPbIz+/WhbVYsdKSIuTj00jp6ekOTJvTZ59t0qpV9bVw4Zd5dszCZseOQ8rIeOb/2rv3\nuJzP/w/gr7u7g0pZEZpDMYciUo5hVhKZs205zFfCjDG+s8yxyWnCkONYiM2ZMWFzZgxbTpljYZ1o\nZaSb6q673J/fH776rdVd3cdPd72ej0ePhz7357rut+t+V/f7/lyf60Jqakv8/fffYodDRJUErzAQ\nVQC+vl6IirJBZORK1Kljj8mTF5brm55Jc56eLXD4sBK3b/+JoUOnFntOZOQkzJq1Gn5+reHo6Giw\n2MaO7Y+GDc9jwoQxKs8RBAGffbYS16/LEBDQDOPGva/18+7efRQXLtzA3LljCu7hqKi++KI7hg4d\nAHv7l3B1HSt2OBXW8+fPjeYqLZEhsGAgqiA8Pd3g6cmrCiUxlhvBS9OmjTvatHFX+XiNGjWwbt00\nA0b0SpUqVdC3r2+Jq9n89NMprFvnitzc7njwYBEGD35WcPO2Ju7fv4/hw3ciN9cW9++H4tChZRr3\nZQxMTS1hajocb75Z8XYsL09GjdqA3Nx83LvnJXYoROUCpyQRUaUwbdpm9OkTBplMJnYolZq5uRlM\nTXMAACYmCpiYaPdnyMzMDEplDoAWkMu1WxXKGAwc6I+vvkrH4sX9xQ6lQmvfvj7attX9Es/0//bt\nOwFf38+Rn58vdihUBrzCQESVQo0aVfHGG5YwMzMTOxSDUyqVOH/+N5iZmaJ9+7aiLiPq59cFwcEb\nEB09F8OGtdX6XiMnJyfs3h2IY8fOY/nylTqK0nB27PgZGzZcQpUqeVi1ajQaNnQq8XyJRIJ33+1i\noOgqr+Bg7afKUclSUv5GRsYzTv0yEiwYiKhSeP0GoDwuqapPgiDggw++xKFDnSCVKjBo0EJERs4Q\nNabQ0NE67a9/f3/07++vdjtBEPDFF2vw8GE6Nm4MNnhuxMXdw2ef3UNa2pcA8vD48VRculSxp1QR\nvb+3x18AACAASURBVPb4cT6qV2+N8+evwcenvdjhUCk4JYlKlZubK3YIFd7WrUdw/Hi02GHQv2Rk\nZCA4eDnmzFlntD8HKSkpOHfOCQpFT8jl/XDypCnkcrnYYaktPj4eGRkZOu0zLS0N330nwc6dfbBn\nzxGd9l0WMTGxSEt7+3/fmeHp0+r8tJUqjb//zsTz503x119c7csYsGCgEkVHX4O//7dYufIHsUOp\nsF6+fInIyHtYv/43sUOhf1AqlfD3n42lS4djzhx/fPDBHLFD0oiNjQ2srVMLvre0fFbiTcnl0X//\nuwJt255GmzYLcfNmrM76rVmzJnr2lKFHjz3o29dHZ/2W1TvvtMVbb+0GkA8gDY0aZWh9TweRsVi+\nPAg7dzbC0KEVfwPCioBTkqhEDg72qF1bQP36NcUOpcKSSqWYPbsjqlev2MtBGpsnT54gIaEZgOoQ\nhOqIiysvm/Spx9bWFl9+6Y6VK0MgkbxESIif0S25e+HCczx9OglPnz7Fjh07sWBBU530a2Jigs2b\nxZueVatWLRw8OBJhYWGwt7fCggXGWZQSaeLKlbvYuPEE/Pz8YGrKt6PlHV8hKlGDBk7YsWOi2GFU\neF26tBY7hHIjPT0dVapUEf1eg+rVq+PNN+8gLU0OIBv16r0QNR5tBAX1RVBQX7HD0JivrwOSk1eg\nWrVEBAZOEDscnXJ1bYwtW2aJHYbGEhKScPJkNHr27IQ33zTcnh9k/Kytq8DW1pJX1YwECwYiKjeW\nLt2G5ctTYGn5BNu3f4i2bVuKFotUKsXhw1Mxc+ZyWFmZYeHCENFiMRapqWk4c+YaPvnEHrVq1dJZ\nvwsXjsXkyX/DxsYGVapU0Vm/pJ3ExCR07boO8fHD0aTJUpw/Pw01atQQOywyEq1auSA83IUFg5Hg\nq0RUSSUlJWPixCU4cOCU2KEUOHQoHo8eTcH9+wuxfv1BscOBo6MjNm2agdWrp8DGxkbscMq1Fy9e\nIChoJ+bOrQ5f3/k6v0ncwcGBxcL/HDx4Fmlpj8UOAydPRiM+/j8AXBAXNwAxMTeKPS84eA3c3Gbh\nu+8OGzZAKtcuXLiOKVMikJVV8fdPqQhYMBBVQkqlEr17L8GqVZ9g5Mh4nDp1UeyQAADe3o6oUWM9\n6tefi2HD/MQOh9SQmpqK5ORHAO4hLi5J5ysalQfPnj2Dn980eHrOxbx5m0SLY/Xqfdi7V/ydnt99\ntzOaNt0I4Fe0aLEHbdt6Fnver78+xK1bM3H48GXDBkjl2v790Th1ygGxsbpbyID0hwUDlSohIQEv\nX74UOwyjFBKyHm5uoXBzm43588V7g/Fvubm5kMkcAVgjPd0b167FiR0SAGD27FG4dKkHrlyZAG/v\ndjrt++7dWJw9ewE5OTk67ZdeadSoESwtXwIIxBtvKHU6Jam8CA5ehxMnZuDatS+xZk02Hj58KEoc\ntrb2sLUV/4pX7dq1cf78dBw/nodz5+ao3IRv2bIABAUtRXj4xwaOkMqzAQPaoGXLa2jVqpXYoVAZ\nsGCgEslkMgQEhODnn8X/NMvY7Nt3HCtX1sGtW6G4dWsOli6thiNHzoodFgDA0tISAQE2aNx4Dt55\nZy3GjBkodkgFnJ2ddT4POjR0AwIDn2HcuCbw9Z3KokEPJBIJJk/2xRtvfIZVq4znjeGJExcQGbkP\ngiCIHUqZvf12M7Rt20TsMAC8WhygWzefEnfs7tjRA5s2zYKjY20DRkblnwlMTGyN6mevMuNNz1Si\natWqITJyOpo0aSx2KEbn1KlreP58UsH3GRl+OHUqEv7+XUSM6v8tWTIBS5aIHYVh/PhjCl68+BIA\ncPEicObMefj7+4ocVcUzZMi7GDLkXbi6uoodSpmkp6djxIhjePq0FezsjqN//+4lnv/112ORnLwQ\nT55YYsCAuqhbt66BIi1s4sT3RXleIl3q2NEdHTu6G90yz5UVCwYqVfPmzcQOwSh5e7tjy5ZTyMzs\nCQCoVu0UvL156VUMVlZZAJQATFCt2p94883i51pXFBkZGfjhh+No0aIR2rXzEDuccsva2hq1a/+N\nKlV+QePGY0s9387ODseOLTRAZERE5QsLBiqVXC6HpaVxblolpvff74ErV9biwIE5AJT44IO6ePfd\n/kXOe/z4MSZPjoC1tRm2bp3DlWD04JtvRmDEiP8iJ6cqBg9uiJYtW4gdkt5kZmbCx2c2YmI+hr39\nb1i0KBGjRxfNO0MTBAGffrocFy5kwdlZgZ07Q0TfcdrCwgK//74SL1++LDGWtLQ05Ofno06dOgaM\njqhiePbsGR49eoQmTZqI/jNPmmPBQCWSyWTo1m08QkKCjGaaQXmycOEnWFjKB5KjR6/CkSMZAKqi\nfv1vsGzZZwaJrTJxd3fF9u3jAKDC5/H169fxxx/9ADRDenozREXNN1jBoFQqERcXBxcXF0gkkkKP\n/frrb9i0qRHk8r6IiYnHokWRCAkR/14HqVRa4pSIuLj76NZtE16+tMSuXT3RuXMbA0ZHZLwEQcCk\nSeGIilLi6dOGqF9/F2bN6oQhQ/zFDo00wJueqUS2trb4/POh6NyZ0xr05dX7qur/+yLSTuPGjeHk\ndBqAEubmV+HmZri8Wr9+Pz78MBnr1u0q8tirGxsl//u3BEql+Dc6Pn78GD4+U9G+/QycPVv8kp+J\niY/w5EkHPH7cDbGxCYYNkMiI7dlzBBs2tEBi4ufIzByA27fnYebMaMhkMgBAfn4+kpOTRY6SyooF\nA5VIIpFg4MBuqFq1qtihVFgbNkxEz55KDBokx1dfjRM7HCrGpUtXcObMOSiVSrFDKVXNmjWxa9cH\n+PDDBQgNjcH8+Yb7FL9bt9Zo3z4OPXp4FXns7be9MGJELFq1mod+/TZg2rQgg8WlSkjIRpw5MxvR\n0QswZ86BYs/p1q0L5s7NQEjIDQQFlY/VxObO/Q6XL98WOwyiEu3ZcwlyeeHFJeLj++PgwdMAgB07\nfkZAQAjy8vLECI/UxClJRCJzcHDA0qWjAYD3L+hRbm4uMjMz1W43ZcpqrFtXC7m5tujfPxS7d8/V\nQ3S61bZtS2zd2tLgz9u4sTPWrh2Phg2dijwmkUiwdm2wwWMqScuWDWFtfRpyeQPUrVv8z55EIkFw\n8HADR6ba9et3cOTIdSQnp2HYsIFFpn6Rbry+b6WiT2HUJ3v7KgCyAPz/B45WVimoU8cBABAQ0B2t\nWzeCmZmZOAGSWniFgYiMhiAIUCgUGrWdPDkSAQFb8eTJE7XanTz5DJmZHyAvrweioy2N5tOw+/fv\nQy6X66QvuVyO6OhoPH/+XCf9lReffBKALl2OoEWLBQgP/0TscMpkwoTNyMh4B7/95objx7k/jr6M\nHbsdH320Q+wwjNqMGYPh7LwYQP7/jjyFp+dReHt3BPBq0YFmzViQGQsWDERkFO7d+xMeHp+hcePl\nGDx4ttqb/bRt2xBublVga2urVjsHhywAMgAK2NmlGsWnYT/+eALt2x/CwIHaXw3Jzc2Ft/dUdO78\nDJ06fYlnz57pIELdOnXqd8ycuRr5+fmln/wPaWlpuHLFBdevByMq6rSeotOtKlUyAchhYvIbHB1r\nih1OheXv3wTduzcUOwyj5uRUHwcODMWAAfPxzjvz8PHHG3H48BxeFTNSnJJEJcrMzETv3tMwbVoA\nL82STqSk/IWffvoVH3zQvcTdYf9t+vTvcf361wBMkZZ2GBcu/IZOnYrOlVclMNAPQ4fmqb2s386d\nUzF58hpkZ+chLGyyWm3FUrOmPezsklCzpoPWfcXHx+Pu3beRl9cDN2/aIjr6Knr00P+md2lpafj4\n47WQyczg5VUdCxaMVflGY8qU/YiJ6QV39yMICOhd5ueoVasW+vTJxF9/7UW/flN0FbpeHTiwBAMG\njISf3zto0YJ75OhDdnY2Llx4gLw8Ac+ePYOdnZ3YIRmtli1dsG9fqNhhkA6wYKASWVpaomNHVzRq\nJM6Oppq4dOkPnDgRjcmT/wMLCwuxw6F/EAQB/v5f4caNsdi+fQFOnVpc5rZWVlIA2QBsYWEhQ9Wq\n9dR67iVLtuPXX2/h3r39arWzs7NDZOQMtdqIrWNHT9y756GTT/IaNGgAV9dvcPWqDZo2PYJ27Wbr\nIMLSDRiwCBcvLgBgiYsXf0fVqpsxY0bxN0p/+KE76tU7Dj8/9ZYklkgk2LBhqg6iNRwrKyvExDyG\ns3Oq2KFUWImJibhzpz1yc+1w+/YddOrUsUztlEolTEw4cYMqJhYMVCKpVIoZMwLFDkMtI0Zswe3b\nHyMjYx0WLZqkdX+CIFSIS6h79x7DiRNXMHRoN3Tp0laUGARBQE6OJQBXvHihXtsVK8YjLW0hnjyx\nQo8eNeDurt5NvY0a1UZyclqFeT1Lo6v/o4WFBU6fDsONGzfg4jJX7SldmlAoFHj0qBaAVxtG5ua2\nx++/H1N5/uTJQzDZOC7+6MSXXwagZcvmYodRYbm4uGD06CjI5cno2HFWmdqsXbsXy5Zdh52dDEeP\nhsLe3l7PURIZFgsGKlVOTk65+qReoVBgyZItePQoHR991BseHoX/cDZoYA65fDM6dOim1fM8epSC\n9977Go8f28PFJRP79oUa7SpGq1fvwqxZFpDJpuDAgW+wbZsSXbu2V6uP/ftPYv/+i/DyaoKxYz/Q\n6A2piYkJ1qzpj+++W4DgYPWW1bSzs8PRo4V3wbt/Px67dp2Em5sz+vUr+fWOirqN+/drIS0tDbVr\n11Y7drHdvBmLmTO3o2pVU6xZ8yneeOMNgz23paUl2rVrZ7DnMzc3h719GpKSlABMIJHEo1Ej/Rcq\nxuDBgweYMSMFrVvfxqlTb4sdToUkkUgwZkzfgn+XxZ49t/HgwTwAN3Hw4BkEBpaPJXiJdIUFA5Vo\n5cpdCAu7hVatsvDTT0vFDgdKpRJ9+szA8ePjIAj1cPDgUuzcmYNOnVoXnHPo0EK8fPmyxN1by2LS\npG/x++9fAaiC+PgkfPXVJsydaxwrqfzb0aP3IJO9+qQsNXUCtm5dgK5d2+P69eto1KgRrK2tS2y/\na9dRjB//N54+nYUffjiLx483Yvbs0RrF4ufXEX5+ZbvEX5KrV29i4MC9SEz8GNbW1zF6dDjCw/+r\n8vx58wbizz8fGWWxAADDhq3H9etLAGRCLl+GffvmiB2SXm3e/BHGjZuOFy+qokULJcLCVE8Ly8jI\nQEpKCpo1q/hz+uvXr4/u3XPh7S3OVcLKQiaTqbXvSo8ezrh/fzHeeOMh/P1n6jGyiiM6+iYiI0/g\n5Mm1Wv+9Jv1jwUAlunEjHn/99R84OKwQOxQAwJ9//onoaE8IwlsAgIcPpyE8fF6hggGATn755OQI\nAF5fWbGDTJatdZ9iadrUFj//HIuXL5vC2vokOnd2w8aN+zBpkgze3rtx6NCCEtvv3x+Np09DAADZ\n2V3w669nDRF2iZYs2Y/ExC8BmCAryxFHjkSXeP79+49w924ycnJyjO5KkSAIyMy0ASAFUA3p6RV7\nStWqVbtx7NhNfPvtKLi5NSn1/D595uHGjbrYuzcd3bp1NkCE4jEzM8PcuSPEDqPCGz16I3JzX+Le\nvbJ9uDFt2nCMGyeDlZWVUaykRqQuFgxUohUrJuKNN1ahW7f+YocC4NV8ajOzf05+V0Bfv5tnzuyP\n2NiZSE1ti0aNziAkJEQ/T2QAYWGfID9/NWJjd6NLl3oYOXIEzpyJRp06F9CwYek3D7dsWQf791+D\nQuEBIAX164v/q6NqVVO82hTIBgBgZpar8tw7d+5g5sx0ZGQMgVy+AhERxnWjq0QiwZAhdbBly2KY\nm7/Ap5++I3ZIxfrll6tYuvQgNm/+Ap06eWrUh1KpxPLlNxEfHwogFAcPlr40rJOTPZ4+TUSdOmVf\nIcmQcnJyIJVKdfZG8tKlGDRqVHRzPNKdDh2cIJert+eLOqu+EZCVJcfz59lqL5FN4hD/rz6Va1ZW\nVhg5sq/YYRSoV68e+vXLwPbtPyA72xmurtsQFqbeyihl5eXlgcuXGyI5ORlvveUPS0tLvTyPIZia\nmhaZruPt3Q6xsWWblz5t2gg8ebIKV64cgpOTCVavFv8O00WLPkZMzCzcu+cFO7v7mDJF9RKrSqWA\n3FwlAKnR/nGaN28Mpkx5DnNz83J7hWTPnpN48KAVvvvugMYFg4mJCVxdcyEIc9CtW9lu7N26tfxO\nAVm7di+WLLkFM7MsrF//Hnx81Lt36N+io6MxYsQeODjkIC3tJx1FSf/2+efviR1ChVerlj3q1rXn\nylJGggUDlSgvLw9ffLEOn3zSq9zswxARMRUjR0YjNfUxvL1D9LpGdrVq1fipEV69iVu2TPsVp3TJ\n3t4eFy58jfj4eNSs6V/iTcDNmzfDBx9sQXT0ZKxevd2AUepWWVcoysvLw+LFm9G7d2e4uxvu53bC\nhPeQm3sIwcFfaNXP4cOLdHIfUnmwdestJCTMBiBgxYq5WhcMubm5EIQWyMu7rJsAqVi7d5+CXK5A\nWFj5+LtXEV28eB2nT19Efn6+2vvjkOGxYKASKRQKJCQ8xuPHGWKHUoiXl+FWbKmocnJysGDBRgQE\ndEOLFk3FDkcjZmZmaNKk9DnuwKurJADKxafzCoUC06evhaNjdQQH/0fn/W/c+ANCQlrgp5+24Pz5\nMJ33r4qLS0NERExE48YNtO6rIhQLAPDWW1JER1+DhUUa2rRRb++Q4nTu3BkjRhyAn99wHURHqixd\nehb5+RKEGe7Hp9IxN5dCKjWtFMtcVwQsGKhE1tbW2L37S7HDID0ID9+G+fPfwblzm3HmzMLSG5DO\nLFv2PZYv7wkrq2vw9r6CNm1al95IDX36dMG+favh7++u0371ITk5GQkJSejUyatCTk2IjJyGt9/e\nh+rVq2HgQPWWEi7O/v1HsW1ba1y9eg5Dhw7SQYRUnPr1Ablc9X1RpL3//Kcfhg3ry5vEjQQLBqJK\navBgP5w+vR4DB/JqjaF5eDSFo+NeWFk9RZ06ur+BuU6dN3Hs2Fc671fX7t17AF/fzUhL64jAwK/x\n7bfaTWUqj0xNTTFmTIDO+vP0bAZX18Vo1cpBZ31SUbt3zzba+52MCa8uGA8WDESVlLNzfRw9WvJy\nqqQfPXp0xtWrjVGlSpVKfY9MTMxdPHzYG4LQHrGxF8UOxyg4O9fHzp3jxQ6jwpNIJHwzS/QPLBiI\niERQq1YtsUMQXb9+fhg4cD4ePTqI6dN7ih0OERGpwIKBiIhEYW5ujr17S99ngYgqnmfPnuHkySsI\nCeFKVMag4t1hRkRERETl2rFj0Vi9eg/y8vLEDoXKgFcYiIiIiMigBg3qgQEDfLhKkpHQ2RWG3bt3\no3v37nB3d8fgwYMRExNT4vlxcXEIDAyEh4cHfHx8EBERoatQSIfu34/HRx+tw6FDF8QOhYiIiCoQ\nbthmPHRSMOzfvx+hoaHo168fVq1aBRsbG4waNQoPHz4s9vynT58iKCgIUqkUK1asQEBAAMLDw7Fp\n0yZdhEM6tGFDFM6fD8b+/dfFDoWIiIiIRKD1lCRBELBq1SoMGjQI48e/WuqtY8eO8Pf3x+bNmzFr\n1qwibbZt2walUolvvvkGFhYW6NKlCxQKBdavX4/hw4fD1JQzpcqLWbNGITV1IQYO5AomRERERJWR\n1lcYEhMTkZKSgq5duxYcMzU1hbe3N86dO1dsmwsXLsDLywsWFhYFx3x9fSGTyXDz5k1tQyIdqlq1\nKqZOHYbGjZ3FDqXCWrJkK/r02YL+/b/Fjz+eFjsc0aWkpCAjI0Pn/SYkJODq1WtGe4Pdr79ega/v\nLPTuPQt//ZVa4rkKhQJbtuzDnTv3DBRd5aRUKqFUKsUOg8gozZ+/A716rcH581fFDoXKQOuCISEh\nAQDg5ORU6HjdunWRnJxc7E6JiYmJqF+/fqFj9erVK9QfVR7Z2dno3z8EXbrMQEzMbbHDMaiUlBQs\nX/4EDx6EIS5uOWbOPFqpdxddsGAzPD33wdPza5w/f0Vn/S5bth3vvXcSw4bdgJ/fZOTn5+usb325\ne/c+PDw+R58+0yEIAsaN24FTp+bh8OFZGD16dYltR45cjKAgZ/TqtRHp6emGCbiSiYm5jebNP0fz\n5pPxxx93Dfa8MpkMCxd+j2PHfjPYcxLpQ1JSBv76qznu3UsSOxQqA63n/mRmZgIArK2tCx23traG\nUqlEdnZ2kccyMzOLPf+f/anjzp07arehspPL5QD0N86bNkXhwIERABpg4sTPsX79GL08T3mUkJCA\nzEy7gu9fvJDi9u3bMDGpnCseR0XFIi1tIQAlli2bCnt7K530u2bNccjl7QB44+zZ5Thw4ACaNWum\nk771ZevWw7h+PQhpabtw9epVvHhhAkACwAJPnmSX+POYlPQEgtAML17Y448//jDYJnH6/l1RnoSH\nb8fdu6EAXmLVqhWYPHmwQZ73v/+NwLFjadizJxXNmtVF3bp1DfK8lU1lymWxtG9fE7dufQdPz/Uc\nZz16ncva0sk9DABUbqFe3BsfQRBUns+t2Cufli0bwt5+LzIz3dCo0Rtih2NQTk5OaNfuMM6ft4aZ\nWQa6dTOvtMUCAHTqVB3x8V/DwiIN773npbN+TUxkANwBNIFE8hz29vY661tfAgL88PDhTjRtWhdW\nVlYICKiNXbumwtw8G+PGvV1i23nzBiI8fBbat2/CHaX1JDCwG65fnwGJBBg2bJDBntfCQgqgBSwt\nU3i/Hxm1nj29YGVlxWVVjYTWv21sbGwAAFlZWYX+CGdlZUEqlcLS0rLYNllZWYWOvf7+dX/qcHXl\nLoH69Lry19c4u7q6wtPzDlJT/0bXrl9WuqLx+PFV2LdvHywt38S7744WOxxRLVvmiqlT02BpaQlb\nW1ud9Xvq1Eq0bj0OWVmmmDHDHz4+PjrrW5+2bHEv+Pfixa5YtKjkD2hec3V1xTvvdNFrbMXR9++K\n8sTV1RXXrnkb/Hl3756HkJAVcHfvYjR5bIwqUy6LaciQNznGenbnzh1kZ2dr3Y/WBcPrexeSk5ML\n7kN4/X2DBg1UtklKKjxnLTk5GQBUtqGKrXlzVzRvXjl/aUgkknI/PcaQ9PGJeL16dfHLL4sBGPcb\ngMpWTFNRVapUwciRfcUOg4gqGa3nPjg7O8PR0RHHjx8vOJaXl4czZ86gQ4cOxbbx8vLCxYsXC82r\nOnHiBOzs7Iz6jzkRERERUUWj9RUGiUSCjz76CPPmzYOtrS08PT2xdetWyGQyjBgxAgCQlJSE9PR0\ntGrVCgAwdOhQbN26FWPGjMHIkSNx9+5dREREIDg4mHMyiYiIiIjKEZ3cXTl06FB88cUXiIqKwqRJ\nk5CZmYmNGzcWrN6wdu1aDBkypOB8BwcHREZGIj8/H5MmTcKePXvw2WefISgoSBfhEBERERGRjujs\n4/ygoCCVb/jDwsIQFhZW6Jibmxt27Nihq6cnIiIiIiI9qLzrNxIRERERUalYMBARERERkUosGIiI\niIiISCUWDEREREREpBILBiIiIiIiUokFAxERERERqcSCgYiIiIiIVGLBQEREREREKrFgICIiIiIi\nlVgwEBERERGRSiwYiIiIiIhIJRYMRERERESkEgsGIiIiIiJSiQUDERERERGpxIKBiIiIiIhUYsFA\nREREREQqsWAgIiIiIiKVWDAQEREREZFKLBiIiIiIiEglFgxERERERKQSCwYiIiIiIlKJBQMRERER\nEanEgoGIiIiIiFRiwUBERERERCqxYCAiIiIiIpVYMBARERERkUosGIiIiIiISCUWDEREREREpBIL\nBiIiIiIiUokFAxERERERqcSCgYiIiIiIVGLBQEREREREKrFgICIiIiIilVgwEBERERGRSiwYiIiI\niIhIJRYMRERERESkEgsGIiIiIiJSiQUDERERERGpxIKBiIiIiIhUYsFAREREREQqsWAgIiIiIiKV\nWDAQEREREZFKLBiIiIiIiEglFgxERERERKQSCwYiIiIiIlKJBQMREREREanEgoGIiIiIiFRiwUBE\nRERERCqxYCAiIiIiIpVYMBARERERkUosGIiIiIiISCUWDEREREREpBILBiIiIiIiUokFAxERERER\nqcSCgYiIiIiIVGLBQEREREREKrFgICIiIiIilXRSMMTFxSEwMBAeHh7w8fFBREREqW0yMjIQGhqK\nrl27wtPTE4MHD8bFixd1EQ4REREREemI1gXD06dPERQUBKlUihUrViAgIADh4eHYtGmTyjaCIGDi\nxIk4c+YMJk6ciNWrV6NOnToYNWoUYmJitA2JiIiIiIh0xFTbDrZt2walUolvvvkGFhYW6NKlCxQK\nBdavX4/hw4fD1LToU9y4cQPR0dHYvHkzOnToAADw8vJCXFwcNm/ejPDwcG3DIiIiIiIiHdD6CsOF\nCxfg5eUFCwuLgmO+vr6QyWS4efNmsW2kUikCAgLg6elZcEwikcDJyQmPHj3SNiQiIiIiItIRrQuG\nxMRE1K9fv9CxevXqAQASEhKKbdO8eXPMnTsX5ubmBccyMzNx6dIlNGzYUNuQiIiIiIhIR0qckpSf\nn4/ExESVj9eoUQOZmZmwtrYudPz195mZmWUOZM6cOcjKykJQUFCZ2xARERERkX6VWDCkpqaiV69e\nxT4mkUgwbdo0CIIAiUSi8pzSCIKAuXPn4uDBgwgJCYGLi0sZwi7szp07arehspPL5QA4zvrEMdY/\njrH+cYwNg+Osfxxj/eMYG8brcdZWiQVD3bp1cffu3RI7WLduHbKysgode/29jY1NiW0VCgW++OIL\nHDlyBMHBwfjwww/LEnMR2dnZGrUj9XCc9Y9jrH8cY/3jGBsGx1n/OMb6xzE2DlqvkuTk5ISkpKRC\nx5KTkwEADRo0UNkuJycHY8eORXR0NObMmYNBgwZp9PytW7fWqB0REREREZVO65uevby8cPHixUKX\nPE6cOAE7Ozu4urqqbBccHIzLly9j2bJlGhcLRERERESkX1oXDEOHDkVeXh7GjBmD06dP45tvr2qc\n8QAACalJREFUvkFERATGjBlTsAdDZmYmYmJikJ6eDgA4fvw4Tpw4gd69e8PR0RExMTEFX6VNgSIi\nIiIiIsORCIIgaNvJzZs3sWDBAty6dQs1atTA0KFDMXr06ILHf//9dwQGBiIsLAz9+/fH9OnT8eOP\nP6K4p27cuDEOHjyobUhERERERKQDOikYiIiIiIioYtJ6ShIREREREVVcLBiIiIiIiEglFgxERERE\nRKQSCwYiIiIiIlKJBQMREREREalU7guG3bt3o3v37nB3d8fgwYMRExNT4vljx46Fi4tLka9/bixH\nxTt58iQ8PT1LPS8uLg6BgYHw8PCAj48PIiIiDBBdxVDWMWYeq0+pVCIyMhI9e/aEh4cHevXqhW3b\ntpXYhrmsHk3GmLmsHoVCgeXLl8PHxwceHh4IDAzE7du3S2zDPFafJuPMXNacQqFAz549MX369BLP\nYy5rrqxjrGkem+oyWF3bv38/QkNDMX78eLRo0QLff/89Ro0ahQMHDqBu3brFtomNjUVgYCB69epV\n6HiVKlUMEbLRunr1KqZMmVLqeU+fPkVQUBCaNm2KFStW4NatWwgPD4dUKsXIkSMNEKnxKusYA8xj\nTaxZswYREREYP3483N3dcfnyZXz11VeQy+WF9oV5jbmsPnXHGGAuq2vhwoWIiorClClT4OTkhC1b\ntmD48OGIiorCm2++WeR85rFm1B1ngLmsjdWrVyM+Ph6tWrVSeQ5zWTtlGWNAizwWyimlUin4+PgI\noaGhBcfy8vIEX19fYd68ecW2kclkQtOmTYVz584ZKkyjl5ubK3z77beCm5ub0K5dO8HDw6PE81es\nWCF06NBByMnJKTgWHh4utGvXTsjLy9N3uEZJ3TFmHqsvPz9f8PT0FFasWFHo+Jw5cwQvL69i2zCX\n1aPJGDOX1fP8+XOhefPmQmRkZMGxnJwcwd3dXVi7dm2xbZjH6tNknJnLmrt165bQqlUroUOHDsK0\nadNUnsdc1lxZx1ibPC63U5ISExORkpKCrl27FhwzNTWFt7c3zp07V2yb2NhYAECTJk0MEmNFcPbs\nWURERGDq1KkYNmxYsbtv/9OFCxfg5eUFCwuLgmO+vr6QyWS4efOmvsM1SuqOMfNYfVlZWRgwYAC6\nd+9e6LizszPS09ORk5NTpA1zWT2ajDFzWT1WVlbYu3cvBg4cWHBMKpVCIpEgLy+v2DbMY/VpMs7M\nZc3k5+djxowZGD16NGrVqlXiucxlzagzxtrkcbktGBISEgAATk5OhY7XrVsXycnJxb7pio2Nhbm5\nOcLDw9G+fXu0atUKkyZNwpMnTwwRslFq0aIFTp06hWHDhpXp/MTERNSvX7/QsXr16gH4/9eMClN3\njJnH6rO1tcWsWbPg4uJS6Pjp06fh6OhY7KVW5rJ6NBlj5rJ6pFIpXFxcYGtrC0EQkJycjBkzZkAi\nkaBv377FtmEeq0+TcWYuayYiIgIvX77EmDFjSv2wjLmsGXXGWJs8LrcFQ2ZmJgDA2tq60HFra2so\nlUpkZ2cXaRMbGwuFQgEbGxusWbMGs2fPRkxMDAIDA6FQKAwSt7GpVasWqlatWubzMzMzi31NXj9G\nRak7xsxj3dizZw8uXryocm49c1l7pY0xc1lza9asgZ+fH6KiovDRRx/B2dm52POYx9op6zgzl9X3\n4MEDrF+/HvPnz4eZmVmp5zOX1afuGGuTx+X2pufXVZJEIin2cROTorVOUFAQ+vXrhzZt2gAA2rRp\ng7feegsBAQH4+eef0a9fP/0FXEkIgqDyNVF1nNTDPNZeVFQUQkND4e/vjw8//LDYc5jL2inLGDOX\nNefn54cOHTrgt99+w5o1a6BQKDBp0qQi5zGPtVPWcWYuq0epVGLmzJl4//334e7uDqD0fGQuq0eT\nMdYmj8ttwWBjYwPg1bxZe3v7guNZWVmQSqWwtLQs0qZhw4Zo2LBhoWMtW7aEra1twbwt0o6NjQ2y\nsrIKHXv9/evXjLTDPNZOZGQkFi9eDF9fX3z99dcqz2Mua66sY8xc1lzTpk0BvPqDnpWVhY0bN2LC\nhAmQSqWFzmMea6es48xcVs/333+P1NRUREREID8/H8CrgkAQBLx8+bLI+ALMZXVpMsba5HG5nZL0\n+t6F5OTkQseTk5PRoEGDYtscPnwYly9fLnRMEAQoFArY2dnpJ9BKxsnJCUlJSYWOvX6NVL0upB7m\nseaWLVuGRYsWoX///li5ciVMTVV/JsJc1ow6Y8xcVs+TJ0/www8/FHnT5OLiAoVCgYyMjCJtmMfq\n02ScmcvqOXHiBFJTU9G2bVu4ubnBzc0NsbGx+PHHH9G8eXOkpKQUacNcVo8mY6xNHpfbKwzOzs5w\ndHTE8ePH0bFjRwBAXl4ezpw5Ax8fn2LbbN++HdnZ2di3b1/BZZlffvkFOTk5aNu2rcFir8i8vLyw\na9cuyOXygqs8J06cgJ2dHVxdXUWOrmJgHmtmy5Yt+PbbbxEYGFjqxjUAc1kT6o4xc1k9MpkMM2fO\nhEQiKbSCz/nz51GjRg1Ur169SBvmsfo0GWfmsnrmzp1b6F5TQRAQHByMBg0aYMKECXBwcCjShrms\nHk3GWJs8loaGhobq9H+gIxKJBObm5li7di3y8vKgUCiwcOFCJCQkICwsDLa2tkhKSkJ8fDxq164N\nAHBwcEBkZCQSEhJQtWpVnDt3DgsWLIC3tzeCgoJE/h+Vf9HR0bh27RrGjh1bcOzfY/zWW2/h+++/\nx8WLF2FnZ4cjR45g3bp1+PTTT9G6dWuxQjcaZRlj5rH6Hj9+jLFjx6JRo0b4+OOPkZqaWujLwcEB\nDx8+ZC5rQZMxZi6rx97eHnFxcdi1axdsbW0hk8mwceNG7Nu3DyEhIXB1deXvZB3QZJyZy+qxs7ND\nzZo1C33t2bMH9erVw5AhQyCVSpnLWtJkjLXKY7V3bjCwTZs2Cd7e3oK7u7swePBgISYmpuCxqVOn\nCi4uLoXOP3nypPDee+8JrVq1Et5++21h0aJFQm5urqHDNkqrVq0qsqlYcWN848YNYfDgwUKLFi0E\nHx8fISIiwpBhGrWyjjHzWD0//PCD0LRpU8HFxUVo2rRpoS8XFxchPT2duawlTceYuaweuVwuLFmy\nRPDx8RHc3NyEAQMGCEePHi14nHmsG5qMM3NZO/369Su0qRhzWffKMsaa5rFEEEpZtJWIiIiIiCqt\ncnvTMxERERERiY8FAxERERERqcSCgYiIiIiIVGLBQEREREREKrFgICIiIiIilVgwEBERERGRSiwY\niIiIiIhIJRYMRERERESkEgsGIiIiIiJS6f8Ayf6wjMr1TX4AAAAASUVORK5CYII=\n",
      "text/plain": [
       "<matplotlib.figure.Figure at 0x11d6cd1d0>"
      ]
     },
     "metadata": {},
     "output_type": "display_data"
=======
     "ename": "NameError",
     "evalue": "name 'dftouse_four' is not defined",
     "output_type": "error",
     "traceback": [
      "\u001b[0;31m---------------------------------------------------------------------------\u001b[0m",
      "\u001b[0;31mNameError\u001b[0m                                 Traceback (most recent call last)",
      "\u001b[0;32m<ipython-input-50-113626d5200e>\u001b[0m in \u001b[0;36m<module>\u001b[0;34m()\u001b[0m\n\u001b[0;32m----> 1\u001b[0;31m \u001b[0mplt\u001b[0m\u001b[0;34m.\u001b[0m\u001b[0mscatter\u001b[0m\u001b[0;34m(\u001b[0m\u001b[0my\u001b[0m\u001b[0;34m=\u001b[0m\u001b[0mdftouse_four\u001b[0m\u001b[0;34m.\u001b[0m\u001b[0mopening_gross\u001b[0m\u001b[0;34m,\u001b[0m \u001b[0mx\u001b[0m\u001b[0;34m=\u001b[0m\u001b[0mdftouse_four\u001b[0m\u001b[0;34m.\u001b[0m\u001b[0mstar_avg\u001b[0m\u001b[0;34m,\u001b[0m\u001b[0ms\u001b[0m\u001b[0;34m=\u001b[0m\u001b[0mdftouse_four\u001b[0m\u001b[0;34m.\u001b[0m\u001b[0mreview_count\u001b[0m\u001b[0;34m)\u001b[0m\u001b[0;34m\u001b[0m\u001b[0m\n\u001b[0m",
      "\u001b[0;31mNameError\u001b[0m: name 'dftouse_four' is not defined"
     ]
>>>>>>> master
    }
   ],
   "source": [
    "plt.scatter(y=dftouse_four.opening_gross, x=dftouse_four.star_avg,s=dftouse_four.review_count)"
   ]
  },
  {
   "cell_type": "code",
<<<<<<< HEAD
   "execution_count": 42,
=======
   "execution_count": 160,
>>>>>>> master
   "metadata": {
    "collapsed": false
   },
   "outputs": [
    {
     "data": {
      "text/plain": [
<<<<<<< HEAD
       "<matplotlib.collections.PathCollection at 0x11ecbf7d0>"
      ]
     },
     "execution_count": 42,
=======
       "<matplotlib.collections.PathCollection at 0x111fa4990>"
      ]
     },
     "execution_count": 160,
>>>>>>> master
     "metadata": {},
     "output_type": "execute_result"
    },
    {
     "data": {
      "image/png": "iVBORw0KGgoAAAANSUhEUgAAAxAAAAIiCAYAAABYPC7vAAAABHNCSVQICAgIfAhkiAAAAAlwSFlz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\nSfb/Sn9k8UrjnMMAAAAASUVORK5CYII=\n",
      "text/plain": [
<<<<<<< HEAD
       "<matplotlib.figure.Figure at 0x11d7a1e50>"
=======
       "<matplotlib.figure.Figure at 0x10c917390>"
>>>>>>> master
      ]
     },
     "metadata": {},
     "output_type": "display_data"
    }
   ],
   "source": [
    "plt.scatter(y=dftouse_seven.opening_gross, x=dftouse_seven.star_avg,s=dftouse_seven.review_count)"
   ]
  },
  {
   "cell_type": "code",
<<<<<<< HEAD
   "execution_count": 43,
=======
   "execution_count": 51,
>>>>>>> master
   "metadata": {
    "collapsed": true
   },
<<<<<<< HEAD
   "outputs": [
    {
     "data": {
      "text/plain": [
       "<matplotlib.collections.PathCollection at 0x11ef30150>"
      ]
     },
     "execution_count": 43,
     "metadata": {},
     "output_type": "execute_result"
    },
    {
     "data": {
      "image/png": "iVBORw0KGgoAAAANSUhEUgAAAwwAAAIiCAYAAABlrk+JAAAABHNCSVQICAgIfAhkiAAAAAlwSFlz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\nAElFTkSuQmCC\n",
      "text/plain": [
       "<matplotlib.figure.Figure at 0x11ecd8f50>"
      ]
     },
     "metadata": {},
     "output_type": "display_data"
    }
   ],
=======
   "outputs": [],
>>>>>>> master
   "source": [
    "dftouse_four = flattened_df[flattened_df['star_avg'] <= 4]\n",
    "dftouse_seven = flattened_df[flattened_df['star_avg'] >= 7]"
   ]
  },
  {
   "cell_type": "code",
<<<<<<< HEAD
   "execution_count": 44,
=======
   "execution_count": 52,
>>>>>>> master
   "metadata": {
    "collapsed": false
   },
   "outputs": [
    {
     "data": {
      "text/html": [
       "<div>\n",
       "<table border=\"1\" class=\"dataframe\">\n",
       "  <thead>\n",
       "    <tr style=\"text-align: right;\">\n",
       "      <th></th>\n",
       "      <th>close_year</th>\n",
       "      <th>gross</th>\n",
       "      <th>open_year</th>\n",
       "      <th>opening_gross</th>\n",
       "      <th>opening_theaters</th>\n",
       "      <th>ranking</th>\n",
       "      <th>total_theaters</th>\n",
       "      <th>year</th>\n",
       "      <th>close_date</th>\n",
       "      <th>open_date</th>\n",
       "      <th>review_count</th>\n",
       "      <th>star_avg</th>\n",
       "      <th>positive</th>\n",
       "      <th>abs_star_avg</th>\n",
       "    </tr>\n",
       "    <tr>\n",
       "      <th>title</th>\n",
       "      <th></th>\n",
       "      <th></th>\n",
       "      <th></th>\n",
       "      <th></th>\n",
       "      <th></th>\n",
       "      <th></th>\n",
       "      <th></th>\n",
       "      <th></th>\n",
       "      <th></th>\n",
       "      <th></th>\n",
       "      <th></th>\n",
       "      <th></th>\n",
       "      <th></th>\n",
       "      <th></th>\n",
       "    </tr>\n",
       "  </thead>\n",
       "  <tbody>\n",
       "    <tr>\n",
       "      <th>Pretty Woman</th>\n",
       "      <td>1991</td>\n",
       "      <td>178406268</td>\n",
       "      <td>1990</td>\n",
       "      <td>11280591</td>\n",
       "      <td>1325</td>\n",
       "      <td>4</td>\n",
       "      <td>1811</td>\n",
       "      <td>1990</td>\n",
       "      <td>None</td>\n",
       "      <td>1990-03-23</td>\n",
       "      <td>2</td>\n",
       "      <td>1.0</td>\n",
       "      <td>0</td>\n",
       "      <td>4.5</td>\n",
       "    </tr>\n",
       "    <tr>\n",
       "      <th>Problem Child</th>\n",
       "      <td>1991</td>\n",
       "      <td>53470891</td>\n",
       "      <td>1990</td>\n",
       "      <td>10026900</td>\n",
       "      <td>1714</td>\n",
       "      <td>21</td>\n",
       "      <td>1769</td>\n",
       "      <td>1990</td>\n",
       "      <td>None</td>\n",
       "      <td>1990-07-27</td>\n",
       "      <td>8</td>\n",
       "      <td>2.5</td>\n",
       "      <td>0</td>\n",
       "      <td>3.0</td>\n",
       "    </tr>\n",
       "    <tr>\n",
       "      <th>Marked for Death</th>\n",
       "      <td>1991</td>\n",
       "      <td>46044396</td>\n",
       "      <td>1990</td>\n",
       "      <td>11790047</td>\n",
       "      <td>1968</td>\n",
       "      <td>27</td>\n",
       "      <td>1974</td>\n",
       "      <td>1990</td>\n",
       "      <td>None</td>\n",
       "      <td>1990-10-05</td>\n",
       "      <td>3</td>\n",
       "      <td>4.0</td>\n",
       "      <td>0</td>\n",
       "      <td>1.5</td>\n",
       "    </tr>\n",
       "    <tr>\n",
       "      <th>Air America</th>\n",
       "      <td>1991</td>\n",
       "      <td>31053601</td>\n",
       "      <td>1990</td>\n",
       "      <td>8064480</td>\n",
       "      <td>1902</td>\n",
       "      <td>37</td>\n",
       "      <td>1902</td>\n",
       "      <td>1990</td>\n",
       "      <td>None</td>\n",
       "      <td>1990-08-10</td>\n",
       "      <td>5</td>\n",
       "      <td>2.8</td>\n",
       "      <td>0</td>\n",
       "      <td>2.7</td>\n",
       "    </tr>\n",
       "    <tr>\n",
       "      <th>Internal Affairs</th>\n",
       "      <td>1991</td>\n",
       "      <td>27734391</td>\n",
       "      <td>1990</td>\n",
       "      <td>5043516</td>\n",
       "      <td>975</td>\n",
       "      <td>43</td>\n",
       "      <td>986</td>\n",
       "      <td>1990</td>\n",
       "      <td>None</td>\n",
       "      <td>1990-01-12</td>\n",
       "      <td>2</td>\n",
       "      <td>3.5</td>\n",
       "      <td>0</td>\n",
       "      <td>2.0</td>\n",
       "    </tr>\n",
       "  </tbody>\n",
       "</table>\n",
       "</div>"
      ],
      "text/plain": [
       "                 close_year      gross open_year  opening_gross  opening_theaters  ranking  total_theaters  year close_date  open_date  review_count  star_avg  positive  abs_star_avg\n",
       "title                                                                                                                                                                                 \n",
       "Pretty Woman           1991  178406268      1990       11280591              1325        4            1811  1990       None 1990-03-23             2       1.0         0           4.5\n",
       "Problem Child          1991   53470891      1990       10026900              1714       21            1769  1990       None 1990-07-27             8       2.5         0           3.0\n",
       "Marked for Death       1991   46044396      1990       11790047              1968       27            1974  1990       None 1990-10-05             3       4.0         0           1.5\n",
       "Air America            1991   31053601      1990        8064480              1902       37            1902  1990       None 1990-08-10             5       2.8         0           2.7\n",
       "Internal Affairs       1991   27734391      1990        5043516               975       43             986  1990       None 1990-01-12             2       3.5         0           2.0"
      ]
     },
<<<<<<< HEAD
     "execution_count": 44,
=======
     "execution_count": 52,
>>>>>>> master
     "metadata": {},
     "output_type": "execute_result"
    }
   ],
   "source": [
    "dftouse_four.head()"
   ]
  },
  {
   "cell_type": "code",
<<<<<<< HEAD
   "execution_count": 45,
=======
   "execution_count": 53,
>>>>>>> master
   "metadata": {
    "collapsed": false
   },
   "outputs": [
    {
     "data": {
      "text/html": [
       "<table class=\"simpletable\">\n",
       "<caption>OLS Regression Results</caption>\n",
       "<tr>\n",
       "  <th>Dep. Variable:</th>      <td>opening_gross</td>  <th>  R-squared:         </th> <td>   0.004</td> \n",
       "</tr>\n",
       "<tr>\n",
       "  <th>Model:</th>                   <td>OLS</td>       <th>  Adj. R-squared:    </th> <td>   0.001</td> \n",
       "</tr>\n",
       "<tr>\n",
       "  <th>Method:</th>             <td>Least Squares</td>  <th>  F-statistic:       </th> <td>   1.465</td> \n",
       "</tr>\n",
       "<tr>\n",
<<<<<<< HEAD
       "  <th>Date:</th>             <td>Thu, 03 Dec 2015</td> <th>  Prob (F-statistic):</th> <td>1.79e-51</td> \n",
       "</tr>\n",
       "<tr>\n",
       "  <th>Time:</th>                 <td>11:24:39</td>     <th>  Log-Likelihood:    </th> <td> -5890.4</td> \n",
=======
       "  <th>Date:</th>             <td>Thu, 03 Dec 2015</td> <th>  Prob (F-statistic):</th>  <td> 0.227</td>  \n",
       "</tr>\n",
       "<tr>\n",
       "  <th>Time:</th>                 <td>19:13:11</td>     <th>  Log-Likelihood:    </th> <td> -6007.5</td> \n",
>>>>>>> master
       "</tr>\n",
       "<tr>\n",
       "  <th>No. Observations:</th>      <td>   334</td>      <th>  AIC:               </th> <td>1.202e+04</td>\n",
       "</tr>\n",
       "<tr>\n",
       "  <th>Df Residuals:</th>          <td>   332</td>      <th>  BIC:               </th> <td>1.203e+04</td>\n",
       "</tr>\n",
       "<tr>\n",
       "  <th>Df Model:</th>              <td>     1</td>      <th>                     </th>     <td> </td>    \n",
       "</tr>\n",
       "<tr>\n",
       "  <th>Covariance Type:</th>      <td>nonrobust</td>    <th>                     </th>     <td> </td>    \n",
       "</tr>\n",
       "</table>\n",
       "<table class=\"simpletable\">\n",
       "<tr>\n",
       "      <td></td>         <th>coef</th>     <th>std err</th>      <th>t</th>      <th>P>|t|</th> <th>[95.0% Conf. Int.]</th> \n",
       "</tr>\n",
       "<tr>\n",
       "  <th>Intercept</th> <td> 1.769e+07</td> <td> 1.58e+06</td> <td>   11.170</td> <td> 0.000</td> <td> 1.46e+07  2.08e+07</td>\n",
       "</tr>\n",
       "<tr>\n",
       "  <th>star_avg</th>  <td>-3.764e+05</td> <td> 3.11e+05</td> <td>   -1.210</td> <td> 0.227</td> <td>-9.88e+05  2.35e+05</td>\n",
       "</tr>\n",
       "</table>\n",
       "<table class=\"simpletable\">\n",
       "<tr>\n",
       "  <th>Omnibus:</th>       <td>203.186</td> <th>  Durbin-Watson:     </th> <td>   1.180</td>\n",
       "</tr>\n",
       "<tr>\n",
       "  <th>Prob(Omnibus):</th> <td> 0.000</td>  <th>  Jarque-Bera (JB):  </th> <td>1582.013</td>\n",
       "</tr>\n",
       "<tr>\n",
       "  <th>Skew:</th>          <td> 2.499</td>  <th>  Prob(JB):          </th> <td>    0.00</td>\n",
       "</tr>\n",
       "<tr>\n",
       "  <th>Kurtosis:</th>      <td>12.418</td>  <th>  Cond. No.          </th> <td>    9.64</td>\n",
       "</tr>\n",
       "</table>"
      ],
      "text/plain": [
       "<class 'statsmodels.iolib.summary.Summary'>\n",
       "\"\"\"\n",
       "                            OLS Regression Results                            \n",
       "==============================================================================\n",
       "Dep. Variable:          opening_gross   R-squared:                       0.004\n",
       "Model:                            OLS   Adj. R-squared:                  0.001\n",
       "Method:                 Least Squares   F-statistic:                     1.465\n",
       "Date:                Thu, 03 Dec 2015   Prob (F-statistic):              0.227\n",
       "Time:                        19:13:11   Log-Likelihood:                -6007.5\n",
       "No. Observations:                 334   AIC:                         1.202e+04\n",
       "Df Residuals:                     332   BIC:                         1.203e+04\n",
       "Df Model:                           1                                         \n",
       "Covariance Type:            nonrobust                                         \n",
       "==============================================================================\n",
       "                 coef    std err          t      P>|t|      [95.0% Conf. Int.]\n",
       "------------------------------------------------------------------------------\n",
       "Intercept   1.769e+07   1.58e+06     11.170      0.000      1.46e+07  2.08e+07\n",
       "star_avg   -3.764e+05   3.11e+05     -1.210      0.227     -9.88e+05  2.35e+05\n",
       "==============================================================================\n",
       "Omnibus:                      203.186   Durbin-Watson:                   1.180\n",
       "Prob(Omnibus):                  0.000   Jarque-Bera (JB):             1582.013\n",
       "Skew:                           2.499   Prob(JB):                         0.00\n",
       "Kurtosis:                      12.418   Cond. No.                         9.64\n",
       "==============================================================================\n",
       "\n",
       "Warnings:\n",
       "[1] Standard Errors assume that the covariance matrix of the errors is correctly specified.\n",
       "\"\"\""
      ]
     },
     "execution_count": 53,
     "metadata": {},
     "output_type": "execute_result"
    }
   ],
   "source": [
    "bobby_ols = ols('opening_gross ~ star_avg',dftouse).fit()\n",
    "bobby_ols.summary()"
   ]
  },
  {
   "cell_type": "code",
   "execution_count": 162,
   "metadata": {
    "collapsed": false
   },
   "outputs": [
    {
     "data": {
      "text/html": [
       "<table class=\"simpletable\">\n",
       "<caption>OLS Regression Results</caption>\n",
       "<tr>\n",
       "  <th>Dep. Variable:</th>      <td>opening_gross</td>  <th>  R-squared:         </th> <td>   0.005</td>\n",
       "</tr>\n",
       "<tr>\n",
       "  <th>Model:</th>                   <td>OLS</td>       <th>  Adj. R-squared:    </th> <td>   0.000</td>\n",
       "</tr>\n",
       "<tr>\n",
       "  <th>Method:</th>             <td>Least Squares</td>  <th>  F-statistic:       </th> <td>   1.002</td>\n",
       "</tr>\n",
       "<tr>\n",
       "  <th>Date:</th>             <td>Mon, 30 Nov 2015</td> <th>  Prob (F-statistic):</th>  <td> 0.318</td> \n",
       "</tr>\n",
       "<tr>\n",
       "  <th>Time:</th>                 <td>22:37:19</td>     <th>  Log-Likelihood:    </th> <td> -3954.6</td>\n",
       "</tr>\n",
       "<tr>\n",
       "  <th>No. Observations:</th>      <td>   220</td>      <th>  AIC:               </th> <td>   7913.</td>\n",
       "</tr>\n",
       "<tr>\n",
       "  <th>Df Residuals:</th>          <td>   218</td>      <th>  BIC:               </th> <td>   7920.</td>\n",
       "</tr>\n",
       "<tr>\n",
       "  <th>Df Model:</th>              <td>     1</td>      <th>                     </th>     <td> </td>   \n",
       "</tr>\n",
       "<tr>\n",
       "  <th>Covariance Type:</th>      <td>nonrobust</td>    <th>                     </th>     <td> </td>   \n",
       "</tr>\n",
       "</table>\n",
       "<table class=\"simpletable\">\n",
       "<tr>\n",
       "      <td></td>         <th>coef</th>     <th>std err</th>      <th>t</th>      <th>P>|t|</th> <th>[95.0% Conf. Int.]</th> \n",
       "</tr>\n",
       "<tr>\n",
       "  <th>Intercept</th> <td> 1.973e+07</td> <td> 3.31e+06</td> <td>    5.959</td> <td> 0.000</td> <td> 1.32e+07  2.63e+07</td>\n",
       "</tr>\n",
       "<tr>\n",
       "  <th>star_avg</th>  <td>-1.297e+06</td> <td>  1.3e+06</td> <td>   -1.001</td> <td> 0.318</td> <td>-3.85e+06  1.26e+06</td>\n",
       "</tr>\n",
       "</table>\n",
       "<table class=\"simpletable\">\n",
       "<tr>\n",
       "  <th>Omnibus:</th>       <td>126.033</td> <th>  Durbin-Watson:     </th> <td>   1.069</td> \n",
       "</tr>\n",
       "<tr>\n",
       "  <th>Prob(Omnibus):</th> <td> 0.000</td>  <th>  Jarque-Bera (JB):  </th> <td> 716.861</td> \n",
       "</tr>\n",
       "<tr>\n",
       "  <th>Skew:</th>          <td> 2.270</td>  <th>  Prob(JB):          </th> <td>2.17e-156</td>\n",
       "</tr>\n",
       "<tr>\n",
       "  <th>Kurtosis:</th>      <td>10.589</td>  <th>  Cond. No.          </th> <td>    9.19</td> \n",
       "</tr>\n",
       "</table>"
      ],
      "text/plain": [
       "<class 'statsmodels.iolib.summary.Summary'>\n",
       "\"\"\"\n",
       "                            OLS Regression Results                            \n",
       "==============================================================================\n",
<<<<<<< HEAD
       "Dep. Variable:          opening_gross   R-squared:                       0.506\n",
       "Model:                            OLS   Adj. R-squared:                  0.503\n",
       "Method:                 Least Squares   F-statistic:                     169.8\n",
       "Date:                Thu, 03 Dec 2015   Prob (F-statistic):           1.79e-51\n",
       "Time:                        11:24:39   Log-Likelihood:                -5890.4\n",
       "No. Observations:                 334   AIC:                         1.179e+04\n",
       "Df Residuals:                     331   BIC:                         1.180e+04\n",
       "Df Model:                           2                                         \n",
=======
       "Dep. Variable:          opening_gross   R-squared:                       0.005\n",
       "Model:                            OLS   Adj. R-squared:                  0.000\n",
       "Method:                 Least Squares   F-statistic:                     1.002\n",
       "Date:                Mon, 30 Nov 2015   Prob (F-statistic):              0.318\n",
       "Time:                        22:37:19   Log-Likelihood:                -3954.6\n",
       "No. Observations:                 220   AIC:                             7913.\n",
       "Df Residuals:                     218   BIC:                             7920.\n",
       "Df Model:                           1                                         \n",
>>>>>>> master
       "Covariance Type:            nonrobust                                         \n",
       "==============================================================================\n",
       "                 coef    std err          t      P>|t|      [95.0% Conf. Int.]\n",
       "------------------------------------------------------------------------------\n",
       "Intercept   1.973e+07   3.31e+06      5.959      0.000      1.32e+07  2.63e+07\n",
       "star_avg   -1.297e+06    1.3e+06     -1.001      0.318     -3.85e+06  1.26e+06\n",
       "==============================================================================\n",
       "Omnibus:                      126.033   Durbin-Watson:                   1.069\n",
       "Prob(Omnibus):                  0.000   Jarque-Bera (JB):              716.861\n",
       "Skew:                           2.270   Prob(JB):                    2.17e-156\n",
       "Kurtosis:                      10.589   Cond. No.                         9.19\n",
       "==============================================================================\n",
       "\n",
       "Warnings:\n",
       "[1] Standard Errors assume that the covariance matrix of the errors is correctly specified.\n",
       "\"\"\""
      ]
     },
<<<<<<< HEAD
     "execution_count": 45,
=======
     "execution_count": 162,
>>>>>>> master
     "metadata": {},
     "output_type": "execute_result"
    }
   ],
   "source": [
    "bobby_ols = ols('opening_gross ~ star_avg',dftouse_four).fit()\n",
    "bobby_ols.summary()"
   ]
  },
  {
   "cell_type": "code",
   "execution_count": 159,
   "metadata": {
    "collapsed": false
   },
   "outputs": [
    {
     "data": {
      "text/html": [
       "<table class=\"simpletable\">\n",
       "<caption>OLS Regression Results</caption>\n",
       "<tr>\n",
       "  <th>Dep. Variable:</th>      <td>opening_gross</td>  <th>  R-squared:         </th> <td>   0.009</td>\n",
       "</tr>\n",
       "<tr>\n",
       "  <th>Model:</th>                   <td>OLS</td>       <th>  Adj. R-squared:    </th> <td>  -0.003</td>\n",
       "</tr>\n",
       "<tr>\n",
       "  <th>Method:</th>             <td>Least Squares</td>  <th>  F-statistic:       </th> <td>  0.7432</td>\n",
       "</tr>\n",
       "<tr>\n",
       "  <th>Date:</th>             <td>Mon, 30 Nov 2015</td> <th>  Prob (F-statistic):</th>  <td> 0.391</td> \n",
       "</tr>\n",
       "<tr>\n",
       "  <th>Time:</th>                 <td>22:34:49</td>     <th>  Log-Likelihood:    </th> <td> -1553.5</td>\n",
       "</tr>\n",
       "<tr>\n",
       "  <th>No. Observations:</th>      <td>    86</td>      <th>  AIC:               </th> <td>   3111.</td>\n",
       "</tr>\n",
       "<tr>\n",
       "  <th>Df Residuals:</th>          <td>    84</td>      <th>  BIC:               </th> <td>   3116.</td>\n",
       "</tr>\n",
       "<tr>\n",
       "  <th>Df Model:</th>              <td>     1</td>      <th>                     </th>     <td> </td>   \n",
       "</tr>\n",
       "<tr>\n",
       "  <th>Covariance Type:</th>      <td>nonrobust</td>    <th>                     </th>     <td> </td>   \n",
       "</tr>\n",
       "</table>\n",
       "<table class=\"simpletable\">\n",
       "<tr>\n",
       "      <td></td>         <th>coef</th>     <th>std err</th>      <th>t</th>      <th>P>|t|</th> <th>[95.0% Conf. Int.]</th> \n",
       "</tr>\n",
       "<tr>\n",
       "  <th>Intercept</th> <td> 3.719e+07</td> <td> 2.64e+07</td> <td>    1.408</td> <td> 0.163</td> <td>-1.53e+07  8.97e+07</td>\n",
       "</tr>\n",
       "<tr>\n",
       "  <th>star_avg</th>  <td>-2.671e+06</td> <td>  3.1e+06</td> <td>   -0.862</td> <td> 0.391</td> <td>-8.83e+06  3.49e+06</td>\n",
       "</tr>\n",
       "</table>\n",
       "<table class=\"simpletable\">\n",
       "<tr>\n",
       "  <th>Omnibus:</th>       <td>81.009</td> <th>  Durbin-Watson:     </th> <td>   1.855</td> \n",
       "</tr>\n",
       "<tr>\n",
       "  <th>Prob(Omnibus):</th> <td> 0.000</td> <th>  Jarque-Bera (JB):  </th> <td> 666.603</td> \n",
       "</tr>\n",
       "<tr>\n",
       "  <th>Skew:</th>          <td> 2.982</td> <th>  Prob(JB):          </th> <td>1.77e-145</td>\n",
       "</tr>\n",
       "<tr>\n",
       "  <th>Kurtosis:</th>      <td>15.266</td> <th>  Cond. No.          </th> <td>    123.</td> \n",
       "</tr>\n",
       "</table>"
      ],
      "text/plain": [
       "<class 'statsmodels.iolib.summary.Summary'>\n",
       "\"\"\"\n",
       "                            OLS Regression Results                            \n",
       "==============================================================================\n",
       "Dep. Variable:          opening_gross   R-squared:                       0.009\n",
       "Model:                            OLS   Adj. R-squared:                 -0.003\n",
       "Method:                 Least Squares   F-statistic:                    0.7432\n",
       "Date:                Mon, 30 Nov 2015   Prob (F-statistic):              0.391\n",
       "Time:                        22:34:49   Log-Likelihood:                -1553.5\n",
       "No. Observations:                  86   AIC:                             3111.\n",
       "Df Residuals:                      84   BIC:                             3116.\n",
       "Df Model:                           1                                         \n",
       "Covariance Type:            nonrobust                                         \n",
       "==============================================================================\n",
       "                 coef    std err          t      P>|t|      [95.0% Conf. Int.]\n",
       "------------------------------------------------------------------------------\n",
       "Intercept   3.719e+07   2.64e+07      1.408      0.163     -1.53e+07  8.97e+07\n",
       "star_avg   -2.671e+06    3.1e+06     -0.862      0.391     -8.83e+06  3.49e+06\n",
       "==============================================================================\n",
       "Omnibus:                       81.009   Durbin-Watson:                   1.855\n",
       "Prob(Omnibus):                  0.000   Jarque-Bera (JB):              666.603\n",
       "Skew:                           2.982   Prob(JB):                    1.77e-145\n",
       "Kurtosis:                      15.266   Cond. No.                         123.\n",
       "==============================================================================\n",
       "\n",
       "Warnings:\n",
       "[1] Standard Errors assume that the covariance matrix of the errors is correctly specified.\n",
       "\"\"\""
      ]
     },
     "execution_count": 159,
     "metadata": {},
     "output_type": "execute_result"
    }
   ],
   "source": [
    "bobby_ols = ols('opening_gross ~ star_avg',dftouse_seven).fit()\n",
    "bobby_ols.summary()"
   ]
  },
  {
   "cell_type": "markdown",
   "metadata": {},
   "source": [
    "ASK ANDREW WHETHER WE NEED TEST/TRAIN FOR OUR REGRESSION\n",
    "\n",
    "WORK FLOW 0 GOAL: DESCRIPTIVE STATISTICS <br>\n",
    "- How many unique movies we have in our IMDB_df\n",
    "- how many reviews they have each \n",
    "- which years do they represent\n",
    "\n",
    "WORK FLOW 1 GOAL: MAKE A VALENCE SCORE THAT CLOSELY MATCHES STARS\n",
    "1. Create a valence score for each review\n",
    "    * summation \n",
    "    * average\n",
    "    * product\n",
    "1a. Check how good our valence score is by testing on the stars\n",
    "\n",
    "`STEPHEN's EDITS` number 2\n",
    "\n",
    "WORK FLOW 2 GOAL: FIND A REGRESSION MODEL THAT BEST PREDICTS THE FOLLOWING Y VARIABLES\n",
    "2. Regress on: \n",
    "    * opening_gross (controlled for opening weekend)\n",
    "    * opening_gross/opening_theater\n",
    "    * total_gross\n",
    "    * total_gross/total_theateer\n",
    "\n",
    "    \n",
    "3. "
   ]
  },
  {
   "cell_type": "markdown",
   "metadata": {},
   "source": [
    "Just realised that I was meant to take notes. \n",
    "- try making branches on github: each person should work on their own branch and not push to the origin until you are sure what you're doing is correct\n",
    "- share andrew on the github\n",
    "- \n",
    "\n",
    "Re: pretty woman question \n",
    "- useful to consider polarizing reviews actually predict the box office performance\n",
    "\n",
    "Re: regression \n",
    "- if at the end of the day we choose to do simply box office gross vs. sentiment this is just a correlation, then it is more on the simper side of things\n",
    "- the difficulty should be more commensurate with the pset difficulty\n",
    "- should take it to the next level, a few possibilities\n",
    "* \n",
    "\n",
    "- measures of dispersion on the sentiment analysis\n",
    "- different types of distributions you have in a given review\n",
    "- how frequently are certain words used\n",
    "- average length of words\n",
    "- average document lengths\n",
    "- ratio between high valence words and low valence words\n",
    "- we can do different sentiment scores based on different sentiment dictionaries\n",
    "- could use a BOW model (have the corpus of words in the reviews) & shrink down for regularization \n",
    "- \n",
    "\n",
    "We can adopt the hypothesis that stars predict box office gross\n",
    "Or hypothesis that evry polarized responses predict box office gross\n",
    "It's okay to have a dud hypothesis\n",
    "\n",
    "Graded on the effort we put in - low unimpressive results should not be equated with not having much work to do. We can make up for it via lit reviews or extra research. \n",
    "\n",
    "BY NEXT MONDAY: ANALYSIS SHOULD BE DONE, AND AT THAT POINT JUST TOUCHING UP THE VISUALIZATIONS\n",
    "1. Do not underestimate the time that it takes to make a good screencast, website, and effective visualizations\n",
    "- ANDREW IS HUMAN \n",
    "- If we put in alot of work to our visualizations, it will go a long way :) \n",
    "- just as much thought put into the end result as with the analysis"
   ]
  },
  {
   "cell_type": "markdown",
   "metadata": {},
   "source": [
    "### Analysis"
   ]
  },
  {
   "cell_type": "code",
   "execution_count": 55,
   "metadata": {
    "collapsed": false
   },
   "outputs": [
    {
     "name": "stdout",
     "output_type": "stream",
     "text": [
      "      DATE     VALUE\n",
      "0   1/1/90  5.397956\n",
      "1   1/1/91  4.234964\n",
      "2   1/1/92  3.028820\n",
      "3   1/1/93  2.951657\n",
      "4   1/1/94  2.607442\n",
      "5   1/1/95  2.805420\n",
      "6   1/1/96  2.931204\n",
      "7   1/1/97  2.337690\n",
      "8   1/1/98  1.552279\n",
      "9   1/1/99  2.188027\n",
      "10  1/1/00  3.376857\n",
      "11  1/1/01  2.826171\n",
      "12  1/1/02  1.586032\n",
      "13  1/1/03  2.270095\n",
      "14  1/1/04  2.677237\n",
      "15  1/1/05  3.392747\n",
      "16  1/1/06  3.225944\n",
      "17  1/1/07  2.852672\n",
      "18  1/1/08  3.839100\n",
      "19  1/1/09 -0.355546\n",
      "20  1/1/10  1.640043\n",
      "21  1/1/11  3.156842\n",
      "22  1/1/12  2.069337\n",
      "23  1/1/13  1.464833\n",
      "24  1/1/14  1.622223\n"
     ]
    }
   ],
   "source": [
    "#getting inflation data and creating a new dataframe \n",
    "inflation = pd.read_csv(\"inf.csv\")\n",
    "print inflation"
   ]
  },
  {
   "cell_type": "code",
   "execution_count": 90,
   "metadata": {
    "collapsed": false
   },
   "outputs": [],
   "source": [
    "#Creating a dataframe of Cumulative Inflation\n",
    "years_90 = range(1990,2015)\n",
    "infdict = {}\n",
    "\n",
    "infindex = 0\n",
    "infvalue = 1\n",
    "\n",
    "testlist = []\n",
    "for row in inflation.values:\n",
    "    currentval = 1 + (row[1]/100)\n",
    "    cuminf = infvalue*currentval\n",
    "    infdict[years_90[infindex]] = cuminf\n",
    "    infindex += 1\n",
    "    infvalue = cuminf\n",
    "    testlist.append(cuminf)\n",
    "\n",
    "inframe = pd.DataFrame(data=testlist, index=range(1990,2015))\n",
    "#infdict exists in case we need it later"
   ]
  },
  {
   "cell_type": "code",
   "execution_count": 91,
   "metadata": {
    "collapsed": false
   },
   "outputs": [
    {
     "data": {
      "text/html": [
       "<div>\n",
       "<table border=\"1\" class=\"dataframe\">\n",
       "  <thead>\n",
       "    <tr style=\"text-align: right;\">\n",
       "      <th></th>\n",
       "      <th>0</th>\n",
       "    </tr>\n",
       "  </thead>\n",
       "  <tbody>\n",
       "    <tr>\n",
       "      <th>1990</th>\n",
       "      <td>1.053980</td>\n",
       "    </tr>\n",
       "    <tr>\n",
       "      <th>1991</th>\n",
       "      <td>1.098615</td>\n",
       "    </tr>\n",
       "    <tr>\n",
       "      <th>1992</th>\n",
       "      <td>1.131890</td>\n",
       "    </tr>\n",
       "    <tr>\n",
       "      <th>1993</th>\n",
       "      <td>1.165300</td>\n",
       "    </tr>\n",
       "    <tr>\n",
       "      <th>1994</th>\n",
       "      <td>1.195684</td>\n",
       "    </tr>\n",
       "    <tr>\n",
       "      <th>1995</th>\n",
       "      <td>1.229228</td>\n",
       "    </tr>\n",
       "    <tr>\n",
       "      <th>1996</th>\n",
       "      <td>1.265259</td>\n",
       "    </tr>\n",
       "    <tr>\n",
       "      <th>1997</th>\n",
       "      <td>1.294837</td>\n",
       "    </tr>\n",
       "    <tr>\n",
       "      <th>1998</th>\n",
       "      <td>1.314937</td>\n",
       "    </tr>\n",
       "    <tr>\n",
       "      <th>1999</th>\n",
       "      <td>1.343708</td>\n",
       "    </tr>\n",
       "    <tr>\n",
       "      <th>2000</th>\n",
       "      <td>1.389083</td>\n",
       "    </tr>\n",
       "    <tr>\n",
       "      <th>2001</th>\n",
       "      <td>1.428341</td>\n",
       "    </tr>\n",
       "    <tr>\n",
       "      <th>2002</th>\n",
       "      <td>1.450995</td>\n",
       "    </tr>\n",
       "    <tr>\n",
       "      <th>2003</th>\n",
       "      <td>1.483934</td>\n",
       "    </tr>\n",
       "    <tr>\n",
       "      <th>2004</th>\n",
       "      <td>1.523662</td>\n",
       "    </tr>\n",
       "    <tr>\n",
       "      <th>2005</th>\n",
       "      <td>1.575356</td>\n",
       "    </tr>\n",
       "    <tr>\n",
       "      <th>2006</th>\n",
       "      <td>1.626176</td>\n",
       "    </tr>\n",
       "    <tr>\n",
       "      <th>2007</th>\n",
       "      <td>1.672566</td>\n",
       "    </tr>\n",
       "    <tr>\n",
       "      <th>2008</th>\n",
       "      <td>1.736777</td>\n",
       "    </tr>\n",
       "    <tr>\n",
       "      <th>2009</th>\n",
       "      <td>1.730602</td>\n",
       "    </tr>\n",
       "    <tr>\n",
       "      <th>2010</th>\n",
       "      <td>1.758985</td>\n",
       "    </tr>\n",
       "    <tr>\n",
       "      <th>2011</th>\n",
       "      <td>1.814513</td>\n",
       "    </tr>\n",
       "    <tr>\n",
       "      <th>2012</th>\n",
       "      <td>1.852062</td>\n",
       "    </tr>\n",
       "    <tr>\n",
       "      <th>2013</th>\n",
       "      <td>1.879191</td>\n",
       "    </tr>\n",
       "    <tr>\n",
       "      <th>2014</th>\n",
       "      <td>1.909676</td>\n",
       "    </tr>\n",
       "  </tbody>\n",
       "</table>\n",
       "</div>"
      ],
      "text/plain": [
       "             0\n",
       "1990  1.053980\n",
       "1991  1.098615\n",
       "1992  1.131890\n",
       "1993  1.165300\n",
       "1994  1.195684\n",
       "1995  1.229228\n",
       "1996  1.265259\n",
       "1997  1.294837\n",
       "1998  1.314937\n",
       "1999  1.343708\n",
       "2000  1.389083\n",
       "2001  1.428341\n",
       "2002  1.450995\n",
       "2003  1.483934\n",
       "2004  1.523662\n",
       "2005  1.575356\n",
       "2006  1.626176\n",
       "2007  1.672566\n",
       "2008  1.736777\n",
       "2009  1.730602\n",
       "2010  1.758985\n",
       "2011  1.814513\n",
       "2012  1.852062\n",
       "2013  1.879191\n",
       "2014  1.909676"
      ]
     },
     "execution_count": 91,
     "metadata": {},
     "output_type": "execute_result"
    }
   ],
   "source": [
    "inframe"
   ]
  },
  {
   "cell_type": "code",
   "execution_count": null,
   "metadata": {
    "collapsed": true
   },
   "outputs": [],
   "source": [
    "adjframe = "
   ]
  },
  {
   "cell_type": "markdown",
   "metadata": {},
   "source": [
    "### Visualization"
   ]
  },
  {
   "cell_type": "markdown",
   "metadata": {},
   "source": [
    "## Milestone 3: Video and finishing touches"
   ]
  },
  {
   "cell_type": "markdown",
   "metadata": {},
   "source": [
    "### Screencast video"
   ]
  },
  {
   "cell_type": "markdown",
   "metadata": {},
   "source": [
    "### Website"
   ]
  },
  {
   "cell_type": "markdown",
   "metadata": {},
   "source": [
    "### Finishing touches"
   ]
  },
  {
   "cell_type": "code",
   "execution_count": null,
   "metadata": {
    "collapsed": true
   },
   "outputs": [],
   "source": []
  }
 ],
 "metadata": {
  "kernelspec": {
   "display_name": "Python 2",
   "language": "python",
   "name": "python2"
  },
  "language_info": {
   "codemirror_mode": {
    "name": "ipython",
    "version": 2
   },
   "file_extension": ".py",
   "mimetype": "text/x-python",
   "name": "python",
   "nbconvert_exporter": "python",
   "pygments_lexer": "ipython2",
   "version": "2.7.10"
  }
 },
 "nbformat": 4,
 "nbformat_minor": 0
}
